{
 "cells": [
  {
   "cell_type": "code",
   "execution_count": 2,
   "metadata": {},
   "outputs": [],
   "source": [
    "from typing import Any, List\n",
    "import os, pathlib, glob\n",
    "\n",
    "from moddipic.core.data.abstract import Representation\n",
    "\n",
    "try:\n",
    "    from moddipic.modules.rdkit.representations import RDKitMolRep\n",
    "    from rdkit import Chem\n",
    "except: print(\"Warning: Failed to load rdkit inside cuby4\") \n",
    "# TODO: This doesn't work... Find another method to not import everything.\n",
    "\n",
    "CUBY4_TMP_PATH = \".\"\n",
    "\n",
    "class Cuby4InputMoleculeRep(Representation):\n",
    "    rep_name = \"cuby4_geometry\"\n",
    "\n",
    "    def __init__(self, geometry_path: str, charge: int, setpi: List[str],\n",
    "                 setcharge: List[str], cvb: List[str]):\n",
    "        self.geometry_path: str = geometry_path # NOTE: Not saved right away.\n",
    "        self.charge: int = charge\n",
    "        self.setpi: List[str] = setpi\n",
    "        self.setcharge: List[str] = setcharge\n",
    "        self.cvb: List[str] = cvb\n",
    "    \n",
    "    @classmethod \n",
    "    def from_RDKitMolRep(cls, rdmol_rep: RDKitMolRep):\n",
    "        rdmol: Chem.Mol = Chem.Mol(rdmol_rep.data)\n",
    "        charge = Chem.GetFormalCharge(rdmol)\n",
    "        setpi = cls.rdmol_to_setpi(rdmol)\n",
    "        setcharge = cls.rdmol_to_setcharge(rdmol)\n",
    "        cvb = cls.rdmol_to_cvb(rdmol)\n",
    "        geometry_path = cls.get_filename() + \".sdf\" # TODO: Fix this...\n",
    "        return cls(geometry_path, charge, setpi, setcharge, cvb)\n",
    "\n",
    "    @staticmethod\n",
    "    def get_filename():\n",
    "        while True:\n",
    "            prefix = \"CB4_Geom_\"\n",
    "            rand_str = Representation.get_filename()\n",
    "            full_prefix = os.path.join(\n",
    "                str(pathlib.Path(CUBY4_TMP_PATH).absolute()),\n",
    "                prefix+rand_str\n",
    "            )\n",
    "            if not glob.glob(full_prefix+\"*\"):\n",
    "                return full_prefix\n",
    "\n",
    "    @staticmethod\n",
    "    def rdmol_to_setpi(rdmol: Chem.Mol) -> List[str]:\n",
    "        setpi = []\n",
    "        no_res_mol = Chem.Mol(rdmol)\n",
    "        Chem.Kekulize(no_res_mol)\n",
    "        for bond in no_res_mol.GetBonds():\n",
    "            if bond.GetBondType() == Chem.BondType.DOUBLE or \\\n",
    "                bond.GetBondType() == Chem.BondType.TRIPLE:\n",
    "                setpi.append(f\"{bond.GetBeginAtom().GetIdx()+1};{bond.GetEndAtom().GetIdx()+1}\")\n",
    "            if bond.GetBondType() == Chem.BondType.TRIPLE:\n",
    "                setpi.append(f\"{bond.GetBeginAtom().GetIdx()+1};{bond.GetEndAtom().GetIdx()+1}\")\n",
    "        return setpi\n",
    "    \n",
    "    @staticmethod\n",
    "    def rdmol_to_setcharge(rdmol: Chem.Mol) -> List[str]:\n",
    "        def helper(x):\n",
    "            if x == 0: return str(x)\n",
    "            if x > 0:\n",
    "                return str(\"'+'\") * x\n",
    "            if x < 0:\n",
    "                return str(\"'-'\") * (-x)\n",
    "        setcharge = [f\"{a.GetIdx()+1}: {helper(a.GetFormalCharge())}\" \n",
    "                    for a in rdmol.GetAtoms()]\n",
    "        return setcharge\n",
    "    \n",
    "    @staticmethod\n",
    "    def rdmol_to_cvb(rdmol: Chem.Mol) -> Any:\n",
    "        cvb_list = []\n",
    "        for atom1 in range(rdmol.GetNumAtoms()):\n",
    "            for atom2 in range(atom1+1,rdmol.GetNumAtoms()):\n",
    "                if not rdmol.GetBondBetweenAtoms(atom1, atom2):\n",
    "                    if rdmol.GetAtomWithIdx(atom1).GetSymbol() == \"O\" and \\\n",
    "                        rdmol.GetAtomWithIdx(atom2).GetSymbol() == \"O\":\n",
    "                        cvb_list.append(f\"{atom1+1}:-{atom2+1}\")\n",
    "\n",
    "        return cvb_list\n",
    "    \n",
    "    def __repr__(self) -> str:\n",
    "        repr_text = f\"<Cuby4InputMoleculeRep(path='{self.geometry_path}', \" + \\\n",
    "            f\"charge={self.charge})>\"\n",
    "        return repr_text\n",
    "        "
   ]
  },
  {
   "cell_type": "code",
   "execution_count": 3,
   "metadata": {},
   "outputs": [
    {
     "data": {
      "image/png": "[encoded data removed]",
      "text/plain": [
       "<rdkit.Chem.rdchem.Mol at 0x7f84797085f0>"
      ]
     },
     "execution_count": 3,
     "metadata": {},
     "output_type": "execute_result"
    }
   ],
   "source": [
    "from rdkit import Chem\n",
    "from rdkit.Chem.Draw import IPythonConsole\n",
    "IPythonConsole.drawOptions.addAtomIndices = True\n",
    "\n",
    "rdmol = Chem.MolFromSmiles(\"COCCOCC=CC[NH2+]C(C)(C)C\")\n",
    "rdmol"
   ]
  },
  {
   "cell_type": "code",
   "execution_count": 4,
   "metadata": {},
   "outputs": [
    {
     "data": {
      "text/plain": [
       "<Cuby4InputMoleculeRep(path='/home/arazthexd/projects/002_sqm/CB4_Geom_1PX182.sdf', charge=1)>"
      ]
     },
     "execution_count": 4,
     "metadata": {},
     "output_type": "execute_result"
    }
   ],
   "source": [
    "Cuby4InputMoleculeRep.from_RDKitMolRep(RDKitMolRep(rdmol))"
   ]
  },
  {
   "cell_type": "code",
   "execution_count": 3,
   "metadata": {},
   "outputs": [
    {
     "data": {
      "text/plain": [
       "<openff.toolkit.topology.topology.Topology at 0x7f5533732770>"
      ]
     },
     "execution_count": 3,
     "metadata": {},
     "output_type": "execute_result"
    }
   ],
   "source": [
    "from openff.toolkit import Topology\n",
    "\n",
    "Topology.from_pdb(\"/home/arazthexd/projects/002_sqm/data/tmp/protein_clean.pdb\")"
   ]
  },
  {
   "cell_type": "code",
   "execution_count": 3,
   "metadata": {},
   "outputs": [],
   "source": [
    "path1 = \"/home/arazthexd/projects/002_sqm/data/targets/kguD.pdb\"\n",
    "path2 = \"/home/arazthexd/projects/002_sqm/tests/modules/rdkit/files/rec.pdb\"\n",
    "path3 = \"/home/arazthexd/projects/002_sqm/data/tmp/protein_clean.pdb\""
   ]
  },
  {
   "cell_type": "code",
   "execution_count": null,
   "metadata": {},
   "outputs": [],
   "source": [
    "# 1\n",
    "from Bio.PDB import "
   ]
  },
  {
   "cell_type": "code",
   "execution_count": 7,
   "metadata": {},
   "outputs": [],
   "source": [
    "t = True\n",
    "try:\n",
    "    from rdkit import Chem\n",
    "    from rdkit.Chem import rdDistGeom\n",
    "except:\n",
    "    pass\n",
    "\n",
    "class A:\n",
    "    aa = 1\n",
    "\n",
    "    if t:\n",
    "        @classmethod\n",
    "        def hi(cls):\n",
    "            print(\"hi\")\n",
    "    else:\n",
    "        @classmethod\n",
    "        def hi(cls):\n",
    "            print(\"bye\")"
   ]
  },
  {
   "cell_type": "code",
   "execution_count": 27,
   "metadata": {},
   "outputs": [
    {
     "name": "stdout",
     "output_type": "stream",
     "text": [
      "HETATM    1  C1  UNL     1      -2.041   0.027   0.004  1.00  0.00           C  \n",
      "HETATM    2  C2  UNL     1      -0.968  -0.483  -0.908  1.00  0.00           C  \n",
      "HETATM    3  C3  UNL     1       0.382  -0.646  -0.273  1.00  0.00           C  \n",
      "HETATM    4  C4  UNL     1       0.921   0.644   0.311  1.00  0.00           C  \n",
      "HETATM    5  C5  UNL     1       2.268   0.303   0.900  1.00  0.00           C  \n",
      "HETATM    6  O1  UNL     1       3.040  -0.381   0.174  1.00  0.00           O  \n",
      "HETATM    7  O2  UNL     1       2.649   0.710   2.178  1.00  0.00           O1-\n",
      "HETATM    8  H1  UNL     1      -2.202  -0.760   0.799  1.00  0.00           H  \n",
      "HETATM    9  H2  UNL     1      -2.955   0.140  -0.637  1.00  0.00           H  \n",
      "HETATM   10  H3  UNL     1      -1.785   1.009   0.445  1.00  0.00           H  \n",
      "HETATM   11  H4  UNL     1      -1.287  -1.527  -1.216  1.00  0.00           H  \n",
      "HETATM   12  H5  UNL     1      -0.894   0.088  -1.856  1.00  0.00           H  \n",
      "HETATM   13  H6  UNL     1       0.340  -1.398   0.547  1.00  0.00           H  \n",
      "HETATM   14  H7  UNL     1       1.079  -0.974  -1.068  1.00  0.00           H  \n",
      "HETATM   15  H8  UNL     1       1.126   1.353  -0.514  1.00  0.00           H  \n",
      "HETATM   16  H9  UNL     1       0.327   1.062   1.113  1.00  0.00           H  \n",
      "CONECT    1    2    8    9   10\n",
      "CONECT    2    3   11   12\n",
      "CONECT    3    4   13   14\n",
      "CONECT    4    5   15   16\n",
      "CONECT    5    6    6    7\n",
      "END\n",
      "\n"
     ]
    }
   ],
   "source": [
    "mol = Chem.MolFromSmiles(\"CCCCC(=O)[O-]\")\n",
    "mol = Chem.AddHs(mol)\n",
    "rdDistGeom.EmbedMolecule(mol)\n",
    "# [l.split() for l in Chem.MolToXYZBlock(mol).split(\"\\n\")[2:-1]]\n",
    "print(Chem.MolToPDBBlock(mol))"
   ]
  },
  {
   "cell_type": "code",
   "execution_count": 29,
   "metadata": {},
   "outputs": [],
   "source": [
    "from moddipic.modules.mopac.representations import MOPACInputRep\n",
    "from moddipic.modules.rdkit.representations import RDKitMolRep"
   ]
  },
  {
   "cell_type": "code",
   "execution_count": 31,
   "metadata": {},
   "outputs": [],
   "source": [
    "rep = MOPACInputRep.from_RDKitMolRep(RDKitMolRep(mol))"
   ]
  },
  {
   "cell_type": "code",
   "execution_count": 33,
   "metadata": {},
   "outputs": [
    {
     "name": "stdout",
     "output_type": "stream",
     "text": [
      "HETATM    1  C1  UNL     1      -2.041   0.027   0.004  1.00  0.00           C  \n",
      "HETATM    2  C2  UNL     1      -0.968  -0.483  -0.908  1.00  0.00           C  \n",
      "HETATM    3  C3  UNL     1       0.382  -0.646  -0.273  1.00  0.00           C  \n",
      "HETATM    4  C4  UNL     1       0.921   0.644   0.311  1.00  0.00           C  \n",
      "HETATM    5  C5  UNL     1       2.268   0.303   0.900  1.00  0.00           C  \n",
      "HETATM    6  O1  UNL     1       3.040  -0.381   0.174  1.00  0.00           O  \n",
      "HETATM    7  O2  UNL     1       2.649   0.710   2.178  1.00  0.00           O1-\n",
      "HETATM    8  H1  UNL     1      -2.202  -0.760   0.799  1.00  0.00           H  \n",
      "HETATM    9  H2  UNL     1      -2.955   0.140  -0.637  1.00  0.00           H  \n",
      "HETATM   10  H3  UNL     1      -1.785   1.009   0.445  1.00  0.00           H  \n",
      "HETATM   11  H4  UNL     1      -1.287  -1.527  -1.216  1.00  0.00           H  \n",
      "HETATM   12  H5  UNL     1      -0.894   0.088  -1.856  1.00  0.00           H  \n",
      "HETATM   13  H6  UNL     1       0.340  -1.398   0.547  1.00  0.00           H  \n",
      "HETATM   14  H7  UNL     1       1.079  -0.974  -1.068  1.00  0.00           H  \n",
      "HETATM   15  H8  UNL     1       1.126   1.353  -0.514  1.00  0.00           H  \n",
      "HETATM   16  H9  UNL     1       0.327   1.062   1.113  1.00  0.00           H  \n",
      "CONECT    1    2    8    9   10\n",
      "CONECT    2    3   11   12\n",
      "CONECT    3    4   13   14\n",
      "CONECT    4    5   15   16\n",
      "CONECT    5    6    6    7\n",
      "END\n",
      "\n"
     ]
    }
   ],
   "source": [
    "print(rep.coordinates)"
   ]
  }
 ],
 "metadata": {
  "kernelspec": {
   "display_name": "sqmvscreen2",
   "language": "python",
   "name": "python3"
  },
  "language_info": {
   "codemirror_mode": {
    "name": "ipython",
    "version": 3
   },
   "file_extension": ".py",
   "mimetype": "text/x-python",
   "name": "python",
   "nbconvert_exporter": "python",
   "pygments_lexer": "ipython3",
   "version": "3.10.14"
  }
 },
 "nbformat": 4,
 "nbformat_minor": 2
}
