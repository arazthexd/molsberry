{
 "cells": [
  {
   "cell_type": "code",
   "execution_count": 1,
   "metadata": {},
   "outputs": [],
   "source": [
    "from molsberry.modules.openmm.representations import OpenMMInputMolRep\n",
    "from molsberry.modules.openmm.energy import OpenMMEnergyCalculator\n",
    "from molsberry.modules.rdkit import RDKitMolRep\n",
    "from molsberry.core import PDBPathRep\n",
    "\n",
    "from rdkit import Chem"
   ]
  },
  {
   "cell_type": "code",
   "execution_count": 2,
   "metadata": {},
   "outputs": [],
   "source": [
    "pdb_rep = PDBPathRep(\"/home/arazthexd/projects/002_sqm/data/targets/kguD.pdb\")"
   ]
  },
  {
   "cell_type": "code",
   "execution_count": 3,
   "metadata": {},
   "outputs": [],
   "source": [
    "rep = OpenMMInputMolRep.from_PDBPathRep(pdb_rep)"
   ]
  },
  {
   "cell_type": "code",
   "execution_count": 4,
   "metadata": {},
   "outputs": [
    {
     "data": {
      "text/plain": [
       "19043.157311288167"
      ]
     },
     "execution_count": 4,
     "metadata": {},
     "output_type": "execute_result"
    }
   ],
   "source": [
    "OpenMMEnergyCalculator().calc_energy(rep)"
   ]
  },
  {
   "cell_type": "code",
   "execution_count": 3,
   "metadata": {},
   "outputs": [
    {
     "name": "stderr",
     "output_type": "stream",
     "text": [
      "/home/arazthexd/miniforge3/envs/sqmvscreen2/lib/python3.10/site-packages/espaloma_charge/openff_wrapper.py:112: IncorrectNumConformersWarning: Molecule 'Molecule with name '4K77' and SMILES '[H][C]1=[C]([H])[N]([H])[C](=[O])[c]2[n][c]([H])[n][c]([N]([H])[C]3([H])[C]([H])([H])[C]([H])([H])[C]([H])([H])[C]([H])([H])[C]3([H])[H])[c]21'' has 1 conformers, but charge method 'espaloma-am1bcc' expects exactly 0.\n",
      "  self._check_n_conformers(\n",
      "/home/arazthexd/miniforge3/envs/sqmvscreen2/lib/python3.10/site-packages/dgl/heterograph.py:92: DGLWarning: Recommend creating graphs by `dgl.graph(data)` instead of `dgl.DGLGraph(data)`.\n",
      "  dgl_warning(\n"
     ]
    },
    {
     "data": {
      "application/vnd.jupyter.widget-view+json": {
       "model_id": "5ac290e4c8e148a491d65c2b68529f30",
       "version_major": 2,
       "version_minor": 0
      },
      "text/plain": []
     },
     "metadata": {},
     "output_type": "display_data"
    },
    {
     "ename": "TypeError",
     "evalue": "Can't instantiate abstract class OpenMMInputMolRep with abstract method update_coordinates",
     "output_type": "error",
     "traceback": [
      "\u001b[0;31m---------------------------------------------------------------------------\u001b[0m",
      "\u001b[0;31mTypeError\u001b[0m                                 Traceback (most recent call last)",
      "Cell \u001b[0;32mIn[3], line 1\u001b[0m\n\u001b[0;32m----> 1\u001b[0m \u001b[43mOpenMMInputMolRep\u001b[49m\u001b[38;5;241;43m.\u001b[39;49m\u001b[43mfrom_RDKitMolRep\u001b[49m\u001b[43m(\u001b[49m\u001b[43mrdkit_rep\u001b[49m\u001b[43m)\u001b[49m\n",
      "File \u001b[0;32m~/projects/002_sqm/molsberry/modules/openmm/representations.py:62\u001b[0m, in \u001b[0;36mOpenMMInputMolRep.from_RDKitMolRep\u001b[0;34m(cls, rdkit_srep)\u001b[0m\n\u001b[1;32m     59\u001b[0m forcefield\u001b[38;5;241m.\u001b[39mregisterTemplateGenerator(smirnoff\u001b[38;5;241m.\u001b[39mgenerator)\n\u001b[1;32m     60\u001b[0m system \u001b[38;5;241m=\u001b[39m forcefield\u001b[38;5;241m.\u001b[39mcreateSystem(topology)\n\u001b[0;32m---> 62\u001b[0m \u001b[38;5;28;01mreturn\u001b[39;00m \u001b[38;5;28;43mcls\u001b[39;49m\u001b[43m(\u001b[49m\u001b[43mtopology\u001b[49m\u001b[38;5;241;43m=\u001b[39;49m\u001b[43mtopology\u001b[49m\u001b[43m,\u001b[49m\u001b[43m \u001b[49m\n\u001b[1;32m     63\u001b[0m \u001b[43m           \u001b[49m\u001b[43msystem\u001b[49m\u001b[38;5;241;43m=\u001b[39;49m\u001b[43msystem\u001b[49m\u001b[43m,\u001b[49m\u001b[43m \u001b[49m\n\u001b[1;32m     64\u001b[0m \u001b[43m           \u001b[49m\u001b[43mpositions\u001b[49m\u001b[38;5;241;43m=\u001b[39;49m\u001b[43mpositions\u001b[49m\u001b[43m,\u001b[49m\u001b[43m \u001b[49m\n\u001b[1;32m     65\u001b[0m \u001b[43m           \u001b[49m\u001b[43mforcefield\u001b[49m\u001b[38;5;241;43m=\u001b[39;49m\u001b[43mforcefield\u001b[49m\u001b[43m)\u001b[49m\n",
      "\u001b[0;31mTypeError\u001b[0m: Can't instantiate abstract class OpenMMInputMolRep with abstract method update_coordinates"
     ]
    }
   ],
   "source": [
    "OpenMMInputMolRep.from_RDKitMolRep(rdkit_rep)"
   ]
  }
 ],
 "metadata": {
  "kernelspec": {
   "display_name": "sqmvscreen2",
   "language": "python",
   "name": "python3"
  },
  "language_info": {
   "codemirror_mode": {
    "name": "ipython",
    "version": 3
   },
   "file_extension": ".py",
   "mimetype": "text/x-python",
   "name": "python",
   "nbconvert_exporter": "python",
   "pygments_lexer": "ipython3",
   "version": "3.10.14"
  }
 },
 "nbformat": 4,
 "nbformat_minor": 2
}
