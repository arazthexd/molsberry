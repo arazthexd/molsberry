{
 "cells": [
  {
   "cell_type": "code",
   "execution_count": 1,
   "metadata": {},
   "outputs": [],
   "source": [
    "from src_new.rdkit.enumerators import *\n",
    "from src_new.core.pipeline import Pipeline, OutputBlock\n",
    "from src_new.core.data import Batched\n",
    "\n",
    "from rdkit import Chem\n",
    "from rdkit.Chem import AllChem"
   ]
  },
  {
   "cell_type": "code",
   "execution_count": 2,
   "metadata": {},
   "outputs": [],
   "source": [
    "class MyPipe(Pipeline):\n",
    "    name = \"mypipe\"\n",
    "    def build(self):\n",
    "        self.add_block(RDKitTautEnumerator(flatten=False), \"tautenum\")\n",
    "        self.add_block(RDKitStereoEnumerator(flatten=True), \"stereoenum\")\n",
    "        self.add_block(RDKitRingEnumerator(flatten=True), \"ringenum\")\n",
    "        self.add_block(OutputBlock([\"ligands\"]), \"output\")\n",
    "        self.add_connection(\"tautenum\", \"ligands\", \"stereoenum\", \"ligands\")\n",
    "        self.add_connection(\"stereoenum\", \"ligands\", \"ringenum\", \"ligands\")\n",
    "        self.add_connection(\"ringenum\", \"ligands\", \"output\", \"ligands\")\n",
    "        "
   ]
  },
  {
   "cell_type": "code",
   "execution_count": 3,
   "metadata": {},
   "outputs": [],
   "source": [
    "pipe = MyPipe(base_dir=\"testtttt\", save=True)"
   ]
  },
  {
   "cell_type": "code",
   "execution_count": 4,
   "metadata": {},
   "outputs": [
    {
     "name": "stdout",
     "output_type": "stream",
     "text": [
      "\n",
      ">>>>>>>>>>>>>>>>>>>>>>>>>>>>>>>>>>>>>>>>>>>>>>>>>>>>>>>\n",
      ">>                 STARTED: mypipe                   >>\n",
      ">>>>>>>>>>>>>>>>>>>>>>>>>>>>>>>>>>>>>>>>>>>>>>>>>>>>>>>\n",
      "\n",
      "[Running Pipe Block: (tautenum) RDKIT Tautomer Enumerator]\n",
      "<class 'rdkit.Chem.rdchem.Mol'>\n"
     ]
    },
    {
     "name": "stderr",
     "output_type": "stream",
     "text": [
      "  0%|          | 0/1 [00:00<?, ?it/s][23:30:36] Tautomer enumeration stopped at 4 tautomers: max tautomers reached\n",
      "[23:30:36] Molecule does not have explicit Hs. Consider calling AddHs()\n",
      "[23:30:36] Molecule does not have explicit Hs. Consider calling AddHs()\n",
      "[23:30:36] Molecule does not have explicit Hs. Consider calling AddHs()\n",
      "[23:30:36] Molecule does not have explicit Hs. Consider calling AddHs()\n",
      "100%|██████████| 1/1 [00:00<00:00, 15.34it/s]\n"
     ]
    },
    {
     "name": "stdout",
     "output_type": "stream",
     "text": [
      "\n",
      "[Running Pipe Block: (stereoenum) RDKIT Stereoisomer Enumerator]\n",
      "<class 'rdkit.Chem.rdchem.Mol'>\n"
     ]
    },
    {
     "name": "stderr",
     "output_type": "stream",
     "text": [
      "100%|██████████| 1/1 [00:00<00:00,  1.56it/s]\n"
     ]
    },
    {
     "name": "stdout",
     "output_type": "stream",
     "text": [
      "\n",
      "[Running Pipe Block: (ringenum) RDKIT Ring Conformation Enumerator]\n",
      "<class 'rdkit.Chem.rdchem.Mol'>\n"
     ]
    },
    {
     "name": "stderr",
     "output_type": "stream",
     "text": [
      "100%|██████████| 1/1 [00:07<00:00,  7.83s/it]"
     ]
    },
    {
     "name": "stdout",
     "output_type": "stream",
     "text": [
      "\n",
      "[Running Pipe Block: (output) Output Block]\n",
      "\n",
      "<<<<<<<<<<<<<<<<<<<<<<<<<<<<<<<<<<<<<<<<<<<<<<<<<<<<<<<\n",
      "<<                  ENDED: mypipe                    <<\n",
      "<<<<<<<<<<<<<<<<<<<<<<<<<<<<<<<<<<<<<<<<<<<<<<<<<<<<<<<\n"
     ]
    },
    {
     "name": "stderr",
     "output_type": "stream",
     "text": [
      "\n"
     ]
    },
    {
     "data": {
      "text/plain": [
       "{'ligands': <src_new.core.data.Batched at 0x7f64f12fee90>}"
      ]
     },
     "execution_count": 4,
     "metadata": {},
     "output_type": "execute_result"
    }
   ],
   "source": [
    "mol = Chem.MolFromSmiles(\"CCC(=O)CCC(=O)C=CCC1CCCCC1\")\n",
    "mol = Chem.AddHs(mol)\n",
    "AllChem.EmbedMolecule(mol)\n",
    "pipe.execute(ligands=Batched([mol]))"
   ]
  },
  {
   "cell_type": "code",
   "execution_count": null,
   "metadata": {},
   "outputs": [
    {
     "data": {
      "text/plain": [
       "[<rdkit.Chem.rdchem.Mol at 0x7f626e2c2fc0>,\n",
       " <rdkit.Chem.rdchem.Mol at 0x7f626e2c3a60>]"
      ]
     },
     "execution_count": 15,
     "metadata": {},
     "output_type": "execute_result"
    }
   ],
   "source": [
    "pipe._output[\"ligands\"].data[0].data[0].data[0].data"
   ]
  },
  {
   "cell_type": "code",
   "execution_count": null,
   "metadata": {},
   "outputs": [
    {
     "data": {
      "text/plain": [
       "[<rdkit.Chem.rdchem.Mol at 0x7f626e2c2fc0>,\n",
       " <rdkit.Chem.rdchem.Mol at 0x7f626e2c3a60>]"
      ]
     },
     "execution_count": 16,
     "metadata": {},
     "output_type": "execute_result"
    }
   ],
   "source": [
    "pipe._output[\"ligands\"].flatten().data[0].data[0].data[0].data"
   ]
  }
 ],
 "metadata": {
  "kernelspec": {
   "display_name": "sqmvscreen2",
   "language": "python",
   "name": "python3"
  },
  "language_info": {
   "codemirror_mode": {
    "name": "ipython",
    "version": 3
   },
   "file_extension": ".py",
   "mimetype": "text/x-python",
   "name": "python",
   "nbconvert_exporter": "python",
   "pygments_lexer": "ipython3",
   "version": "3.10.14"
  }
 },
 "nbformat": 4,
 "nbformat_minor": 2
}
