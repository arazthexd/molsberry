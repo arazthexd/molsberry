{
 "cells": [
  {
   "cell_type": "code",
   "execution_count": 1,
   "metadata": {},
   "outputs": [],
   "source": [
    "import sys\n",
    "sys.path.append(\"..\")\n",
    "\n",
    "from molsberry.core import Pipeline, InputBlock, OutputBlock\n",
    "from molsberry.core import SDFPathRep, PDBPathRep\n",
    "from molsberry.core import LigandData, ProteinData\n",
    "\n",
    "from molsberry.modules.mopac import MOPACMozymeConfig\n",
    "from molsberry.modules.mopac import (\n",
    "    MOPACSinglePointCalculator, MOPACPLInteractionCalculator,\n",
    "    MOPACLigandOptimizer\n",
    ")"
   ]
  },
  {
   "cell_type": "code",
   "execution_count": 2,
   "metadata": {},
   "outputs": [],
   "source": [
    "class BindingEnergyCalcPipe(Pipeline):\n",
    "    name = \"bindenpipe\"\n",
    "    display_name = \"Binding Energy Calculation Pipeline\"\n",
    "    def build(self):\n",
    "        config = MOPACMozymeConfig()\n",
    "        config.keywords.extend([\"PM6-D3H4X\", \"EPS=78.5\", \"VDW(C=1.821;N=1.904;O=1.682;H=0.828)\", \"NOMM\"])\n",
    "        self.add_block(InputBlock([\"ligand\", \"protein\"]), \"input\")\n",
    "        self.add_block(MOPACPLInteractionCalculator(config), \"intercalc\")\n",
    "        self.add_block(MOPACLigandOptimizer(config, \"LBFGS\"), \"ligopt\")\n",
    "        self.add_block(OutputBlock([\"e_lig_init\", \"e_lig_opt\", \"e_interaction\"]), \"output\")\n",
    "        self.add_connection(\"input\", \"ligand\", \"intercalc\", \"ligands\")\n",
    "        self.add_connection(\"input\", \"protein\", \"intercalc\", \"proteins\")\n",
    "        self.add_connection(\"input\", \"ligand\", \"ligopt\", \"ligands\")\n",
    "        self.add_connection(\"intercalc\", \"e_interaction\", \"output\", \"e_interaction\")\n",
    "        self.add_connection(\"ligopt\", \"e_init\", \"output\", \"e_lig_init\")\n",
    "        self.add_connection(\"ligopt\", \"e_final\", \"output\", \"e_lig_opt\")"
   ]
  },
  {
   "cell_type": "code",
   "execution_count": 3,
   "metadata": {},
   "outputs": [],
   "source": [
    "ligdata = LigandData(SDFPathRep(\"lig.sdf\"))\n",
    "pocdata = ProteinData(PDBPathRep(\"poc.pdb\"))"
   ]
  },
  {
   "cell_type": "code",
   "execution_count": 6,
   "metadata": {},
   "outputs": [
    {
     "name": "stdout",
     "output_type": "stream",
     "text": [
      "\n",
      ">>>>>>>>>>>>>>>>>>>>>>>>>>>>>>>>>>>>>>>>>>>>>>>>>>>>>>>\n",
      ">>   STARTED: Binding Energy Calculation Pipeline    >>\n",
      ">>>>>>>>>>>>>>>>>>>>>>>>>>>>>>>>>>>>>>>>>>>>>>>>>>>>>>>\n",
      "\n",
      "[Running Pipe Block: (intercalc) MOPAC Protein Ligand Interaction Calculator]\n",
      "<class 'molsberry.core.data.molecules.LigandData'>\n",
      "<molsberry.core.data.molecules.LigandData object at 0x7f5262e73490> <class 'molsberry.core.data.molecules.LigandData'>\n",
      "<class 'molsberry.modules.mopac.representations.MOPACInputMolRep'>\n",
      "<class 'molsberry.core.data.molecules.ProteinData'>\n",
      "<molsberry.core.data.molecules.ProteinData object at 0x7f5262e73910> <class 'molsberry.core.data.molecules.ProteinData'>\n",
      "<class 'molsberry.modules.mopac.representations.MOPACInputMolRep'>\n"
     ]
    },
    {
     "ename": "FileNotFoundError",
     "evalue": "[Errno 2] No such file or directory: 'example1_out/9SFQTU.out'",
     "output_type": "error",
     "traceback": [
      "\u001b[0;31m---------------------------------------------------------------------------\u001b[0m",
      "\u001b[0;31mFileNotFoundError\u001b[0m                         Traceback (most recent call last)",
      "Cell \u001b[0;32mIn[6], line 2\u001b[0m\n\u001b[1;32m      1\u001b[0m pipeline \u001b[38;5;241m=\u001b[39m BindingEnergyCalcPipe(base_dir\u001b[38;5;241m=\u001b[39m\u001b[38;5;124m\"\u001b[39m\u001b[38;5;124m./example1_out\u001b[39m\u001b[38;5;124m\"\u001b[39m)\n\u001b[0;32m----> 2\u001b[0m out \u001b[38;5;241m=\u001b[39m \u001b[43mpipeline\u001b[49m\u001b[38;5;241;43m.\u001b[39;49m\u001b[43mexecute\u001b[49m\u001b[43m(\u001b[49m\u001b[43mligand\u001b[49m\u001b[38;5;241;43m=\u001b[39;49m\u001b[43mligdata\u001b[49m\u001b[43m,\u001b[49m\u001b[43m \u001b[49m\u001b[43mprotein\u001b[49m\u001b[38;5;241;43m=\u001b[39;49m\u001b[43mpocdata\u001b[49m\u001b[43m)\u001b[49m\n",
      "File \u001b[0;32m~/projects/002_sqm/examples/../molsberry/core/pipeline.py:418\u001b[0m, in \u001b[0;36mPipeline.execute\u001b[0;34m(self, **pipe_input)\u001b[0m\n\u001b[1;32m    416\u001b[0m \u001b[38;5;28;01mfor\u001b[39;00m block \u001b[38;5;129;01min\u001b[39;00m \u001b[38;5;28mself\u001b[39m\u001b[38;5;241m.\u001b[39m_blocks\u001b[38;5;241m.\u001b[39mvalues():\n\u001b[1;32m    417\u001b[0m     \u001b[38;5;28;01mif\u001b[39;00m block\u001b[38;5;241m.\u001b[39mforce_run:\n\u001b[0;32m--> 418\u001b[0m         \u001b[43mblock\u001b[49m\u001b[38;5;241;43m.\u001b[39;49m\u001b[43m_auto_execute\u001b[49m\u001b[43m(\u001b[49m\u001b[43m)\u001b[49m\n\u001b[1;32m    420\u001b[0m \u001b[38;5;28mprint\u001b[39m()\n\u001b[1;32m    421\u001b[0m \u001b[38;5;28mprint\u001b[39m(\u001b[38;5;124m\"\u001b[39m\u001b[38;5;124m<\u001b[39m\u001b[38;5;124m\"\u001b[39m\u001b[38;5;241m*\u001b[39ml)\n",
      "File \u001b[0;32m~/projects/002_sqm/examples/../molsberry/core/pipeline.py:141\u001b[0m, in \u001b[0;36mPipelineBlock._auto_execute\u001b[0;34m(self)\u001b[0m\n\u001b[1;32m    139\u001b[0m \u001b[38;5;28;01massert\u001b[39;00m \u001b[38;5;28misinstance\u001b[39m(\u001b[38;5;28mself\u001b[39m\u001b[38;5;241m.\u001b[39m_parent, Pipeline)\n\u001b[1;32m    140\u001b[0m \u001b[38;5;28;01massert\u001b[39;00m \u001b[38;5;28misinstance\u001b[39m(\u001b[38;5;28mself\u001b[39m\u001b[38;5;241m.\u001b[39m_name_in_parent, \u001b[38;5;28mstr\u001b[39m)\n\u001b[0;32m--> 141\u001b[0m block_input: Dict[\u001b[38;5;28mstr\u001b[39m, Data] \u001b[38;5;241m=\u001b[39m \u001b[38;5;28;43mself\u001b[39;49m\u001b[38;5;241;43m.\u001b[39;49m\u001b[43m_obtain_input_data\u001b[49m\u001b[43m(\u001b[49m\u001b[43m)\u001b[49m\n\u001b[1;32m    143\u001b[0m \u001b[38;5;66;03m# Do not execute if input is the same as last time and it has been\u001b[39;00m\n\u001b[1;32m    144\u001b[0m \u001b[38;5;66;03m# executed previously.\u001b[39;00m\n\u001b[1;32m    145\u001b[0m \u001b[38;5;66;03m# TODO: Figure out if repeating exes is because of the second part.\u001b[39;00m\n\u001b[1;32m    146\u001b[0m \u001b[38;5;28;01mif\u001b[39;00m \u001b[38;5;28mself\u001b[39m\u001b[38;5;241m.\u001b[39m_executed \u001b[38;5;129;01mand\u001b[39;00m \u001b[38;5;28mself\u001b[39m\u001b[38;5;241m.\u001b[39m_latest_input \u001b[38;5;241m==\u001b[39m block_input:\n\u001b[1;32m    147\u001b[0m     \u001b[38;5;66;03m# if self.save_output:\u001b[39;00m\n\u001b[1;32m    148\u001b[0m     \u001b[38;5;66;03m#     self.save() # TODO: Do we need another save here?\u001b[39;00m\n",
      "File \u001b[0;32m~/projects/002_sqm/examples/../molsberry/core/pipeline.py:166\u001b[0m, in \u001b[0;36mPipelineBlock._obtain_input_data\u001b[0;34m(self)\u001b[0m\n\u001b[1;32m    162\u001b[0m \u001b[38;5;250m\u001b[39m\u001b[38;5;124;03m\"\"\"Pre-execution steps in an automatic run of block in a pipeline.\"\"\"\u001b[39;00m\n\u001b[1;32m    164\u001b[0m \u001b[38;5;66;03m# Obtain incoming data from each of block's connections.\u001b[39;00m\n\u001b[1;32m    165\u001b[0m \u001b[38;5;66;03m# NOTE: values' type being `Data` is asserted in `get_data_from_source`\u001b[39;00m\n\u001b[0;32m--> 166\u001b[0m incoming_input: Dict[\u001b[38;5;28mstr\u001b[39m, Data] \u001b[38;5;241m=\u001b[39m {\n\u001b[1;32m    167\u001b[0m     name: connection\u001b[38;5;241m.\u001b[39mget_data_from_source() \n\u001b[1;32m    168\u001b[0m     \u001b[38;5;28;01mfor\u001b[39;00m name, connection \u001b[38;5;129;01min\u001b[39;00m \u001b[38;5;28mself\u001b[39m\u001b[38;5;241m.\u001b[39m_in_connections\u001b[38;5;241m.\u001b[39mitems()}\n\u001b[1;32m    170\u001b[0m \u001b[38;5;28;01mreturn\u001b[39;00m incoming_input\n",
      "File \u001b[0;32m~/projects/002_sqm/examples/../molsberry/core/pipeline.py:167\u001b[0m, in \u001b[0;36m<dictcomp>\u001b[0;34m(.0)\u001b[0m\n\u001b[1;32m    162\u001b[0m \u001b[38;5;250m\u001b[39m\u001b[38;5;124;03m\"\"\"Pre-execution steps in an automatic run of block in a pipeline.\"\"\"\u001b[39;00m\n\u001b[1;32m    164\u001b[0m \u001b[38;5;66;03m# Obtain incoming data from each of block's connections.\u001b[39;00m\n\u001b[1;32m    165\u001b[0m \u001b[38;5;66;03m# NOTE: values' type being `Data` is asserted in `get_data_from_source`\u001b[39;00m\n\u001b[1;32m    166\u001b[0m incoming_input: Dict[\u001b[38;5;28mstr\u001b[39m, Data] \u001b[38;5;241m=\u001b[39m {\n\u001b[0;32m--> 167\u001b[0m     name: \u001b[43mconnection\u001b[49m\u001b[38;5;241;43m.\u001b[39;49m\u001b[43mget_data_from_source\u001b[49m\u001b[43m(\u001b[49m\u001b[43m)\u001b[49m \n\u001b[1;32m    168\u001b[0m     \u001b[38;5;28;01mfor\u001b[39;00m name, connection \u001b[38;5;129;01min\u001b[39;00m \u001b[38;5;28mself\u001b[39m\u001b[38;5;241m.\u001b[39m_in_connections\u001b[38;5;241m.\u001b[39mitems()}\n\u001b[1;32m    170\u001b[0m \u001b[38;5;28;01mreturn\u001b[39;00m incoming_input\n",
      "File \u001b[0;32m~/projects/002_sqm/examples/../molsberry/core/pipeline.py:31\u001b[0m, in \u001b[0;36m_Connection.get_data_from_source\u001b[0;34m(self)\u001b[0m\n\u001b[1;32m     27\u001b[0m \u001b[38;5;28;01mdef\u001b[39;00m \u001b[38;5;21mget_data_from_source\u001b[39m(\u001b[38;5;28mself\u001b[39m) \u001b[38;5;241m-\u001b[39m\u001b[38;5;241m>\u001b[39m Data:\n\u001b[1;32m     28\u001b[0m     \n\u001b[1;32m     29\u001b[0m     \u001b[38;5;66;03m# Execute the source block and get return its output.\u001b[39;00m\n\u001b[1;32m     30\u001b[0m     \u001b[38;5;66;03m# NOTE: If it has been executed it won't be executed again.\u001b[39;00m\n\u001b[0;32m---> 31\u001b[0m     \u001b[38;5;28;43mself\u001b[39;49m\u001b[38;5;241;43m.\u001b[39;49m\u001b[43msource_block\u001b[49m\u001b[38;5;241;43m.\u001b[39;49m\u001b[43m_auto_execute\u001b[49m\u001b[43m(\u001b[49m\u001b[43m)\u001b[49m\n\u001b[1;32m     32\u001b[0m     data \u001b[38;5;241m=\u001b[39m \u001b[38;5;28mself\u001b[39m\u001b[38;5;241m.\u001b[39msource_block\u001b[38;5;241m.\u001b[39m_output[\u001b[38;5;28mself\u001b[39m\u001b[38;5;241m.\u001b[39msource_key]\n\u001b[1;32m     33\u001b[0m     \u001b[38;5;28;01massert\u001b[39;00m \u001b[38;5;28misinstance\u001b[39m(data, Data)\n",
      "File \u001b[0;32m~/projects/002_sqm/examples/../molsberry/core/pipeline.py:155\u001b[0m, in \u001b[0;36mPipelineBlock._auto_execute\u001b[0;34m(self)\u001b[0m\n\u001b[1;32m    153\u001b[0m \u001b[38;5;28mprint\u001b[39m()\n\u001b[1;32m    154\u001b[0m \u001b[38;5;28mprint\u001b[39m(\u001b[38;5;124mf\u001b[39m\u001b[38;5;124m\"\u001b[39m\u001b[38;5;124m[Running Pipe Block: (\u001b[39m\u001b[38;5;132;01m{\u001b[39;00m\u001b[38;5;28mself\u001b[39m\u001b[38;5;241m.\u001b[39m_name_in_parent\u001b[38;5;132;01m}\u001b[39;00m\u001b[38;5;124m) \u001b[39m\u001b[38;5;132;01m{\u001b[39;00m\u001b[38;5;28mself\u001b[39m\u001b[38;5;241m.\u001b[39mdisplay_name\u001b[38;5;132;01m}\u001b[39;00m\u001b[38;5;124m]\u001b[39m\u001b[38;5;124m\"\u001b[39m)\n\u001b[0;32m--> 155\u001b[0m \u001b[38;5;28;43mself\u001b[39;49m\u001b[38;5;241;43m.\u001b[39;49m\u001b[43m_carry_exe\u001b[49m\u001b[43m(\u001b[49m\u001b[43mblock_input\u001b[49m\u001b[43m)\u001b[49m\n\u001b[1;32m    156\u001b[0m \u001b[38;5;28mself\u001b[39m\u001b[38;5;241m.\u001b[39m_latest_input \u001b[38;5;241m=\u001b[39m block_input\n\u001b[1;32m    157\u001b[0m \u001b[38;5;28mself\u001b[39m\u001b[38;5;241m.\u001b[39m_executed \u001b[38;5;241m=\u001b[39m \u001b[38;5;28;01mTrue\u001b[39;00m\n",
      "File \u001b[0;32m~/projects/002_sqm/examples/../molsberry/core/pipeline.py:176\u001b[0m, in \u001b[0;36mPipelineBlock._carry_exe\u001b[0;34m(self, block_input)\u001b[0m\n\u001b[1;32m    173\u001b[0m \u001b[38;5;250m\u001b[39m\u001b[38;5;124;03m\"\"\"Carries the execution of `_auto_execute`\"\"\"\u001b[39;00m\n\u001b[1;32m    175\u001b[0m \u001b[38;5;66;03m# NOTE: This is separated to be able to modify it in inherited classes.\u001b[39;00m\n\u001b[0;32m--> 176\u001b[0m \u001b[38;5;28mself\u001b[39m\u001b[38;5;241m.\u001b[39moutput: Dict[\u001b[38;5;28mstr\u001b[39m, Data] \u001b[38;5;241m=\u001b[39m \u001b[38;5;28;43mself\u001b[39;49m\u001b[38;5;241;43m.\u001b[39;49m\u001b[43mexecute\u001b[49m\u001b[43m(\u001b[49m\u001b[38;5;241;43m*\u001b[39;49m\u001b[38;5;241;43m*\u001b[39;49m\u001b[43mblock_input\u001b[49m\u001b[43m)\u001b[49m\n",
      "File \u001b[0;32m~/projects/002_sqm/examples/../molsberry/core/templates/batchop.py:147\u001b[0m, in \u001b[0;36mBatchOperatorBlock.execute\u001b[0;34m(self, *args, **kwargs)\u001b[0m\n\u001b[1;32m    142\u001b[0m \u001b[38;5;28mself\u001b[39m\u001b[38;5;241m.\u001b[39mcontext_output: Dict[\u001b[38;5;28mstr\u001b[39m, Representation \u001b[38;5;241m|\u001b[39m List[Representation]]\n\u001b[1;32m    144\u001b[0m \u001b[38;5;66;03m# Apply operation on the batch input, with the context input saved as\u001b[39;00m\n\u001b[1;32m    145\u001b[0m \u001b[38;5;66;03m# the instance's attribute.\u001b[39;00m\n\u001b[1;32m    146\u001b[0m batch_output: Dict[\u001b[38;5;28mstr\u001b[39m, BatchedData] \u001b[38;5;241m=\u001b[39m \\\n\u001b[0;32m--> 147\u001b[0m     \u001b[38;5;28;43mself\u001b[39;49m\u001b[38;5;241;43m.\u001b[39;49m\u001b[43mapply_on_batch\u001b[49m\u001b[43m(\u001b[49m\u001b[38;5;28;43mself\u001b[39;49m\u001b[38;5;241;43m.\u001b[39;49m\u001b[43mbatch_input\u001b[49m\u001b[43m)\u001b[49m\n\u001b[1;32m    149\u001b[0m \u001b[38;5;66;03m# Wrap context output representations into context output data.\u001b[39;00m\n\u001b[1;32m    150\u001b[0m \u001b[38;5;28mself\u001b[39m\u001b[38;5;241m.\u001b[39mcontext_output \u001b[38;5;241m=\u001b[39m \u001b[38;5;28mself\u001b[39m\u001b[38;5;241m.\u001b[39mwrap_output(\u001b[38;5;28mself\u001b[39m\u001b[38;5;241m.\u001b[39mcontext_output)\n",
      "File \u001b[0;32m~/projects/002_sqm/examples/../molsberry/core/templates/batchop.py:203\u001b[0m, in \u001b[0;36mBatchOperatorBlock.apply_on_batch\u001b[0;34m(self, batch_input)\u001b[0m\n\u001b[1;32m    201\u001b[0m     \u001b[38;5;28;01mif\u001b[39;00m \u001b[38;5;28mself\u001b[39m\u001b[38;5;241m.\u001b[39mdebug: \u001b[38;5;28mprint\u001b[39m(pool\u001b[38;5;241m.\u001b[39mget_insights())\n\u001b[1;32m    202\u001b[0m \u001b[38;5;28;01melse\u001b[39;00m:\n\u001b[0;32m--> 203\u001b[0m     result_dicts \u001b[38;5;241m=\u001b[39m [\u001b[38;5;28mself\u001b[39m\u001b[38;5;241m.\u001b[39mpotinpmembers_to_result(\u001b[38;5;28mself\u001b[39m, pim) \n\u001b[1;32m    204\u001b[0m                     \u001b[38;5;28;01mfor\u001b[39;00m pim \u001b[38;5;129;01min\u001b[39;00m mixed_iter]\n\u001b[1;32m    206\u001b[0m \u001b[38;5;66;03m# Iterate over `result_dicts` + check + update batch_output\u001b[39;00m\n\u001b[1;32m    207\u001b[0m \u001b[38;5;28;01mfor\u001b[39;00m result_dict, potinpmembers \u001b[38;5;129;01min\u001b[39;00m \u001b[38;5;28mzip\u001b[39m(result_dicts, product(\u001b[38;5;241m*\u001b[39mindep_groups)):\n",
      "File \u001b[0;32m~/projects/002_sqm/examples/../molsberry/core/templates/batchop.py:203\u001b[0m, in \u001b[0;36m<listcomp>\u001b[0;34m(.0)\u001b[0m\n\u001b[1;32m    201\u001b[0m     \u001b[38;5;28;01mif\u001b[39;00m \u001b[38;5;28mself\u001b[39m\u001b[38;5;241m.\u001b[39mdebug: \u001b[38;5;28mprint\u001b[39m(pool\u001b[38;5;241m.\u001b[39mget_insights())\n\u001b[1;32m    202\u001b[0m \u001b[38;5;28;01melse\u001b[39;00m:\n\u001b[0;32m--> 203\u001b[0m     result_dicts \u001b[38;5;241m=\u001b[39m [\u001b[38;5;28;43mself\u001b[39;49m\u001b[38;5;241;43m.\u001b[39;49m\u001b[43mpotinpmembers_to_result\u001b[49m\u001b[43m(\u001b[49m\u001b[38;5;28;43mself\u001b[39;49m\u001b[43m,\u001b[49m\u001b[43m \u001b[49m\u001b[43mpim\u001b[49m\u001b[43m)\u001b[49m \n\u001b[1;32m    204\u001b[0m                     \u001b[38;5;28;01mfor\u001b[39;00m pim \u001b[38;5;129;01min\u001b[39;00m mixed_iter]\n\u001b[1;32m    206\u001b[0m \u001b[38;5;66;03m# Iterate over `result_dicts` + check + update batch_output\u001b[39;00m\n\u001b[1;32m    207\u001b[0m \u001b[38;5;28;01mfor\u001b[39;00m result_dict, potinpmembers \u001b[38;5;129;01min\u001b[39;00m \u001b[38;5;28mzip\u001b[39m(result_dicts, product(\u001b[38;5;241m*\u001b[39mindep_groups)):\n",
      "File \u001b[0;32m~/projects/002_sqm/examples/../molsberry/core/templates/batchop.py:244\u001b[0m, in \u001b[0;36mBatchOperatorBlock.potinpmembers_to_result\u001b[0;34m(block, potinpmembers)\u001b[0m\n\u001b[1;32m    241\u001b[0m \u001b[38;5;28;01mif\u001b[39;00m meets_crit:\n\u001b[1;32m    242\u001b[0m     unwrapped_input \u001b[38;5;241m=\u001b[39m block\u001b[38;5;241m.\u001b[39munwrap_input(pot_input)\n\u001b[1;32m    243\u001b[0m     result_dict: Dict[\u001b[38;5;28mstr\u001b[39m, Representation] \u001b[38;5;241m=\u001b[39m \\\n\u001b[0;32m--> 244\u001b[0m         \u001b[43mblock\u001b[49m\u001b[38;5;241;43m.\u001b[39;49m\u001b[43moperate\u001b[49m\u001b[43m(\u001b[49m\u001b[43munwrapped_input\u001b[49m\u001b[43m)\u001b[49m\n\u001b[1;32m    245\u001b[0m     result_dict: Dict[\u001b[38;5;28mstr\u001b[39m, Data] \u001b[38;5;241m=\u001b[39m block\u001b[38;5;241m.\u001b[39mwrap_output(result_dict)\n\u001b[1;32m    247\u001b[0m \u001b[38;5;66;03m# If not, repeat the process once again on the input until we reach\u001b[39;00m\n\u001b[1;32m    248\u001b[0m \u001b[38;5;66;03m# a potential input that meets the criteria.\u001b[39;00m\n\u001b[1;32m    249\u001b[0m \u001b[38;5;28;01melse\u001b[39;00m:\n\u001b[1;32m    250\u001b[0m     \u001b[38;5;66;03m# result_dict = None\u001b[39;00m\n",
      "File \u001b[0;32m~/projects/002_sqm/examples/../molsberry/modules/mopac/singlepoint.py:51\u001b[0m, in \u001b[0;36mMOPACSinglePointCalculator.operate\u001b[0;34m(self, input_dict)\u001b[0m\n\u001b[1;32m     47\u001b[0m mopac_input_keys \u001b[38;5;241m=\u001b[39m [k \u001b[38;5;28;01mfor\u001b[39;00m k \u001b[38;5;129;01min\u001b[39;00m \u001b[38;5;28mself\u001b[39m\u001b[38;5;241m.\u001b[39minput_keys\n\u001b[1;32m     48\u001b[0m                     \u001b[38;5;28;01mif\u001b[39;00m k \u001b[38;5;129;01min\u001b[39;00m \u001b[38;5;28mself\u001b[39m\u001b[38;5;241m.\u001b[39mpotential_mopac_input_keys]\n\u001b[1;32m     49\u001b[0m \u001b[38;5;28;01massert\u001b[39;00m \u001b[38;5;28mlen\u001b[39m(mopac_input_keys) \u001b[38;5;241m>\u001b[39m \u001b[38;5;241m0\u001b[39m\n\u001b[0;32m---> 51\u001b[0m result_dict \u001b[38;5;241m=\u001b[39m \u001b[38;5;28;43mself\u001b[39;49m\u001b[38;5;241;43m.\u001b[39;49m\u001b[43mrun_spc\u001b[49m\u001b[43m(\u001b[49m\u001b[43m[\u001b[49m\u001b[43minput_dict\u001b[49m\u001b[43m[\u001b[49m\u001b[43mk\u001b[49m\u001b[43m]\u001b[49m\u001b[43m \u001b[49m\u001b[38;5;28;43;01mfor\u001b[39;49;00m\u001b[43m \u001b[49m\u001b[43mk\u001b[49m\u001b[43m \u001b[49m\u001b[38;5;129;43;01min\u001b[39;49;00m\u001b[43m \u001b[49m\u001b[43mmopac_input_keys\u001b[49m\u001b[43m]\u001b[49m\u001b[43m)\u001b[49m\n\u001b[1;32m     52\u001b[0m \u001b[38;5;28;01mreturn\u001b[39;00m {k: \u001b[38;5;28mself\u001b[39m\u001b[38;5;241m.\u001b[39m_get_out_rep(k)(v) \u001b[38;5;28;01mfor\u001b[39;00m k, v \u001b[38;5;129;01min\u001b[39;00m result_dict\u001b[38;5;241m.\u001b[39mitems()}\n",
      "File \u001b[0;32m~/projects/002_sqm/examples/../molsberry/modules/mopac/singlepoint.py:114\u001b[0m, in \u001b[0;36mMOPACPLInteractionCalculator.run_spc\u001b[0;34m(self, reps)\u001b[0m\n\u001b[1;32m    112\u001b[0m \u001b[38;5;28;01massert\u001b[39;00m \u001b[38;5;28mlen\u001b[39m(reps) \u001b[38;5;241m==\u001b[39m \u001b[38;5;241m2\u001b[39m\n\u001b[1;32m    113\u001b[0m \u001b[38;5;28mself\u001b[39m\u001b[38;5;241m.\u001b[39mcalculator\u001b[38;5;241m.\u001b[39m_parent \u001b[38;5;241m=\u001b[39m \u001b[38;5;28mself\u001b[39m\u001b[38;5;241m.\u001b[39m_parent\n\u001b[0;32m--> 114\u001b[0m interaction_dict \u001b[38;5;241m=\u001b[39m \u001b[38;5;28;43mself\u001b[39;49m\u001b[38;5;241;43m.\u001b[39;49m\u001b[43mcalc_interaction\u001b[49m\u001b[43m(\u001b[49m\u001b[43mreps\u001b[49m\u001b[43m[\u001b[49m\u001b[38;5;241;43m0\u001b[39;49m\u001b[43m]\u001b[49m\u001b[43m,\u001b[49m\u001b[43m \u001b[49m\u001b[43mreps\u001b[49m\u001b[43m[\u001b[49m\u001b[38;5;241;43m1\u001b[39;49m\u001b[43m]\u001b[49m\u001b[43m)\u001b[49m\n\u001b[1;32m    115\u001b[0m \u001b[38;5;28;01mreturn\u001b[39;00m interaction_dict\n",
      "File \u001b[0;32m~/projects/002_sqm/examples/../molsberry/core/templates/jobs.py:75\u001b[0m, in \u001b[0;36mInteractionJob.calc_interaction\u001b[0;34m(self, mol1, mol2, *args, **kwargs)\u001b[0m\n\u001b[1;32m     74\u001b[0m \u001b[38;5;28;01mdef\u001b[39;00m \u001b[38;5;21mcalc_interaction\u001b[39m(\u001b[38;5;28mself\u001b[39m, mol1, mol2, \u001b[38;5;241m*\u001b[39margs, \u001b[38;5;241m*\u001b[39m\u001b[38;5;241m*\u001b[39mkwargs):\n\u001b[0;32m---> 75\u001b[0m     e1 \u001b[38;5;241m=\u001b[39m \u001b[38;5;28;43mself\u001b[39;49m\u001b[38;5;241;43m.\u001b[39;49m\u001b[43mcalc_energy\u001b[49m\u001b[43m(\u001b[49m\u001b[43mmol1\u001b[49m\u001b[43m,\u001b[49m\u001b[43m \u001b[49m\u001b[38;5;241;43m*\u001b[39;49m\u001b[43margs\u001b[49m\u001b[43m[\u001b[49m\u001b[38;5;241;43m2\u001b[39;49m\u001b[43m:\u001b[49m\u001b[43m]\u001b[49m\u001b[43m,\u001b[49m\u001b[43m \u001b[49m\u001b[38;5;241;43m*\u001b[39;49m\u001b[38;5;241;43m*\u001b[39;49m\u001b[43mkwargs\u001b[49m\u001b[43m)\u001b[49m\n\u001b[1;32m     76\u001b[0m     e2 \u001b[38;5;241m=\u001b[39m \u001b[38;5;28mself\u001b[39m\u001b[38;5;241m.\u001b[39mcalc_energy(mol2, \u001b[38;5;241m*\u001b[39margs[\u001b[38;5;241m2\u001b[39m:], \u001b[38;5;241m*\u001b[39m\u001b[38;5;241m*\u001b[39mkwargs)\n\u001b[1;32m     77\u001b[0m     merged \u001b[38;5;241m=\u001b[39m \u001b[38;5;28mself\u001b[39m\u001b[38;5;241m.\u001b[39mcombine_mols(mol1, mol2)\n",
      "File \u001b[0;32m~/projects/002_sqm/examples/../molsberry/core/templates/jobs.py:40\u001b[0m, in \u001b[0;36mEnergyJob.calc_energy\u001b[0;34m(self, mol, *args, **kwargs)\u001b[0m\n\u001b[1;32m     39\u001b[0m \u001b[38;5;28;01mdef\u001b[39;00m \u001b[38;5;21mcalc_energy\u001b[39m(\u001b[38;5;28mself\u001b[39m, mol, \u001b[38;5;241m*\u001b[39margs, \u001b[38;5;241m*\u001b[39m\u001b[38;5;241m*\u001b[39mkwargs):        \n\u001b[0;32m---> 40\u001b[0m     en \u001b[38;5;241m=\u001b[39m \u001b[38;5;28;43mself\u001b[39;49m\u001b[38;5;241;43m.\u001b[39;49m\u001b[43menergy_fn\u001b[49m\u001b[43m(\u001b[49m\u001b[43mmol\u001b[49m\u001b[43m,\u001b[49m\u001b[43m \u001b[49m\u001b[38;5;241;43m*\u001b[39;49m\u001b[43margs\u001b[49m\u001b[43m,\u001b[49m\u001b[43m \u001b[49m\u001b[38;5;241;43m*\u001b[39;49m\u001b[38;5;241;43m*\u001b[39;49m\u001b[43mkwargs\u001b[49m\u001b[43m)\u001b[49m\n\u001b[1;32m     41\u001b[0m     \u001b[38;5;28;01mreturn\u001b[39;00m en\n",
      "File \u001b[0;32m~/projects/002_sqm/examples/../molsberry/modules/mopac/singlepoint.py:55\u001b[0m, in \u001b[0;36mMOPACSinglePointCalculator.calc_energy\u001b[0;34m(self, mopac_rep)\u001b[0m\n\u001b[1;32m     54\u001b[0m \u001b[38;5;28;01mdef\u001b[39;00m \u001b[38;5;21mcalc_energy\u001b[39m(\u001b[38;5;28mself\u001b[39m, mopac_rep: MOPACInputMolRep \u001b[38;5;241m|\u001b[39m List[MOPACInputMolRep]):\n\u001b[0;32m---> 55\u001b[0m     out \u001b[38;5;241m=\u001b[39m \u001b[38;5;28;43mself\u001b[39;49m\u001b[38;5;241;43m.\u001b[39;49m\u001b[43mrun_spc\u001b[49m\u001b[43m(\u001b[49m\u001b[43mmopac_rep\u001b[49m\u001b[43m)\u001b[49m\n\u001b[1;32m     56\u001b[0m     \u001b[38;5;28;01mreturn\u001b[39;00m out[\u001b[38;5;124m\"\u001b[39m\u001b[38;5;124menergy\u001b[39m\u001b[38;5;124m\"\u001b[39m]\n",
      "File \u001b[0;32m~/projects/002_sqm/examples/../molsberry/modules/mopac/singlepoint.py:64\u001b[0m, in \u001b[0;36mMOPACSinglePointCalculator.run_spc\u001b[0;34m(self, mopac_rep, debug)\u001b[0m\n\u001b[1;32m     61\u001b[0m \u001b[38;5;28mself\u001b[39m\u001b[38;5;241m.\u001b[39mupdate_config(mopac_rep\u001b[38;5;241m=\u001b[39mmopac_rep)\n\u001b[1;32m     62\u001b[0m out_path, arc_path \u001b[38;5;241m=\u001b[39m \u001b[38;5;28mself\u001b[39m\u001b[38;5;241m.\u001b[39mrun_job(config\u001b[38;5;241m=\u001b[39m\u001b[38;5;28mself\u001b[39m\u001b[38;5;241m.\u001b[39mconfig, debug\u001b[38;5;241m=\u001b[39mdebug,\n\u001b[1;32m     63\u001b[0m                                   base_dir\u001b[38;5;241m=\u001b[39m\u001b[38;5;28mself\u001b[39m\u001b[38;5;241m.\u001b[39mbase_dir)\n\u001b[0;32m---> 64\u001b[0m \u001b[38;5;28;01mwith\u001b[39;00m \u001b[38;5;28;43mopen\u001b[39;49m\u001b[43m(\u001b[49m\u001b[43mout_path\u001b[49m\u001b[43m,\u001b[49m\u001b[43m \u001b[49m\u001b[38;5;124;43m\"\u001b[39;49m\u001b[38;5;124;43mr\u001b[39;49m\u001b[38;5;124;43m\"\u001b[39;49m\u001b[43m)\u001b[49m \u001b[38;5;28;01mas\u001b[39;00m f:\n\u001b[1;32m     65\u001b[0m     out_str \u001b[38;5;241m=\u001b[39m f\u001b[38;5;241m.\u001b[39mread()\n\u001b[1;32m     67\u001b[0m hf \u001b[38;5;241m=\u001b[39m \u001b[38;5;28mfloat\u001b[39m(out_str\u001b[38;5;241m.\u001b[39msplit(\u001b[38;5;124m\"\u001b[39m\u001b[38;5;124mFINAL HEAT OF FORMATION =\u001b[39m\u001b[38;5;124m\"\u001b[39m)[\u001b[38;5;241m1\u001b[39m]\u001b[38;5;241m.\u001b[39msplit()[\u001b[38;5;241m0\u001b[39m])\n",
      "\u001b[0;31mFileNotFoundError\u001b[0m: [Errno 2] No such file or directory: 'example1_out/9SFQTU.out'"
     ]
    }
   ],
   "source": [
    "pipeline = BindingEnergyCalcPipe(base_dir=\"./example1_out\")\n",
    "out = pipeline.execute(ligand=ligdata, protein=pocdata)"
   ]
  },
  {
   "cell_type": "code",
   "execution_count": 2,
   "metadata": {},
   "outputs": [
    {
     "ename": "NameError",
     "evalue": "name 'LigandData' is not defined",
     "output_type": "error",
     "traceback": [
      "\u001b[0;31m---------------------------------------------------------------------------\u001b[0m",
      "\u001b[0;31mNameError\u001b[0m                                 Traceback (most recent call last)",
      "Cell \u001b[0;32mIn[2], line 1\u001b[0m\n\u001b[0;32m----> 1\u001b[0m ligdata \u001b[38;5;241m=\u001b[39m \u001b[43mLigandData\u001b[49m(SDFPathRep(\u001b[38;5;124m\"\u001b[39m\u001b[38;5;124mlig.sdf\u001b[39m\u001b[38;5;124m\"\u001b[39m))\n\u001b[1;32m      2\u001b[0m pocdata \u001b[38;5;241m=\u001b[39m ProteinData(PDBPathRep(\u001b[38;5;124m\"\u001b[39m\u001b[38;5;124mpoc.pdb\u001b[39m\u001b[38;5;124m\"\u001b[39m))\n",
      "\u001b[0;31mNameError\u001b[0m: name 'LigandData' is not defined"
     ]
    }
   ],
   "source": [
    "\n"
   ]
  }
 ],
 "metadata": {
  "kernelspec": {
   "display_name": "sqmvscreen2",
   "language": "python",
   "name": "python3"
  },
  "language_info": {
   "codemirror_mode": {
    "name": "ipython",
    "version": 3
   },
   "file_extension": ".py",
   "mimetype": "text/x-python",
   "name": "python",
   "nbconvert_exporter": "python",
   "pygments_lexer": "ipython3",
   "version": "3.10.14"
  }
 },
 "nbformat": 4,
 "nbformat_minor": 2
}
