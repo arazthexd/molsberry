{
 "cells": [
  {
   "cell_type": "code",
   "execution_count": 19,
   "metadata": {},
   "outputs": [
    {
     "name": "stdout",
     "output_type": "stream",
     "text": [
      "/home/arazthexd/projects/002_sqm/test\n"
     ]
    }
   ],
   "source": [
    "import os\n",
    "import wget\n",
    "import pathlib\n",
    "base_path = pathlib.Path(\".\").absolute()\n",
    "print(base_path)\n",
    "\n",
    "from rdkit import Chem\n",
    "\n",
    "os.chdir(\"..\")\n",
    "from src.abstract import *\n",
    "from src.interfaces.rdkit import *\n",
    "from src.interfaces.durrantlab import *\n",
    "from src.interfaces.openmm import *\n",
    "from src.interfaces.gnina import *\n",
    "from src.interfaces.openmm import *\n",
    "from src.interfaces.generic import *\n",
    "from src.interfaces.cuby4 import *\n",
    "from src.interfaces.cuby4c import *\n",
    "from src.config import *\n",
    "from src.utils import baselines, pdbtools\n",
    "os.chdir(base_path)\n",
    "\n",
    "SQM_SCORE_MOPAC_SOLV_CONFIG = Cuby4MOPACFullConfig(\n",
    "    method=\"pm6\",\n",
    "    mopac_exe=\"auto\",\n",
    "    mozyme=True,\n",
    "    corrections=\"d3h4x\",\n",
    "    solvent=\"cosmo2\",\n",
    ")\n",
    "\n",
    "SQM_SCORE_MOPAC_GAS_CONFIG = Cuby4MOPACFullConfig(\n",
    "    method=\"pm6\",\n",
    "    mopac_exe=\"auto\",\n",
    "    mozyme=True,\n",
    "    corrections=\"d3h4x\",\n",
    "    solvent=\"none\",\n",
    ")\n",
    "\n",
    "class SQMBaselineScorePipe(Pipeline):\n",
    "    name = \"SQM Ligand Baseline Scoring\"\n",
    "    def __init__(self, return_input: bool = False):\n",
    "        super().__init__(return_input=False, out_dir=OUT_DIR)\n",
    "        self.rtin = return_input\n",
    "        interface1 = Cuby4Interface(intconfig=SQM_SCORE_MOPAC_SOLV_CONFIG, cuby4_path=\"auto\", \n",
    "                                    work_dir=TMP_DIR, debug=DEBUG_MODE)\n",
    "        interface2 = Cuby4Interface(intconfig=SQM_SCORE_MOPAC_GAS_CONFIG, cuby4_path=\"auto\", \n",
    "                                    work_dir=TMP_DIR, debug=DEBUG_MODE)\n",
    "        self.blocks = [ # TODO: Other enumerations...\n",
    "            RDKitTautEmumerator(debug=DEBUG_MODE, max_tautomers=100),\n",
    "            DimorphiteProtoEnumerator(debug=DEBUG_MODE, min_ph=4.4, max_ph=10.4),\n",
    "            RDKitRingEnumerator(debug=DEBUG_MODE, minimize=True, num_confs=50, max_per_ring=2, dist_threshold=0.5),\n",
    "            OpenMMLigandOptimizer(debug=DEBUG_MODE, forcefields=[\"amber14-all.xml\"], work_dir=TMP_DIR),\n",
    "            Cuby4LigandOptimizer(debug=DEBUG_MODE, interface=interface2, n_threads=N_AVAILABLE_THREADS, work_dir=TMP_DIR),\n",
    "            Cuby4LigandEnergyScorer(debug=DEBUG_MODE, interface=interface1, n_threads=N_AVAILABLE_THREADS, work_dir=TMP_DIR),\n",
    "        ]\n",
    "    def run(self, ligands: List[Chem.Mol], targets: List[str], extra_info: dict = ...) -> Tuple[List[Chem.Mol] | List[str]]:\n",
    "        n_primary_ligs = len(ligands)\n",
    "        orig_ligs = ligands\n",
    "        orig_targs = targets\n",
    "        # [ligand.SetDoubleProp(\"end_state_energy\", self.blocks[-1].score(ligand)) for ligand in ligands]\n",
    "        [ligand.SetIntProp(\"SpecialIdx\", i) for i, ligand in enumerate(ligands)]\n",
    "        ligands, targets = super().run(ligands, targets, extra_info)\n",
    "        prev_id = 0\n",
    "        final_scores = []\n",
    "        energies = []\n",
    "        for ligand in ligands:\n",
    "            # print(prev_id)\n",
    "            # print(ligand.GetIntProp(\"SpecialIdx\"))\n",
    "            if ligand.GetIntProp(\"SpecialIdx\") != prev_id:\n",
    "                prev_id = ligand.GetIntProp(\"SpecialIdx\")\n",
    "                final_scores.append(baselines.average_energies(energies))\n",
    "                energies = []\n",
    "            fcharge = Chem.GetFormalCharge(ligand)\n",
    "            energy = ligand.GetDoubleProp(Cuby4LigandEnergyScorer.score_name)\n",
    "            htrans = baselines.calc_hydrogen_transfer_energy(fcharge)\n",
    "            energies.append(energy+htrans)\n",
    "        final_scores.append(baselines.average_energies(energies))\n",
    "        \n",
    "        # print(n_primary_ligs)\n",
    "        # print(final_scores)\n",
    "        assert n_primary_ligs == len(final_scores)\n",
    "        extra_info[\"baseline_energy\"] = final_scores\n",
    "\n",
    "        if self.rtin:\n",
    "            for i, lig in enumerate(orig_ligs):\n",
    "                lig.SetDoubleProp(\"baseline_energy\", final_scores[i])\n",
    "            return orig_ligs, orig_targs\n",
    "        else:\n",
    "            return ligands, targets"
   ]
  },
  {
   "cell_type": "code",
   "execution_count": 3,
   "metadata": {},
   "outputs": [],
   "source": [
    "pdb_path = os.path.join(base_path, \"4bck.pdb\")\n",
    "if not os.path.exists(pdb_path):\n",
    "    wget.download(\"http://files.rcsb.org/download/4BCK.pdb\", out=pdb_path)"
   ]
  },
  {
   "cell_type": "code",
   "execution_count": 20,
   "metadata": {},
   "outputs": [],
   "source": [
    "class TestPipe(Pipeline):\n",
    "    name = \"Test Pipeline\"\n",
    "    def __init__(self):\n",
    "        super().__init__()\n",
    "        self.interface = Cuby4Interface(intconfig=SQM_SCORE_MOPAC_SOLV_CONFIG, cuby4_path=\"auto\", \n",
    "                                        work_dir=TMP_DIR, debug=DEBUG_MODE)\n",
    "        self.blocks = [\n",
    "            # PDBFixerProteinPrepper(debug=DEBUG_MODE, ph=7.4, chains=\"all\", keep_water=False, \n",
    "            #                        add_missing_residues=False, out_dir=TMP_DIR, save_prefix=\"prepared\"),\n",
    "            # PocketIsolator(debug=DEBUG_MODE, radius=10.0, work_dir=TMP_DIR),\n",
    "            # Cuby4ComplexInteractScorer(debug=DEBUG_MODE, interface=self.interface, n_threads = N_AVAILABLE_THREADS, work_dir=TMP_DIR),\n",
    "            SQMBaselineScorePipe(return_input=True),\n",
    "            # Cuby4LigandEnergyScorer(score_name=\"hahahatest\", debug=DEBUG_MODE, interface=self.interface, n_threads=N_AVAILABLE_THREADS, work_dir=TMP_DIR),\n",
    "            # Cuby4LigandHTransScorer(debug=DEBUG_MODE, interface=self.interface, n_threads=N_AVAILABLE_THREADS, work_dir=TMP_DIR)\n",
    "        ]"
   ]
  },
  {
   "cell_type": "code",
   "execution_count": 21,
   "metadata": {},
   "outputs": [],
   "source": [
    "prot = \"/home/arazthexd/projects/002_sqm/test/4bck_prot.pdb\"\n",
    "lig = Chem.MolFromMol2File(\"/home/arazthexd/projects/002_sqm/test/4bck_lig.mol2\", removeHs=False)"
   ]
  },
  {
   "cell_type": "code",
   "execution_count": 22,
   "metadata": {},
   "outputs": [
    {
     "name": "stdout",
     "output_type": "stream",
     "text": [
      "\n",
      ">>>>>>>>>>>>>>>>>>>>>>>>>>>>>>>>>>>>>>>>>>>>>>>>>>>>>>>\n",
      ">>              STARTED: Test Pipeline               >>\n",
      ">>>>>>>>>>>>>>>>>>>>>>>>>>>>>>>>>>>>>>>>>>>>>>>>>>>>>>>\n",
      "\n",
      ">>>>>>>>>>>>>>>>>>>>>>>>>>>>>>>>>>>>>>>>>>>>>>>>>>>>>>>\n",
      ">>       STARTED: SQM Ligand Baseline Scoring        >>\n",
      ">>>>>>>>>>>>>>>>>>>>>>>>>>>>>>>>>>>>>>>>>>>>>>>>>>>>>>>\n",
      "target len 1\n",
      "\n",
      "[Running Pipe Block: RDKIT Tautomer Enumerator]\n"
     ]
    },
    {
     "name": "stderr",
     "output_type": "stream",
     "text": [
      "100%|██████████| 1/1 [00:00<00:00,  1.78it/s]\n"
     ]
    },
    {
     "name": "stdout",
     "output_type": "stream",
     "text": [
      "target len 1\n",
      "\n",
      "[Running Pipe Block: DimorphiteDL Protomer Enumerator]\n"
     ]
    },
    {
     "name": "stderr",
     "output_type": "stream",
     "text": [
      "  0%|          | 0/15 [00:00<?, ?it/s]/home/arazthexd/tools/dimorphite_dl/dimorphite_dl.py:744: SyntaxWarning: \"is not\" with a literal. Did you mean \"!=\"?\n",
      "  if line is not \"\":\n",
      "/home/arazthexd/tools/dimorphite_dl/dimorphite_dl.py:744: SyntaxWarning: \"is not\" with a literal. Did you mean \"!=\"?\n",
      "  if line is not \"\":\n",
      "/home/arazthexd/tools/dimorphite_dl/dimorphite_dl.py:744: SyntaxWarning: \"is not\" with a literal. Did you mean \"!=\"?\n",
      "  if line is not \"\":\n",
      "/home/arazthexd/tools/dimorphite_dl/dimorphite_dl.py:744: SyntaxWarning: \"is not\" with a literal. Did you mean \"!=\"?\n",
      "  if line is not \"\":\n",
      "/home/arazthexd/tools/dimorphite_dl/dimorphite_dl.py:744: SyntaxWarning: \"is not\" with a literal. Did you mean \"!=\"?\n",
      "  if line is not \"\":\n",
      "/home/arazthexd/tools/dimorphite_dl/dimorphite_dl.py:744: SyntaxWarning: \"is not\" with a literal. Did you mean \"!=\"?\n",
      "  if line is not \"\":\n",
      "/home/arazthexd/tools/dimorphite_dl/dimorphite_dl.py:744: SyntaxWarning: \"is not\" with a literal. Did you mean \"!=\"?\n",
      "  if line is not \"\":\n"
     ]
    },
    {
     "name": "stdout",
     "output_type": "stream",
     "text": [
      "\n",
      "usage: ipykernel_launcher.py [-h] [--min_ph MIN] [--max_ph MAX]\n",
      "                             [--pka_precision PRE] [--smiles SMI]\n",
      "                             [--smiles_file FILE] [--output_file FILE]\n",
      "                             [--max_variants MXV] [--label_states] [--silent]\n",
      "                             [--test]\n",
      "\n",
      "Dimorphite 1.2.4: Creates models of appropriately protonated small moleucles.\n",
      "Apache 2.0 License. Copyright 2020 Jacob D. Durrant.\n",
      "\n",
      "options:\n",
      "  -h, --help           show this help message and exit\n",
      "  --min_ph MIN         minimum pH to consider (default: 6.4)\n",
      "  --max_ph MAX         maximum pH to consider (default: 8.4)\n",
      "  --pka_precision PRE  pKa precision factor (number of standard devations,\n",
      "                       default: 1.0)\n",
      "  --smiles SMI         SMILES string to protonate\n",
      "  --smiles_file FILE   file that contains SMILES strings to protonate\n",
      "  --output_file FILE   output file to write protonated SMILES (optional)\n",
      "  --max_variants MXV   limit number of variants per input compound (default:\n",
      "                       128)\n",
      "  --label_states       label protonated SMILES with target state (i.e.,\n",
      "                       \"DEPROTONATED\", \"PROTONATED\", or \"BOTH\").\n",
      "  --silent             do not print any messages to the screen\n",
      "  --test               run unit tests (for debugging)\n",
      "\n",
      "examples:\n",
      "  python dimorphite_dl.py --smiles_file sample_molecules.smi\n",
      "  python dimorphite_dl.py --smiles \"CCC(=O)O\" --min_ph -3.0 --max_ph -2.0\n",
      "  python dimorphite_dl.py --smiles \"CCCN\" --min_ph -3.0 --max_ph -2.0 --output_file output.smi\n",
      "  python dimorphite_dl.py --smiles_file sample_molecules.smi --pka_precision 2.0 --label_states\n",
      "  python dimorphite_dl.py --test\n",
      "\n",
      "ERROR: unrecognized arguments: --f=/home/arazthexd/.local/share/jupyter/runtime/kernel-v2-623rxqxR4pnsuRw.json\n",
      "\n",
      "\n"
     ]
    },
    {
     "ename": "Exception",
     "evalue": "ERROR: unrecognized arguments: --f=/home/arazthexd/.local/share/jupyter/runtime/kernel-v2-623rxqxR4pnsuRw.json\n\n",
     "output_type": "error",
     "traceback": [
      "\u001b[0;31m---------------------------------------------------------------------------\u001b[0m",
      "\u001b[0;31mException\u001b[0m                                 Traceback (most recent call last)",
      "Cell \u001b[0;32mIn[22], line 2\u001b[0m\n\u001b[1;32m      1\u001b[0m pipeline \u001b[38;5;241m=\u001b[39m TestPipe()\n\u001b[0;32m----> 2\u001b[0m output \u001b[38;5;241m=\u001b[39m \u001b[43mpipeline\u001b[49m\u001b[38;5;241;43m.\u001b[39;49m\u001b[43mrun\u001b[49m\u001b[43m(\u001b[49m\u001b[43m[\u001b[49m\u001b[43mlig\u001b[49m\u001b[43m]\u001b[49m\u001b[43m,\u001b[49m\u001b[43m \u001b[49m\u001b[43m[\u001b[49m\u001b[43mprot\u001b[49m\u001b[43m]\u001b[49m\u001b[43m)\u001b[49m\n",
      "File \u001b[0;32m~/projects/002_sqm/src/abstract.py:68\u001b[0m, in \u001b[0;36mPipeline.run\u001b[0;34m(self, ligands, targets, extra_info, save_output)\u001b[0m\n\u001b[1;32m     66\u001b[0m origligs, origtargs \u001b[38;5;241m=\u001b[39m ligands, targets\n\u001b[1;32m     67\u001b[0m \u001b[38;5;28;01mfor\u001b[39;00m block \u001b[38;5;129;01min\u001b[39;00m \u001b[38;5;28mself\u001b[39m\u001b[38;5;241m.\u001b[39mblocks:\n\u001b[0;32m---> 68\u001b[0m     ligands, targets \u001b[38;5;241m=\u001b[39m \u001b[43mblock\u001b[49m\u001b[38;5;241;43m.\u001b[39;49m\u001b[43mrun\u001b[49m\u001b[43m(\u001b[49m\u001b[43mligands\u001b[49m\u001b[43m,\u001b[49m\u001b[43m \u001b[49m\u001b[43mtargets\u001b[49m\u001b[43m,\u001b[49m\u001b[43m \u001b[49m\u001b[43mextra_info\u001b[49m\u001b[43m)\u001b[49m\n\u001b[1;32m     69\u001b[0m \u001b[38;5;28mprint\u001b[39m()\n\u001b[1;32m     70\u001b[0m \u001b[38;5;28mprint\u001b[39m(\u001b[38;5;124m\"\u001b[39m\u001b[38;5;124m<\u001b[39m\u001b[38;5;124m\"\u001b[39m\u001b[38;5;241m*\u001b[39ml)\n",
      "Cell \u001b[0;32mIn[19], line 62\u001b[0m, in \u001b[0;36mSQMBaselineScorePipe.run\u001b[0;34m(self, ligands, targets, extra_info)\u001b[0m\n\u001b[1;32m     60\u001b[0m \u001b[38;5;66;03m# [ligand.SetDoubleProp(\"end_state_energy\", self.blocks[-1].score(ligand)) for ligand in ligands]\u001b[39;00m\n\u001b[1;32m     61\u001b[0m [ligand\u001b[38;5;241m.\u001b[39mSetIntProp(\u001b[38;5;124m\"\u001b[39m\u001b[38;5;124mSpecialIdx\u001b[39m\u001b[38;5;124m\"\u001b[39m, i) \u001b[38;5;28;01mfor\u001b[39;00m i, ligand \u001b[38;5;129;01min\u001b[39;00m \u001b[38;5;28menumerate\u001b[39m(ligands)]\n\u001b[0;32m---> 62\u001b[0m ligands, targets \u001b[38;5;241m=\u001b[39m \u001b[38;5;28;43msuper\u001b[39;49m\u001b[43m(\u001b[49m\u001b[43m)\u001b[49m\u001b[38;5;241;43m.\u001b[39;49m\u001b[43mrun\u001b[49m\u001b[43m(\u001b[49m\u001b[43mligands\u001b[49m\u001b[43m,\u001b[49m\u001b[43m \u001b[49m\u001b[43mtargets\u001b[49m\u001b[43m,\u001b[49m\u001b[43m \u001b[49m\u001b[43mextra_info\u001b[49m\u001b[43m)\u001b[49m\n\u001b[1;32m     63\u001b[0m prev_id \u001b[38;5;241m=\u001b[39m \u001b[38;5;241m0\u001b[39m\n\u001b[1;32m     64\u001b[0m final_scores \u001b[38;5;241m=\u001b[39m []\n",
      "File \u001b[0;32m~/projects/002_sqm/src/abstract.py:68\u001b[0m, in \u001b[0;36mPipeline.run\u001b[0;34m(self, ligands, targets, extra_info, save_output)\u001b[0m\n\u001b[1;32m     66\u001b[0m origligs, origtargs \u001b[38;5;241m=\u001b[39m ligands, targets\n\u001b[1;32m     67\u001b[0m \u001b[38;5;28;01mfor\u001b[39;00m block \u001b[38;5;129;01min\u001b[39;00m \u001b[38;5;28mself\u001b[39m\u001b[38;5;241m.\u001b[39mblocks:\n\u001b[0;32m---> 68\u001b[0m     ligands, targets \u001b[38;5;241m=\u001b[39m \u001b[43mblock\u001b[49m\u001b[38;5;241;43m.\u001b[39;49m\u001b[43mrun\u001b[49m\u001b[43m(\u001b[49m\u001b[43mligands\u001b[49m\u001b[43m,\u001b[49m\u001b[43m \u001b[49m\u001b[43mtargets\u001b[49m\u001b[43m,\u001b[49m\u001b[43m \u001b[49m\u001b[43mextra_info\u001b[49m\u001b[43m)\u001b[49m\n\u001b[1;32m     69\u001b[0m \u001b[38;5;28mprint\u001b[39m()\n\u001b[1;32m     70\u001b[0m \u001b[38;5;28mprint\u001b[39m(\u001b[38;5;124m\"\u001b[39m\u001b[38;5;124m<\u001b[39m\u001b[38;5;124m\"\u001b[39m\u001b[38;5;241m*\u001b[39ml)\n",
      "File \u001b[0;32m~/projects/002_sqm/src/abstract.py:113\u001b[0m, in \u001b[0;36mLigandEnumerator.run\u001b[0;34m(self, ligands, targets, extra_info)\u001b[0m\n\u001b[1;32m    111\u001b[0m \u001b[38;5;28;01mfor\u001b[39;00m i, (ligand, target) \u001b[38;5;129;01min\u001b[39;00m \u001b[38;5;28menumerate\u001b[39m(zipped):\n\u001b[1;32m    112\u001b[0m     ligand\u001b[38;5;241m.\u001b[39mSetIntProp(\u001b[38;5;124m\"\u001b[39m\u001b[38;5;124mPrevIdx\u001b[39m\u001b[38;5;124m\"\u001b[39m, i) \u001b[38;5;66;03m# TODO: how to utilize this for debug?\u001b[39;00m\n\u001b[0;32m--> 113\u001b[0m     newligs \u001b[38;5;241m=\u001b[39m \u001b[38;5;28;43mself\u001b[39;49m\u001b[38;5;241;43m.\u001b[39;49m\u001b[43menumerate\u001b[49m\u001b[43m(\u001b[49m\u001b[43mligand\u001b[49m\u001b[43m)\u001b[49m\n\u001b[1;32m    114\u001b[0m     newtargs \u001b[38;5;241m=\u001b[39m [target \u001b[38;5;28;01mfor\u001b[39;00m _ \u001b[38;5;129;01min\u001b[39;00m \u001b[38;5;28mrange\u001b[39m(\u001b[38;5;28mlen\u001b[39m(newligs))]\n\u001b[1;32m    115\u001b[0m     out_ligands\u001b[38;5;241m.\u001b[39mextend(newligs)\n",
      "File \u001b[0;32m~/projects/002_sqm/src/interfaces/durrantlab.py:40\u001b[0m, in \u001b[0;36mDimorphiteProtoEnumerator.enumerate\u001b[0;34m(self, ligand)\u001b[0m\n\u001b[1;32m     35\u001b[0m         protomers \u001b[38;5;241m=\u001b[39m dd\u001b[38;5;241m.\u001b[39mrun_with_mol_list(\n\u001b[1;32m     36\u001b[0m             [ligand], silent\u001b[38;5;241m=\u001b[39m\u001b[38;5;129;01mnot\u001b[39;00m \u001b[38;5;28mself\u001b[39m\u001b[38;5;241m.\u001b[39mdebug, min_ph\u001b[38;5;241m=\u001b[39m\u001b[38;5;28mself\u001b[39m\u001b[38;5;241m.\u001b[39mmin_ph, \n\u001b[1;32m     37\u001b[0m             max_ph\u001b[38;5;241m=\u001b[39m\u001b[38;5;28mself\u001b[39m\u001b[38;5;241m.\u001b[39mmax_ph, \u001b[38;5;241m*\u001b[39m\u001b[38;5;241m*\u001b[39m\u001b[38;5;28mself\u001b[39m\u001b[38;5;241m.\u001b[39mkwargs\n\u001b[1;32m     38\u001b[0m         )\n\u001b[1;32m     39\u001b[0m \u001b[38;5;28;01melse\u001b[39;00m:\n\u001b[0;32m---> 40\u001b[0m     protomers \u001b[38;5;241m=\u001b[39m \u001b[43mdd\u001b[49m\u001b[38;5;241;43m.\u001b[39;49m\u001b[43mrun_with_mol_list\u001b[49m\u001b[43m(\u001b[49m\n\u001b[1;32m     41\u001b[0m \u001b[43m        \u001b[49m\u001b[43m[\u001b[49m\u001b[43mligand\u001b[49m\u001b[43m]\u001b[49m\u001b[43m,\u001b[49m\u001b[43m \u001b[49m\u001b[43msilent\u001b[49m\u001b[38;5;241;43m=\u001b[39;49m\u001b[38;5;129;43;01mnot\u001b[39;49;00m\u001b[43m \u001b[49m\u001b[38;5;28;43mself\u001b[39;49m\u001b[38;5;241;43m.\u001b[39;49m\u001b[43mdebug\u001b[49m\u001b[43m,\u001b[49m\u001b[43m \u001b[49m\u001b[43mmin_ph\u001b[49m\u001b[38;5;241;43m=\u001b[39;49m\u001b[38;5;28;43mself\u001b[39;49m\u001b[38;5;241;43m.\u001b[39;49m\u001b[43mmin_ph\u001b[49m\u001b[43m,\u001b[49m\u001b[43m \u001b[49m\n\u001b[1;32m     42\u001b[0m \u001b[43m        \u001b[49m\u001b[43mmax_ph\u001b[49m\u001b[38;5;241;43m=\u001b[39;49m\u001b[38;5;28;43mself\u001b[39;49m\u001b[38;5;241;43m.\u001b[39;49m\u001b[43mmax_ph\u001b[49m\u001b[43m,\u001b[49m\u001b[43m \u001b[49m\u001b[38;5;241;43m*\u001b[39;49m\u001b[38;5;241;43m*\u001b[39;49m\u001b[38;5;28;43mself\u001b[39;49m\u001b[38;5;241;43m.\u001b[39;49m\u001b[43mkwargs\u001b[49m\n\u001b[1;32m     43\u001b[0m \u001b[43m    \u001b[49m\u001b[43m)\u001b[49m\n\u001b[1;32m     45\u001b[0m \u001b[38;5;28;01mif\u001b[39;00m \u001b[38;5;28mlen\u001b[39m(protomers) \u001b[38;5;241m==\u001b[39m \u001b[38;5;241m0\u001b[39m:\n\u001b[1;32m     46\u001b[0m     \u001b[38;5;28;01mreturn\u001b[39;00m [ligand]\n",
      "File \u001b[0;32m~/tools/dimorphite_dl/dimorphite_dl.py:1421\u001b[0m, in \u001b[0;36mrun_with_mol_list\u001b[0;34m(mol_lst, **kwargs)\u001b[0m\n\u001b[1;32m   1418\u001b[0m     props \u001b[38;5;241m=\u001b[39m m\u001b[38;5;241m.\u001b[39mGetPropsAsDict()\n\u001b[1;32m   1419\u001b[0m     kwargs[\u001b[38;5;124m\"\u001b[39m\u001b[38;5;124msmiles\u001b[39m\u001b[38;5;124m\"\u001b[39m] \u001b[38;5;241m=\u001b[39m Chem\u001b[38;5;241m.\u001b[39mMolToSmiles(m, isomericSmiles\u001b[38;5;241m=\u001b[39m\u001b[38;5;28;01mTrue\u001b[39;00m)\n\u001b[1;32m   1420\u001b[0m     protonated_smiles_and_props\u001b[38;5;241m.\u001b[39mextend(\n\u001b[0;32m-> 1421\u001b[0m         [(s\u001b[38;5;241m.\u001b[39msplit(\u001b[38;5;124m\"\u001b[39m\u001b[38;5;130;01m\\t\u001b[39;00m\u001b[38;5;124m\"\u001b[39m)[\u001b[38;5;241m0\u001b[39m], props) \u001b[38;5;28;01mfor\u001b[39;00m s \u001b[38;5;129;01min\u001b[39;00m \u001b[43mmain\u001b[49m\u001b[43m(\u001b[49m\u001b[43mkwargs\u001b[49m\u001b[43m)\u001b[49m]\n\u001b[1;32m   1422\u001b[0m     )\n\u001b[1;32m   1424\u001b[0m \u001b[38;5;66;03m# Now convert the list of protonated smiles strings back to RDKit Mol\u001b[39;00m\n\u001b[1;32m   1425\u001b[0m \u001b[38;5;66;03m# objects. Also, add back in the properties from the original mol objects.\u001b[39;00m\n\u001b[1;32m   1426\u001b[0m mols \u001b[38;5;241m=\u001b[39m []\n",
      "File \u001b[0;32m~/tools/dimorphite_dl/dimorphite_dl.py:75\u001b[0m, in \u001b[0;36mmain\u001b[0;34m(params)\u001b[0m\n\u001b[1;32m     64\u001b[0m \u001b[38;5;250m\u001b[39m\u001b[38;5;124;03m\"\"\"The main definition run when you call the script from the commandline.\u001b[39;00m\n\u001b[1;32m     65\u001b[0m \n\u001b[1;32m     66\u001b[0m \u001b[38;5;124;03m:param params: The parameters to use. Entirely optional. If absent,\u001b[39;00m\n\u001b[0;32m   (...)\u001b[0m\n\u001b[1;32m     71\u001b[0m \u001b[38;5;124;03m         True. Otherwise, returns None.\u001b[39;00m\n\u001b[1;32m     72\u001b[0m \u001b[38;5;124;03m\"\"\"\u001b[39;00m\n\u001b[1;32m     74\u001b[0m parser \u001b[38;5;241m=\u001b[39m ArgParseFuncs\u001b[38;5;241m.\u001b[39mget_args()\n\u001b[0;32m---> 75\u001b[0m args \u001b[38;5;241m=\u001b[39m \u001b[38;5;28mvars\u001b[39m(\u001b[43mparser\u001b[49m\u001b[38;5;241;43m.\u001b[39;49m\u001b[43mparse_args\u001b[49m\u001b[43m(\u001b[49m\u001b[43m)\u001b[49m)\n\u001b[1;32m     77\u001b[0m \u001b[38;5;28;01mif\u001b[39;00m \u001b[38;5;129;01mnot\u001b[39;00m args[\u001b[38;5;124m\"\u001b[39m\u001b[38;5;124msilent\u001b[39m\u001b[38;5;124m\"\u001b[39m]:\n\u001b[1;32m     78\u001b[0m     print_header()\n",
      "File \u001b[0;32m~/miniforge3/envs/sqmvscreen2/lib/python3.10/argparse.py:1836\u001b[0m, in \u001b[0;36mArgumentParser.parse_args\u001b[0;34m(self, args, namespace)\u001b[0m\n\u001b[1;32m   1834\u001b[0m \u001b[38;5;28;01mif\u001b[39;00m argv:\n\u001b[1;32m   1835\u001b[0m     msg \u001b[38;5;241m=\u001b[39m _(\u001b[38;5;124m'\u001b[39m\u001b[38;5;124munrecognized arguments: \u001b[39m\u001b[38;5;132;01m%s\u001b[39;00m\u001b[38;5;124m'\u001b[39m)\n\u001b[0;32m-> 1836\u001b[0m     \u001b[38;5;28;43mself\u001b[39;49m\u001b[38;5;241;43m.\u001b[39;49m\u001b[43merror\u001b[49m\u001b[43m(\u001b[49m\u001b[43mmsg\u001b[49m\u001b[43m \u001b[49m\u001b[38;5;241;43m%\u001b[39;49m\u001b[43m \u001b[49m\u001b[38;5;124;43m'\u001b[39;49m\u001b[38;5;124;43m \u001b[39;49m\u001b[38;5;124;43m'\u001b[39;49m\u001b[38;5;241;43m.\u001b[39;49m\u001b[43mjoin\u001b[49m\u001b[43m(\u001b[49m\u001b[43margv\u001b[49m\u001b[43m)\u001b[49m\u001b[43m)\u001b[49m\n\u001b[1;32m   1837\u001b[0m \u001b[38;5;28;01mreturn\u001b[39;00m args\n",
      "File \u001b[0;32m~/tools/dimorphite_dl/dimorphite_dl.py:124\u001b[0m, in \u001b[0;36mMyParser.error\u001b[0;34m(self, message)\u001b[0m\n\u001b[1;32m    122\u001b[0m msg \u001b[38;5;241m=\u001b[39m \u001b[38;5;124m\"\u001b[39m\u001b[38;5;124mERROR: \u001b[39m\u001b[38;5;132;01m%s\u001b[39;00m\u001b[38;5;130;01m\\n\u001b[39;00m\u001b[38;5;130;01m\\n\u001b[39;00m\u001b[38;5;124m\"\u001b[39m \u001b[38;5;241m%\u001b[39m message\n\u001b[1;32m    123\u001b[0m \u001b[38;5;28mprint\u001b[39m(msg)\n\u001b[0;32m--> 124\u001b[0m \u001b[38;5;28;01mraise\u001b[39;00m \u001b[38;5;167;01mException\u001b[39;00m(msg)\n",
      "\u001b[0;31mException\u001b[0m: ERROR: unrecognized arguments: --f=/home/arazthexd/.local/share/jupyter/runtime/kernel-v2-623rxqxR4pnsuRw.json\n\n"
     ]
    }
   ],
   "source": [
    "pipeline = TestPipe()\n",
    "output = pipeline.run([lig], [prot])"
   ]
  },
  {
   "cell_type": "code",
   "execution_count": 15,
   "metadata": {},
   "outputs": [
    {
     "data": {
      "text/plain": [
       "([<rdkit.Chem.rdchem.Mol at 0x7f2ce15b8190>],\n",
       " ['./tmp/isolated_pocket_1EH36.pdb'])"
      ]
     },
     "execution_count": 15,
     "metadata": {},
     "output_type": "execute_result"
    }
   ],
   "source": [
    "output"
   ]
  },
  {
   "cell_type": "code",
   "execution_count": 23,
   "metadata": {},
   "outputs": [],
   "source": [
    "from paradag import DAG\n",
    "from collections import OrderedDict"
   ]
  },
  {
   "cell_type": "code",
   "execution_count": 37,
   "metadata": {},
   "outputs": [],
   "source": [
    "class Vtx(object):\n",
    "    def __init__(self, v):\n",
    "        self.__value__ = v\n",
    "\n",
    "vtx = Vtx(999)\n",
    "vtx2 = Vtx(20)\n",
    "\n",
    "dag = DAG()\n",
    "\n",
    "dag.add_vertex(vtx, vtx2)"
   ]
  },
  {
   "cell_type": "code",
   "execution_count": 39,
   "metadata": {},
   "outputs": [
    {
     "name": "stdout",
     "output_type": "stream",
     "text": [
      "Executing: 20\n",
      "Executing: 999\n",
      "[<__main__.Vtx object at 0x7f2ce0cc7010>, <__main__.Vtx object at 0x7f2ce0cc7af0>]\n"
     ]
    }
   ],
   "source": [
    "from paradag import dag_run\n",
    "from paradag import SequentialProcessor\n",
    "\n",
    "class CustomExecutor:\n",
    "    def param(self, vertex):\n",
    "        return vertex.__value__\n",
    "\n",
    "    def execute(self, param):\n",
    "        print('Executing:', param)\n",
    "\n",
    "print(dag_run(dag, processor=SequentialProcessor(), executor=CustomExecutor()))"
   ]
  },
  {
   "cell_type": "code",
   "execution_count": 47,
   "metadata": {},
   "outputs": [],
   "source": [
    "class _Connection():\n",
    "    pass\n",
    "\n",
    "class PipelineBlock():\n",
    "    def __init__(self, debug: bool = False) -> None:\n",
    "        self.debug = debug\n",
    "        self._executed = False\n",
    "        self._output = dict()\n",
    "        self._in_connections = dict()\n",
    "        self._out_connections = dict()\n",
    "    \n",
    "    def reset(self, removeOutput: bool = True, removeConnections: bool = True) -> None:\n",
    "        if removeOutput:\n",
    "            self.executed = False\n",
    "            self._output = dict()\n",
    "        if removeConnections:\n",
    "            self._in_connections: Dict[str, _Connection] = dict()\n",
    "            self._out_connections: Dict[str, List[_Connection]] = dict()\n",
    "    \n",
    "    def _add_connection(self, connection):\n",
    "        pass\n",
    "\n",
    "    def link_input(self, input_key: str, prev_block: PipelineBlock, prev_out_key: str):\n",
    "        assert input_key in self.required_input_keys + self.optional_input_keys\n",
    "        assert input_key not in self._in_connections.keys()\n",
    "        assert prev_out_key in prev_block.output_keys\n",
    "        connection = _Connection(prev_block, prev_out_key, self, input_key)\n",
    "        self._in_connections[input_key] = connection\n",
    "        prev_block._add_connection(connection)\n",
    "\n",
    "    # @abstractmethod\n",
    "    def execute(self, input_dict: dict):\n",
    "        self.output = input_dict\n",
    "        return self.output\n",
    "    \n",
    "    def check(self, inputs: dict):\n",
    "        assert all(k in inputs.keys() for k in self.required_input_keys)\n",
    "        for k in inputs.keys():\n",
    "            if k not in self.required_input_keys + self.optional_input_keys:\n",
    "                if self.debug: print(f\"WARNING: {k} not in input keys of pipeline block: {self.name}\")\n",
    "\n",
    "    @property\n",
    "    def output(self) -> dict:\n",
    "        return self._output\n",
    "\n",
    "    @output.setter\n",
    "    def output(self, d: dict):\n",
    "        assert set(d.keys()) == set(self.output_keys)\n",
    "        self._output = d\n",
    "\n",
    "    @property\n",
    "    def executed(self) -> bool:\n",
    "        return self._executed\n",
    "\n",
    "    @property\n",
    "    def output_keys(self) -> List[str]:\n",
    "        return [\"ligands\", \"targets\"]\n",
    "    \n",
    "    @property\n",
    "    def required_input_keys(self) -> List[str]:\n",
    "        return [\"ligands\", \"targets\"]\n",
    "    \n",
    "    @property\n",
    "    def optional_input_keys(self) -> List[str]:\n",
    "        return []\n",
    "        \n",
    "    @property\n",
    "    @abstractmethod\n",
    "    def name(self) -> str:\n",
    "        return \"pipeblock\"\n",
    "    \n",
    "    def is_same(self, p):\n",
    "        return self == p"
   ]
  },
  {
   "cell_type": "code",
   "execution_count": 48,
   "metadata": {},
   "outputs": [],
   "source": [
    "a = PipelineBlock()"
   ]
  },
  {
   "cell_type": "code",
   "execution_count": 49,
   "metadata": {},
   "outputs": [],
   "source": [
    "b = PipelineBlock()"
   ]
  },
  {
   "cell_type": "code",
   "execution_count": 51,
   "metadata": {},
   "outputs": [
    {
     "data": {
      "text/plain": [
       "True"
      ]
     },
     "execution_count": 51,
     "metadata": {},
     "output_type": "execute_result"
    }
   ],
   "source": [
    "a.is_same(a)"
   ]
  },
  {
   "cell_type": "code",
   "execution_count": null,
   "metadata": {},
   "outputs": [],
   "source": []
  },
  {
   "cell_type": "code",
   "execution_count": null,
   "metadata": {},
   "outputs": [],
   "source": []
  },
  {
   "cell_type": "code",
   "execution_count": null,
   "metadata": {},
   "outputs": [],
   "source": []
  },
  {
   "cell_type": "code",
   "execution_count": 54,
   "metadata": {},
   "outputs": [],
   "source": [
    "from __future__ import annotations\n",
    "from abc import ABC, abstractmethod\n",
    "from typing import List, Tuple, Any, Dict\n",
    "\n",
    "import os\n",
    "from itertools import repeat\n",
    "\n",
    "def zip_complex(ligands, targets):\n",
    "    if len(targets) == 1:\n",
    "        zipped = zip(ligands, repeat(targets[0]))\n",
    "    elif len(targets) == len(ligands):\n",
    "        zipped = zip(ligands, targets)\n",
    "    else:\n",
    "        raise ValueError()\n",
    "    return zipped\n",
    "\n",
    "class _Connection():\n",
    "    def __init__(self, source_block: PipelineBlock, source_key: str, \n",
    "                 target_block: PipelineBlock, target_key: str) -> None:\n",
    "        source_block._add_connection(self)\n",
    "        target_block._add_connection(self)\n",
    "        source_block._cyclic_check_pass([])\n",
    "        self.source_block = source_block\n",
    "        self.source_key = source_key\n",
    "        self.target_block = target_block\n",
    "        self.target_key = target_key\n",
    "\n",
    "class PipelineBlock(ABC):\n",
    "    def __init__(self, debug: bool = False) -> None:\n",
    "        self.debug = debug\n",
    "        self._executed = False\n",
    "        self._latest_input = None\n",
    "        self._output = dict()\n",
    "        self._in_connections: Dict[str, _Connection] = dict()\n",
    "        self._out_connections: Dict[str, List[_Connection]] = dict()\n",
    "    \n",
    "    def reset(self, removeOutput: bool = True, removeConnections: bool = True) -> None:\n",
    "        if removeOutput:\n",
    "            self._executed = False\n",
    "            self._latest_input = None\n",
    "            self._output = dict()\n",
    "        if removeConnections:\n",
    "            self._in_connections: Dict[str, _Connection] = dict()\n",
    "            self._out_connections: Dict[str, List[_Connection]] = dict()\n",
    "    \n",
    "    def _add_connection(self, connection: _Connection) -> None:\n",
    "        if connection.source_block == self:\n",
    "            assert connection.source_key in self.output_keys\n",
    "            if connection.source_key not in self._out_connections.keys():\n",
    "                self._out_connections[connection.source_key] = []\n",
    "            self._out_connections[connection.source_key].append(connection)\n",
    "        if connection.target_block == self:\n",
    "            assert connection.target_key in self.required_input_keys + self.optional_input_keys\n",
    "            assert connection.target_key not in self._in_connections.keys()\n",
    "            self._in_connections[connection.target_key] = connection\n",
    "    \n",
    "    def _next_blocks(self) -> List[PipelineBlock]:\n",
    "        next_blocks = []\n",
    "        for connections in self._out_connections.values():\n",
    "            for connection in connections:\n",
    "                if connection.target_block not in next_blocks:\n",
    "                    next_blocks.append(connection.target_block)\n",
    "        return next_blocks\n",
    "        \n",
    "    def _cyclic_check_pass(self, prev_blocks: List[PipelineBlock]) -> None:\n",
    "        assert self not in prev_blocks\n",
    "        prev_blocks.append(self)\n",
    "        for block in self._next_blocks():\n",
    "            block._cyclic_check_pass(prev_blocks)\n",
    "\n",
    "    @abstractmethod\n",
    "    def execute(self, input_dict: dict):\n",
    "        self.output = input_dict\n",
    "        return self.output\n",
    "\n",
    "    @property\n",
    "    def output(self) -> dict:\n",
    "        return self._output\n",
    "\n",
    "    @output.setter\n",
    "    def output(self, d: dict):\n",
    "        assert set(d.keys()) == set(self.output_keys)\n",
    "        self._output = d\n",
    "\n",
    "    @property\n",
    "    def executed(self) -> bool:\n",
    "        return self._executed\n",
    "\n",
    "    @property\n",
    "    def output_keys(self) -> List[str]:\n",
    "        return [\"ligands\", \"targets\"]\n",
    "    \n",
    "    @property\n",
    "    def required_input_keys(self) -> List[str]:\n",
    "        return [\"ligands\", \"targets\"]\n",
    "    \n",
    "    @property\n",
    "    def optional_input_keys(self) -> List[str]:\n",
    "        return []\n",
    "        \n",
    "    @property\n",
    "    @abstractmethod\n",
    "    def name(self) -> str:\n",
    "        return \"pipeblock\"\n",
    "\n",
    "class Pipeline(ABC):\n",
    "    def __init__(self, base_dir: str = \".\"):\n",
    "        if not os.path.exists(base_dir):\n",
    "            os.mkdir(base_dir)\n",
    "        \n",
    "        self._initiated = False\n",
    "        self.base_dir = pathlib.Path(base_dir)\n",
    "        self._blocks: Dict[str, PipelineBlock] = dict()\n",
    "        self._connections: Dict[str, _Connection] = dict()\n",
    "    \n",
    "    def add_block(self, block: PipelineBlock, block_name: str | None = None) -> None:\n",
    "        if block_name is None:\n",
    "            block_name = \"block{i}\"\n",
    "            i = 0\n",
    "            while True:\n",
    "                i += 1\n",
    "                name_suggest = block_name.format(i=i)\n",
    "                if name_suggest not in self._blocks.keys():\n",
    "                    block_name = name_suggest\n",
    "                    break\n",
    "        block._parent = self\n",
    "        block._name_in_parent = block_name # TODO\n",
    "        self._blocks[block_name] = block\n",
    "    \n",
    "    def add_blocks(self, blocks: List[PipelineBlock] | Dict[str, PipelineBlock]) -> None:\n",
    "        if isinstance(blocks, list):\n",
    "            [self.add_block(block) for block in blocks]\n",
    "        if isinstance(blocks, dict):\n",
    "            [self.add_block(block, name) for name, block in blocks.items()]\n",
    "\n",
    "    def initiate(self):\n",
    "        self._initiated = True\n",
    "\n",
    "    @property\n",
    "    def initiated(self):\n",
    "        return self._initiated\n",
    "\n",
    "    @property\n",
    "    @abstractmethod\n",
    "    def name(self) -> str:\n",
    "        return \"pipeline\""
   ]
  },
  {
   "cell_type": "code",
   "execution_count": 56,
   "metadata": {},
   "outputs": [
    {
     "data": {
      "text/plain": [
       "True"
      ]
     },
     "execution_count": 56,
     "metadata": {},
     "output_type": "execute_result"
    }
   ],
   "source": [
    "Pipeline()._initiated"
   ]
  }
 ],
 "metadata": {
  "kernelspec": {
   "display_name": "sqmvscreen2",
   "language": "python",
   "name": "python3"
  },
  "language_info": {
   "codemirror_mode": {
    "name": "ipython",
    "version": 3
   },
   "file_extension": ".py",
   "mimetype": "text/x-python",
   "name": "python",
   "nbconvert_exporter": "python",
   "pygments_lexer": "ipython3",
   "version": "3.10.14"
  }
 },
 "nbformat": 4,
 "nbformat_minor": 2
}
