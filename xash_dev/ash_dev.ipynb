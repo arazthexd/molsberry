{
 "cells": [
  {
   "cell_type": "code",
   "execution_count": 1,
   "metadata": {},
   "outputs": [],
   "source": [
    "import sys\n",
    "sys.path.append(\"..\")"
   ]
  },
  {
   "cell_type": "code",
   "execution_count": 2,
   "metadata": {},
   "outputs": [
    {
     "name": "stdout",
     "output_type": "stream",
     "text": [
      "ashpath: /home/arazthexd/miniforge3/envs/sqmvscreen2/lib/python3.10/site-packages/ash\n",
      "Sys path: ['/home/arazthexd/miniforge3/envs/sqmvscreen2/lib/python3.10/site-packages/ash', '/home/arazthexd/projects/002_sqm', '/home/arazthexd/tools/dimorphite_dl', '/home/arazthexd/projects/002_sqm/xash_dev', '/home/arazthexd/miniforge3/envs/sqmvscreen2/lib/python310.zip', '/home/arazthexd/miniforge3/envs/sqmvscreen2/lib/python3.10', '/home/arazthexd/miniforge3/envs/sqmvscreen2/lib/python3.10/lib-dynload', '', '/home/arazthexd/miniforge3/envs/sqmvscreen2/lib/python3.10/site-packages', '/home/arazthexd/miniforge3/envs/sqmvscreen2/lib/python3.10/site-packages/pkasolver-0.3+18.gf38faba-py3.10.egg', '..']\n",
      "--------------------------------------------------------------------------------\n",
      "--------------------------------------------------------------------------------\n",
      "                                           ASH                                            \n",
      "                              A MULTISCALE MODELLING PROGRAM                              \n",
      "                                        Version: 0.9dev                                        \n",
      "                               Git commit version: Unknown                                \n",
      "--------------------------------------------------------------------------------\n",
      "--------------------------------------------------------------------------------\n",
      "ASH path: /home/arazthexd/miniforge3/envs/sqmvscreen2/lib/python3.10/site-packages/ash\n",
      "Python version: 3.10.14\n",
      "Python interpreter: /home/arazthexd/miniforge3/envs/sqmvscreen2/bin/python\n",
      "\n",
      "ASH Settings after reading defaults and ~/ash_user_settings.ini : \n",
      "See https://ash.readthedocs.io/en/latest/basics.html#ash-settings on how to change settings.\n",
      "\t debugflag :  False\n",
      "\t load_julia :  False\n",
      "\t julia_library :  pythoncall\n",
      "\t use_ANSI_color :  False\n",
      "\t print_logo :  False\n",
      "\t print_input :  True\n",
      "\t scale :  1.0\n",
      "\t tol :  0.1\n",
      "\t conndepth :  10\n",
      "\t connectivity_code :  julia\n",
      "\t nonbondedMM_code :  julia\n",
      "\t print_exit_footer :  True\n",
      "\t print_full_timings :  True\n",
      "\n",
      "Note: ASH can use ANSI escape sequences for displaying color. Use e.g. less -R to display\n",
      "To turn on/off escape sequences, set: 'use_ANSI_color = False' in\n",
      "~/ash_user_settings.ini\n",
      "\n"
     ]
    }
   ],
   "source": [
    "import ash\n",
    "from rdkit import Chem"
   ]
  },
  {
   "cell_type": "code",
   "execution_count": 3,
   "metadata": {},
   "outputs": [
    {
     "name": "stdout",
     "output_type": "stream",
     "text": [
      "\n",
      "--------------------------------------------------------------------------------\n",
      "                                New ASH fragment                                \n",
      "--------------------------------------------------------------------------------\n",
      "\n",
      "ASH Fragment creation\n",
      "Creating/Updating fragment attributes...\n",
      "Number of Atoms in fragment: 72\n",
      "Formula: O14C21H28P2N7\n",
      "Label: lig\n",
      "Charge: 1 Mult: 1\n",
      "\n",
      "--------------------------------------------------------------------------------\n"
     ]
    },
    {
     "name": "stderr",
     "output_type": "stream",
     "text": [
      "[17:00:42] WARNING: More than one matching pattern found - picking one\n",
      "\n"
     ]
    }
   ],
   "source": [
    "from rdkit.Chem import AllChem\n",
    "\n",
    "comp = Chem.MolFromPDBFile(\"/home/arazthexd/projects/002_sqm/data/targets/kguD.pdb\")\n",
    "lig = Chem.GetMolFrags(comp, asMols=True)[1]\n",
    "lig_smi = \"C1=CC(=C[N+](=C1)[C@H]2[C@@H]([C@@H]([C@H](O2)COP(=O)(O)OP(=O)(O)OC[C@@H]3[C@H]([C@H]([C@@H](O3)N4C=NC5=C(N=CN=C54)N)O)O)O)O)C(=O)N\"\n",
    "lig = AllChem.AssignBondOrdersFromTemplate(Chem.MolFromSmiles(lig_smi), lig)\n",
    "lig = Chem.AddHs(lig, addCoords=True, addResidueInfo=True)\n",
    "lig_frag = ash.Fragment(\n",
    "    elems=[a.GetSymbol() for a in lig.GetAtoms()],\n",
    "    coords=lig.GetConformer().GetPositions(),\n",
    "    mult=1,\n",
    "    charge=Chem.GetFormalCharge(lig),\n",
    "    label=\"lig\"\n",
    ")"
   ]
  },
  {
   "cell_type": "code",
   "execution_count": 6,
   "metadata": {},
   "outputs": [],
   "source": [
    "import numpy as np\n",
    "lig.GetConformer().SetPositions(np.zeros((lig.GetNumAtoms(), 3)))"
   ]
  },
  {
   "cell_type": "code",
   "execution_count": 7,
   "metadata": {},
   "outputs": [
    {
     "data": {
      "text/plain": [
       "array([[0., 0., 0.],\n",
       "       [0., 0., 0.],\n",
       "       [0., 0., 0.],\n",
       "       [0., 0., 0.],\n",
       "       [0., 0., 0.],\n",
       "       [0., 0., 0.],\n",
       "       [0., 0., 0.],\n",
       "       [0., 0., 0.],\n",
       "       [0., 0., 0.],\n",
       "       [0., 0., 0.],\n",
       "       [0., 0., 0.],\n",
       "       [0., 0., 0.],\n",
       "       [0., 0., 0.],\n",
       "       [0., 0., 0.],\n",
       "       [0., 0., 0.],\n",
       "       [0., 0., 0.],\n",
       "       [0., 0., 0.],\n",
       "       [0., 0., 0.],\n",
       "       [0., 0., 0.],\n",
       "       [0., 0., 0.],\n",
       "       [0., 0., 0.],\n",
       "       [0., 0., 0.],\n",
       "       [0., 0., 0.],\n",
       "       [0., 0., 0.],\n",
       "       [0., 0., 0.],\n",
       "       [0., 0., 0.],\n",
       "       [0., 0., 0.],\n",
       "       [0., 0., 0.],\n",
       "       [0., 0., 0.],\n",
       "       [0., 0., 0.],\n",
       "       [0., 0., 0.],\n",
       "       [0., 0., 0.],\n",
       "       [0., 0., 0.],\n",
       "       [0., 0., 0.],\n",
       "       [0., 0., 0.],\n",
       "       [0., 0., 0.],\n",
       "       [0., 0., 0.],\n",
       "       [0., 0., 0.],\n",
       "       [0., 0., 0.],\n",
       "       [0., 0., 0.],\n",
       "       [0., 0., 0.],\n",
       "       [0., 0., 0.],\n",
       "       [0., 0., 0.],\n",
       "       [0., 0., 0.],\n",
       "       [0., 0., 0.],\n",
       "       [0., 0., 0.],\n",
       "       [0., 0., 0.],\n",
       "       [0., 0., 0.],\n",
       "       [0., 0., 0.],\n",
       "       [0., 0., 0.],\n",
       "       [0., 0., 0.],\n",
       "       [0., 0., 0.],\n",
       "       [0., 0., 0.],\n",
       "       [0., 0., 0.],\n",
       "       [0., 0., 0.],\n",
       "       [0., 0., 0.],\n",
       "       [0., 0., 0.],\n",
       "       [0., 0., 0.],\n",
       "       [0., 0., 0.],\n",
       "       [0., 0., 0.],\n",
       "       [0., 0., 0.],\n",
       "       [0., 0., 0.],\n",
       "       [0., 0., 0.],\n",
       "       [0., 0., 0.],\n",
       "       [0., 0., 0.],\n",
       "       [0., 0., 0.],\n",
       "       [0., 0., 0.],\n",
       "       [0., 0., 0.],\n",
       "       [0., 0., 0.],\n",
       "       [0., 0., 0.],\n",
       "       [0., 0., 0.],\n",
       "       [0., 0., 0.]])"
      ]
     },
     "execution_count": 7,
     "metadata": {},
     "output_type": "execute_result"
    }
   ],
   "source": [
    "lig.GetConformer().GetPositions()"
   ]
  },
  {
   "cell_type": "code",
   "execution_count": 22,
   "metadata": {},
   "outputs": [
    {
     "data": {
      "text/plain": [
       "<rdkit.Chem.rdchem.Conformer at 0x7f327147f740>"
      ]
     },
     "execution_count": 22,
     "metadata": {},
     "output_type": "execute_result"
    }
   ],
   "source": [
    "Chem.Conformer(10)"
   ]
  },
  {
   "cell_type": "code",
   "execution_count": 70,
   "metadata": {},
   "outputs": [
    {
     "name": "stdout",
     "output_type": "stream",
     "text": [
      "\n",
      "\n",
      "                           #########################                            \n",
      "                           #                       #                            \n",
      "                           #     xTB INTERFACE     #                            \n",
      "                           #                       #                            \n",
      "                           #########################                            \n",
      "Runmode: inputfile\n",
      "xTB method: GFN1\n",
      "xTB object numcores: 8\n",
      " No xtbdir argument passed to xTBTheory. Attempting to find xtbdir variable inside settings_ash \n",
      "settings_ash.settings_dict: {'debugflag': False, 'load_julia': False, 'julia_library': 'pythoncall', 'use_ANSI_color': False, 'print_logo': False, 'print_input': True, 'scale': 1.0, 'tol': 0.1, 'conndepth': 10, 'connectivity_code': 'julia', 'nonbondedMM_code': 'julia', 'print_exit_footer': True, 'print_full_timings': True}\n",
      " Found no xtbdir variable in ash.settings_ash module either. \n",
      " Found xtb in path. Setting xtbdir to: /home/arazthexd/miniforge3/envs/sqmvscreen2/bin \n",
      "\n",
      "\n",
      "                        ################################                        \n",
      "                        #                              #                        \n",
      "                        #     Singlepoint function     #                        \n",
      "                        #                              #                        \n",
      "                        ################################                        \n",
      " Charge/mult was not provided to Singlepoint \n",
      " Fragment contains charge/mult information: Charge: 1 Mult: 1  Using this. \n",
      "\n",
      "Doing single-point Energy job on fragment. Formula: O14H28C21P2N7 Label: lig \n",
      "Charge: 1 Mult: 1\n",
      "------------STARTING XTB INTERFACE-------------\n",
      "Object-label: None\n",
      "Run-label: None\n",
      "Using inputfile-based xTB interface\n",
      "Creating inputfile: xtb_.xyz\n",
      "Wrote XYZ file:  xtb_.xyz\n",
      "------------Running xTB-------------\n",
      "Running xtB using 8 cores\n",
      "...\n",
      "Running xtb with these arguments: ['/home/arazthexd/miniforge3/envs/sqmvscreen2/bin/xtb', 'xtb_.xyz', '--gfn', '1', '--chrg', '1', '--uhf', '0', '--iterations', '500', '--etemp', '300', '--acc', '0.1', '--parallel', '8']\n",
      "xTB job succeeded.\n",
      "------------xTB calculation done-----\n",
      "xtb energy : -152.814370629488\n",
      "------------ENDING XTB-INTERFACE-------------\n",
      "\n",
      "-------------------------------------------------------------\n",
      "Time to calculate step (xTB run): 0.544 seconds, 0.0 minutes.\n",
      "-------------------------------------------------------------\n",
      "Energy:  -152.814370629488\n",
      "\n",
      "-----------------------------------------------------------------\n",
      "Time to calculate step (Singlepoint): 0.544 seconds, 0.0 minutes.\n",
      "-----------------------------------------------------------------\n",
      "\n",
      "Writing to disk defined attributes of ASH_Results dataclass\n",
      "Results object data:\n",
      "label : Singlepoint\n",
      "energy : -152.814370629488\n",
      "charge : 1\n",
      "mult : 1\n"
     ]
    },
    {
     "data": {
      "text/plain": [
       "ASH_Results(label='Singlepoint', energy=-152.814370629488, qm_energy=None, mm_energy=None, qmmm_energy=None, gradient=None, reaction_energy=None, energy_contributions=None, energies=None, reaction_energies=None, relative_energies=None, labels=None, gradients=None, energies_dict=None, gradients_dict=None, worker_dirnames=None, geometry=None, initial_geometry=None, charge=1, mult=1, properties=None, hessian=None, frequencies=None, freq_masses=None, freq_elems=None, freq_coords=None, freq_atoms=None, freq_TRmodenum=None, freq_projection=None, freq_scaling_factor=None, freq_dipole_derivs=None, freq_polarizability_derivs=None, freq_Raman=None, normal_modes=None, Raman_activities=None, IR_intensities=None, depolarization_ratios=None, vib_eigenvectors=None, thermochemistry=None, displacement_dipole_dictionary=None, displacement_polarizability_dictionary=None, surfacepoints=None, reactant_geometry=None, product_geometry=None, saddlepoint_geometry=None, saddlepoint_fragment=None, MEP_energies_dict=None, barrier_energy=None)"
      ]
     },
     "execution_count": 70,
     "metadata": {},
     "output_type": "execute_result"
    }
   ],
   "source": [
    "theory = ash.xTBTheory(numcores=8)\n",
    "ash.Singlepoint(fragment=lig_frag, theory=theory)"
   ]
  },
  {
   "cell_type": "code",
   "execution_count": 6,
   "metadata": {},
   "outputs": [
    {
     "name": "stdout",
     "output_type": "stream",
     "text": [
      "\n",
      "--------------------------------------------------------------------------------\n",
      "                                New ASH fragment                                \n",
      "--------------------------------------------------------------------------------\n",
      "\n",
      "ASH Fragment creation\n",
      "read_pdbfile_openmm: Reading coordinates from PDB file 'new_poc.pdb' into fragment.\n",
      "Creating/Updating fragment attributes...\n",
      "Number of Atoms in fragment: 214\n",
      "Formula: S1O42C127N44\n",
      "Label: new_poc\n",
      "Charge: 1 Mult: 1\n",
      "\n",
      "--------------------------------------------------------------------------------\n"
     ]
    }
   ],
   "source": [
    "poc = Chem.MolFromPDBFile(\"new_poc.pdb\")\n",
    "poc_frag = ash.Fragment(pdbfile=\"new_poc.pdb\", mult=1, charge=Chem.GetFormalCharge(poc))"
   ]
  },
  {
   "cell_type": "code",
   "execution_count": null,
   "metadata": {},
   "outputs": [],
   "source": [
    "ash.fragmen"
   ]
  },
  {
   "cell_type": "code",
   "execution_count": null,
   "metadata": {},
   "outputs": [
    {
     "name": "stdout",
     "output_type": "stream",
     "text": [
      "\n",
      "--------------------------------------------------------------------------------\n",
      "                                New ASH fragment                                \n",
      "--------------------------------------------------------------------------------\n",
      "\n",
      "ASH Fragment creation\n",
      "read_pdbfile_openmm: Reading coordinates from PDB file '/home/arazthexd/projects/002_sqm/minimized.pdb' into fragment.\n",
      "Creating/Updating fragment attributes...\n",
      "Number of Atoms in fragment: 475\n",
      "Formula: S1H251C137O42N44\n",
      "Label: minimized\n",
      "Charge: None Mult: None\n",
      "\n",
      "--------------------------------------------------------------------------------\n"
     ]
    }
   ],
   "source": [
    "ashmol = ash.Fragment(pdbfile=\"/home/arazthexd/projects/002_sqm/new_poc.pdb\")\n",
    "theory = ash.xTBTheory(numcores=8)\n",
    "ash.Singlepoint(fragment=ashmol, theory=theory, charge=0, mult=1)"
   ]
  },
  {
   "cell_type": "code",
   "execution_count": 7,
   "metadata": {},
   "outputs": [
    {
     "name": "stdout",
     "output_type": "stream",
     "text": [
      "ASH Fragment object\n",
      "{'charge': None, 'mult': None, 'label': 'minimized', 'printlevel': 2, 'energy': None, 'elems': ['C', 'O', 'C', 'H', 'H', 'H', 'N', 'H', 'C', 'H', 'C', 'O', 'C', 'H', 'C', 'H', 'H', 'H', 'C', 'H', 'H', 'H', 'N', 'H', 'C', 'H', 'H', 'C', 'O', 'N', 'H', 'C', 'H', 'H', 'H', 'C', 'O', 'C', 'H', 'H', 'H', 'N', 'H', 'C', 'H', 'C', 'O', 'C', 'H', 'H', 'C', 'H', 'C', 'H', 'H', 'H', 'C', 'H', 'H', 'H', 'N', 'H', 'C', 'H', 'H', 'H', 'C', 'O', 'C', 'H', 'H', 'H', 'N', 'H', 'C', 'H', 'C', 'O', 'C', 'H', 'C', 'H', 'H', 'H', 'O', 'H', 'N', 'H', 'C', 'H', 'H', 'H', 'C', 'O', 'C', 'H', 'H', 'H', 'N', 'H', 'C', 'H', 'H', 'C', 'O', 'N', 'H', 'C', 'H', 'C', 'O', 'C', 'H', 'H', 'C', 'H', 'H', 'S', 'C', 'H', 'H', 'H', 'N', 'H', 'C', 'H', 'H', 'C', 'O', 'N', 'H', 'C', 'H', 'C', 'O', 'C', 'H', 'H', 'C', 'H', 'H', 'C', 'H', 'H', 'N', 'H', 'C', 'N', 'H', 'H', 'N', 'H', 'H', 'N', 'H', 'C', 'H', 'C', 'O', 'C', 'H', 'C', 'H', 'H', 'C', 'H', 'H', 'H', 'C', 'H', 'H', 'H', 'N', 'H', 'C', 'H', 'H', 'H', 'C', 'O', 'C', 'H', 'H', 'H', 'N', 'H', 'C', 'H', 'C', 'O', 'C', 'H', 'H', 'O', 'H', 'N', 'H', 'C', 'H', 'C', 'O', 'C', 'H', 'H', 'C', 'C', 'H', 'N', 'H', 'C', 'H', 'N', 'N', 'H', 'C', 'H', 'H', 'H', 'C', 'O', 'C', 'H', 'H', 'H', 'N', 'H', 'C', 'H', 'C', 'O', 'C', 'H', 'C', 'H', 'H', 'H', 'O', 'H', 'N', 'H', 'C', 'H', 'C', 'O', 'C', 'H', 'H', 'C', 'H', 'C', 'H', 'H', 'H', 'C', 'H', 'H', 'H', 'N', 'C', 'H', 'C', 'O', 'C', 'H', 'H', 'C', 'H', 'H', 'C', 'H', 'H', 'N', 'H', 'C', 'H', 'H', 'H', 'C', 'O', 'C', 'H', 'H', 'H', 'N', 'H', 'C', 'H', 'C', 'O', 'C', 'H', 'C', 'H', 'H', 'H', 'O', 'H', 'N', 'H', 'C', 'H', 'H', 'H', 'C', 'O', 'C', 'H', 'H', 'H', 'N', 'H', 'C', 'H', 'C', 'O', 'C', 'H', 'C', 'H', 'H', 'C', 'H', 'H', 'H', 'C', 'H', 'H', 'H', 'N', 'H', 'C', 'H', 'C', 'O', 'C', 'H', 'H', 'O', 'H', 'N', 'H', 'C', 'H', 'C', 'O', 'C', 'H', 'H', 'C', 'H', 'H', 'C', 'H', 'H', 'N', 'H', 'C', 'N', 'H', 'H', 'N', 'H', 'H', 'N', 'H', 'C', 'H', 'H', 'H', 'C', 'O', 'C', 'H', 'H', 'H', 'N', 'H', 'C', 'H', 'C', 'O', 'C', 'H', 'H', 'C', 'O', 'O', 'N', 'H', 'C', 'H', 'C', 'O', 'C', 'H', 'C', 'H', 'H', 'H', 'C', 'H', 'H', 'H', 'N', 'H', 'C', 'H', 'H', 'H', 'C', 'O', 'C', 'H', 'H', 'H', 'N', 'H', 'C', 'H', 'C', 'O', 'C', 'H', 'H', 'C', 'C', 'H', 'N', 'H', 'C', 'H', 'N', 'N', 'H', 'C', 'H', 'C', 'O', 'C', 'H', 'C', 'H', 'H', 'C', 'H', 'H', 'H', 'C', 'H', 'H', 'H', 'N', 'H', 'C', 'H', 'H', 'C', 'O', 'N', 'H', 'C', 'H', 'C', 'O', 'C', 'H', 'H', 'O', 'H', 'N', 'H', 'C', 'H', 'H', 'H'], 'coords': array([[-0.674, -0.467, -5.869],\n",
      "       [-1.228,  0.211, -6.727],\n",
      "       [ 0.828, -0.598, -5.851],\n",
      "       ...,\n",
      "       [ 3.661, -3.507, -3.083],\n",
      "       [ 2.402, -2.662, -4.018],\n",
      "       [ 1.998, -4.121, -3.076]]), 'connectivity': [], 'atomcharges': [0.0, 0.0, 0.0, 0.0, 0.0, 0.0, 0.0, 0.0, 0.0, 0.0, 0.0, 0.0, 0.0, 0.0, 0.0, 0.0, 0.0, 0.0, 0.0, 0.0, 0.0, 0.0, 0.0, 0.0, 0.0, 0.0, 0.0, 0.0, 0.0, 0.0, 0.0, 0.0, 0.0, 0.0, 0.0, 0.0, 0.0, 0.0, 0.0, 0.0, 0.0, 0.0, 0.0, 0.0, 0.0, 0.0, 0.0, 0.0, 0.0, 0.0, 0.0, 0.0, 0.0, 0.0, 0.0, 0.0, 0.0, 0.0, 0.0, 0.0, 0.0, 0.0, 0.0, 0.0, 0.0, 0.0, 0.0, 0.0, 0.0, 0.0, 0.0, 0.0, 0.0, 0.0, 0.0, 0.0, 0.0, 0.0, 0.0, 0.0, 0.0, 0.0, 0.0, 0.0, 0.0, 0.0, 0.0, 0.0, 0.0, 0.0, 0.0, 0.0, 0.0, 0.0, 0.0, 0.0, 0.0, 0.0, 0.0, 0.0, 0.0, 0.0, 0.0, 0.0, 0.0, 0.0, 0.0, 0.0, 0.0, 0.0, 0.0, 0.0, 0.0, 0.0, 0.0, 0.0, 0.0, 0.0, 0.0, 0.0, 0.0, 0.0, 0.0, 0.0, 0.0, 0.0, 0.0, 0.0, 0.0, 0.0, 0.0, 0.0, 0.0, 0.0, 0.0, 0.0, 0.0, 0.0, 0.0, 0.0, 0.0, 0.0, 0.0, 0.0, 0.0, 0.0, 0.0, 0.0, 0.0, 0.0, 0.0, 0.0, 0.0, 0.0, 0.0, 0.0, 0.0, 0.0, 0.0, 0.0, 0.0, 0.0, 0.0, 0.0, 0.0, 0.0, 0.0, 0.0, 0.0, 0.0, 0.0, 0.0, 0.0, 0.0, 0.0, 0.0, 0.0, 0.0, 0.0, 0.0, 0.0, 0.0, 0.0, 0.0, 0.0, 0.0, 0.0, 0.0, 0.0, 0.0, 0.0, 0.0, 0.0, 0.0, 0.0, 0.0, 0.0, 0.0, 0.0, 0.0, 0.0, 0.0, 0.0, 0.0, 0.0, 0.0, 0.0, 0.0, 0.0, 0.0, 0.0, 0.0, 0.0, 0.0, 0.0, 0.0, 0.0, 0.0, 0.0, 0.0, 0.0, 0.0, 0.0, 0.0, 0.0, 0.0, 0.0, 0.0, 0.0, 0.0, 0.0, 0.0, 0.0, 0.0, 0.0, 0.0, 0.0, 0.0, 0.0, 0.0, 0.0, 0.0, 0.0, 0.0, 0.0, 0.0, 0.0, 0.0, 0.0, 0.0, 0.0, 0.0, 0.0, 0.0, 0.0, 0.0, 0.0, 0.0, 0.0, 0.0, 0.0, 0.0, 0.0, 0.0, 0.0, 0.0, 0.0, 0.0, 0.0, 0.0, 0.0, 0.0, 0.0, 0.0, 0.0, 0.0, 0.0, 0.0, 0.0, 0.0, 0.0, 0.0, 0.0, 0.0, 0.0, 0.0, 0.0, 0.0, 0.0, 0.0, 0.0, 0.0, 0.0, 0.0, 0.0, 0.0, 0.0, 0.0, 0.0, 0.0, 0.0, 0.0, 0.0, 0.0, 0.0, 0.0, 0.0, 0.0, 0.0, 0.0, 0.0, 0.0, 0.0, 0.0, 0.0, 0.0, 0.0, 0.0, 0.0, 0.0, 0.0, 0.0, 0.0, 0.0, 0.0, 0.0, 0.0, 0.0, 0.0, 0.0, 0.0, 0.0, 0.0, 0.0, 0.0, 0.0, 0.0, 0.0, 0.0, 0.0, 0.0, 0.0, 0.0, 0.0, 0.0, 0.0, 0.0, 0.0, 0.0, 0.0, 0.0, 0.0, 0.0, 0.0, 0.0, 0.0, 0.0, 0.0, 0.0, 0.0, 0.0, 0.0, 0.0, 0.0, 0.0, 0.0, 0.0, 0.0, 0.0, 0.0, 0.0, 0.0, 0.0, 0.0, 0.0, 0.0, 0.0, 0.0, 0.0, 0.0, 0.0, 0.0, 0.0, 0.0, 0.0, 0.0, 0.0, 0.0, 0.0, 0.0, 0.0, 0.0, 0.0, 0.0, 0.0, 0.0, 0.0, 0.0, 0.0, 0.0, 0.0, 0.0, 0.0, 0.0, 0.0, 0.0, 0.0, 0.0, 0.0, 0.0, 0.0, 0.0, 0.0, 0.0, 0.0, 0.0, 0.0, 0.0, 0.0, 0.0, 0.0, 0.0, 0.0, 0.0, 0.0, 0.0, 0.0, 0.0, 0.0, 0.0, 0.0, 0.0, 0.0, 0.0, 0.0, 0.0, 0.0, 0.0, 0.0, 0.0, 0.0, 0.0, 0.0, 0.0, 0.0, 0.0, 0.0, 0.0, 0.0, 0.0, 0.0, 0.0, 0.0, 0.0, 0.0, 0.0, 0.0, 0.0, 0.0, 0.0, 0.0, 0.0, 0.0, 0.0, 0.0, 0.0, 0.0, 0.0, 0.0, 0.0, 0.0, 0.0, 0.0, 0.0, 0.0], 'atomtypes': ['None', 'None', 'None', 'None', 'None', 'None', 'None', 'None', 'None', 'None', 'None', 'None', 'None', 'None', 'None', 'None', 'None', 'None', 'None', 'None', 'None', 'None', 'None', 'None', 'None', 'None', 'None', 'None', 'None', 'None', 'None', 'None', 'None', 'None', 'None', 'None', 'None', 'None', 'None', 'None', 'None', 'None', 'None', 'None', 'None', 'None', 'None', 'None', 'None', 'None', 'None', 'None', 'None', 'None', 'None', 'None', 'None', 'None', 'None', 'None', 'None', 'None', 'None', 'None', 'None', 'None', 'None', 'None', 'None', 'None', 'None', 'None', 'None', 'None', 'None', 'None', 'None', 'None', 'None', 'None', 'None', 'None', 'None', 'None', 'None', 'None', 'None', 'None', 'None', 'None', 'None', 'None', 'None', 'None', 'None', 'None', 'None', 'None', 'None', 'None', 'None', 'None', 'None', 'None', 'None', 'None', 'None', 'None', 'None', 'None', 'None', 'None', 'None', 'None', 'None', 'None', 'None', 'None', 'None', 'None', 'None', 'None', 'None', 'None', 'None', 'None', 'None', 'None', 'None', 'None', 'None', 'None', 'None', 'None', 'None', 'None', 'None', 'None', 'None', 'None', 'None', 'None', 'None', 'None', 'None', 'None', 'None', 'None', 'None', 'None', 'None', 'None', 'None', 'None', 'None', 'None', 'None', 'None', 'None', 'None', 'None', 'None', 'None', 'None', 'None', 'None', 'None', 'None', 'None', 'None', 'None', 'None', 'None', 'None', 'None', 'None', 'None', 'None', 'None', 'None', 'None', 'None', 'None', 'None', 'None', 'None', 'None', 'None', 'None', 'None', 'None', 'None', 'None', 'None', 'None', 'None', 'None', 'None', 'None', 'None', 'None', 'None', 'None', 'None', 'None', 'None', 'None', 'None', 'None', 'None', 'None', 'None', 'None', 'None', 'None', 'None', 'None', 'None', 'None', 'None', 'None', 'None', 'None', 'None', 'None', 'None', 'None', 'None', 'None', 'None', 'None', 'None', 'None', 'None', 'None', 'None', 'None', 'None', 'None', 'None', 'None', 'None', 'None', 'None', 'None', 'None', 'None', 'None', 'None', 'None', 'None', 'None', 'None', 'None', 'None', 'None', 'None', 'None', 'None', 'None', 'None', 'None', 'None', 'None', 'None', 'None', 'None', 'None', 'None', 'None', 'None', 'None', 'None', 'None', 'None', 'None', 'None', 'None', 'None', 'None', 'None', 'None', 'None', 'None', 'None', 'None', 'None', 'None', 'None', 'None', 'None', 'None', 'None', 'None', 'None', 'None', 'None', 'None', 'None', 'None', 'None', 'None', 'None', 'None', 'None', 'None', 'None', 'None', 'None', 'None', 'None', 'None', 'None', 'None', 'None', 'None', 'None', 'None', 'None', 'None', 'None', 'None', 'None', 'None', 'None', 'None', 'None', 'None', 'None', 'None', 'None', 'None', 'None', 'None', 'None', 'None', 'None', 'None', 'None', 'None', 'None', 'None', 'None', 'None', 'None', 'None', 'None', 'None', 'None', 'None', 'None', 'None', 'None', 'None', 'None', 'None', 'None', 'None', 'None', 'None', 'None', 'None', 'None', 'None', 'None', 'None', 'None', 'None', 'None', 'None', 'None', 'None', 'None', 'None', 'None', 'None', 'None', 'None', 'None', 'None', 'None', 'None', 'None', 'None', 'None', 'None', 'None', 'None', 'None', 'None', 'None', 'None', 'None', 'None', 'None', 'None', 'None', 'None', 'None', 'None', 'None', 'None', 'None', 'None', 'None', 'None', 'None', 'None', 'None', 'None', 'None', 'None', 'None', 'None', 'None', 'None', 'None', 'None', 'None', 'None', 'None', 'None', 'None', 'None', 'None', 'None', 'None', 'None', 'None', 'None', 'None', 'None', 'None', 'None', 'None', 'None', 'None', 'None', 'None', 'None', 'None', 'None', 'None', 'None', 'None', 'None', 'None', 'None', 'None', 'None', 'None', 'None', 'None', 'None', 'None', 'None', 'None', 'None', 'None', 'None', 'None', 'None', 'None', 'None', 'None', 'None', 'None', 'None', 'None', 'None', 'None', 'None', 'None', 'None', 'None'], 'pdb_atomnames': None, 'pdb_resnames': None, 'pdb_chainlabels': None, 'pdb_residlabels': None, 'pdb_conect_lines': None, 'pdb_topology': <Topology; 1 chains, 44 residues, 475 atoms, 468 bonds>, 'Centralmainfrag': [], 'formula': 'S1H251C137O42N44', 'hessian': None, 'fragmenttype_labels': ['None', 'None', 'None', 'None', 'None', 'None', 'None', 'None', 'None', 'None', 'None', 'None', 'None', 'None', 'None', 'None', 'None', 'None', 'None', 'None', 'None', 'None', 'None', 'None', 'None', 'None', 'None', 'None', 'None', 'None', 'None', 'None', 'None', 'None', 'None', 'None', 'None', 'None', 'None', 'None', 'None', 'None', 'None', 'None', 'None', 'None', 'None', 'None', 'None', 'None', 'None', 'None', 'None', 'None', 'None', 'None', 'None', 'None', 'None', 'None', 'None', 'None', 'None', 'None', 'None', 'None', 'None', 'None', 'None', 'None', 'None', 'None', 'None', 'None', 'None', 'None', 'None', 'None', 'None', 'None', 'None', 'None', 'None', 'None', 'None', 'None', 'None', 'None', 'None', 'None', 'None', 'None', 'None', 'None', 'None', 'None', 'None', 'None', 'None', 'None', 'None', 'None', 'None', 'None', 'None', 'None', 'None', 'None', 'None', 'None', 'None', 'None', 'None', 'None', 'None', 'None', 'None', 'None', 'None', 'None', 'None', 'None', 'None', 'None', 'None', 'None', 'None', 'None', 'None', 'None', 'None', 'None', 'None', 'None', 'None', 'None', 'None', 'None', 'None', 'None', 'None', 'None', 'None', 'None', 'None', 'None', 'None', 'None', 'None', 'None', 'None', 'None', 'None', 'None', 'None', 'None', 'None', 'None', 'None', 'None', 'None', 'None', 'None', 'None', 'None', 'None', 'None', 'None', 'None', 'None', 'None', 'None', 'None', 'None', 'None', 'None', 'None', 'None', 'None', 'None', 'None', 'None', 'None', 'None', 'None', 'None', 'None', 'None', 'None', 'None', 'None', 'None', 'None', 'None', 'None', 'None', 'None', 'None', 'None', 'None', 'None', 'None', 'None', 'None', 'None', 'None', 'None', 'None', 'None', 'None', 'None', 'None', 'None', 'None', 'None', 'None', 'None', 'None', 'None', 'None', 'None', 'None', 'None', 'None', 'None', 'None', 'None', 'None', 'None', 'None', 'None', 'None', 'None', 'None', 'None', 'None', 'None', 'None', 'None', 'None', 'None', 'None', 'None', 'None', 'None', 'None', 'None', 'None', 'None', 'None', 'None', 'None', 'None', 'None', 'None', 'None', 'None', 'None', 'None', 'None', 'None', 'None', 'None', 'None', 'None', 'None', 'None', 'None', 'None', 'None', 'None', 'None', 'None', 'None', 'None', 'None', 'None', 'None', 'None', 'None', 'None', 'None', 'None', 'None', 'None', 'None', 'None', 'None', 'None', 'None', 'None', 'None', 'None', 'None', 'None', 'None', 'None', 'None', 'None', 'None', 'None', 'None', 'None', 'None', 'None', 'None', 'None', 'None', 'None', 'None', 'None', 'None', 'None', 'None', 'None', 'None', 'None', 'None', 'None', 'None', 'None', 'None', 'None', 'None', 'None', 'None', 'None', 'None', 'None', 'None', 'None', 'None', 'None', 'None', 'None', 'None', 'None', 'None', 'None', 'None', 'None', 'None', 'None', 'None', 'None', 'None', 'None', 'None', 'None', 'None', 'None', 'None', 'None', 'None', 'None', 'None', 'None', 'None', 'None', 'None', 'None', 'None', 'None', 'None', 'None', 'None', 'None', 'None', 'None', 'None', 'None', 'None', 'None', 'None', 'None', 'None', 'None', 'None', 'None', 'None', 'None', 'None', 'None', 'None', 'None', 'None', 'None', 'None', 'None', 'None', 'None', 'None', 'None', 'None', 'None', 'None', 'None', 'None', 'None', 'None', 'None', 'None', 'None', 'None', 'None', 'None', 'None', 'None', 'None', 'None', 'None', 'None', 'None', 'None', 'None', 'None', 'None', 'None', 'None', 'None', 'None', 'None', 'None', 'None', 'None', 'None', 'None', 'None', 'None', 'None', 'None', 'None', 'None', 'None', 'None', 'None', 'None', 'None', 'None', 'None', 'None', 'None', 'None', 'None', 'None', 'None', 'None', 'None', 'None', 'None', 'None', 'None', 'None', 'None', 'None', 'None', 'None', 'None', 'None', 'None', 'None', 'None', 'None', 'None', 'None', 'None', 'None', 'None', 'None', 'None', 'None', 'None', 'None', 'None', 'None'], 'nuccharge': 1733, 'nuc_charges': [6, 8, 6, 1, 1, 1, 7, 1, 6, 1, 6, 8, 6, 1, 6, 1, 1, 1, 6, 1, 1, 1, 7, 1, 6, 1, 1, 6, 8, 7, 1, 6, 1, 1, 1, 6, 8, 6, 1, 1, 1, 7, 1, 6, 1, 6, 8, 6, 1, 1, 6, 1, 6, 1, 1, 1, 6, 1, 1, 1, 7, 1, 6, 1, 1, 1, 6, 8, 6, 1, 1, 1, 7, 1, 6, 1, 6, 8, 6, 1, 6, 1, 1, 1, 8, 1, 7, 1, 6, 1, 1, 1, 6, 8, 6, 1, 1, 1, 7, 1, 6, 1, 1, 6, 8, 7, 1, 6, 1, 6, 8, 6, 1, 1, 6, 1, 1, 16, 6, 1, 1, 1, 7, 1, 6, 1, 1, 6, 8, 7, 1, 6, 1, 6, 8, 6, 1, 1, 6, 1, 1, 6, 1, 1, 7, 1, 6, 7, 1, 1, 7, 1, 1, 7, 1, 6, 1, 6, 8, 6, 1, 6, 1, 1, 6, 1, 1, 1, 6, 1, 1, 1, 7, 1, 6, 1, 1, 1, 6, 8, 6, 1, 1, 1, 7, 1, 6, 1, 6, 8, 6, 1, 1, 8, 1, 7, 1, 6, 1, 6, 8, 6, 1, 1, 6, 6, 1, 7, 1, 6, 1, 7, 7, 1, 6, 1, 1, 1, 6, 8, 6, 1, 1, 1, 7, 1, 6, 1, 6, 8, 6, 1, 6, 1, 1, 1, 8, 1, 7, 1, 6, 1, 6, 8, 6, 1, 1, 6, 1, 6, 1, 1, 1, 6, 1, 1, 1, 7, 6, 1, 6, 8, 6, 1, 1, 6, 1, 1, 6, 1, 1, 7, 1, 6, 1, 1, 1, 6, 8, 6, 1, 1, 1, 7, 1, 6, 1, 6, 8, 6, 1, 6, 1, 1, 1, 8, 1, 7, 1, 6, 1, 1, 1, 6, 8, 6, 1, 1, 1, 7, 1, 6, 1, 6, 8, 6, 1, 6, 1, 1, 6, 1, 1, 1, 6, 1, 1, 1, 7, 1, 6, 1, 6, 8, 6, 1, 1, 8, 1, 7, 1, 6, 1, 6, 8, 6, 1, 1, 6, 1, 1, 6, 1, 1, 7, 1, 6, 7, 1, 1, 7, 1, 1, 7, 1, 6, 1, 1, 1, 6, 8, 6, 1, 1, 1, 7, 1, 6, 1, 6, 8, 6, 1, 1, 6, 8, 8, 7, 1, 6, 1, 6, 8, 6, 1, 6, 1, 1, 1, 6, 1, 1, 1, 7, 1, 6, 1, 1, 1, 6, 8, 6, 1, 1, 1, 7, 1, 6, 1, 6, 8, 6, 1, 1, 6, 6, 1, 7, 1, 6, 1, 7, 7, 1, 6, 1, 6, 8, 6, 1, 6, 1, 1, 6, 1, 1, 1, 6, 1, 1, 1, 7, 1, 6, 1, 1, 6, 8, 7, 1, 6, 1, 6, 8, 6, 1, 1, 8, 1, 7, 1, 6, 1, 1, 1], 'numatoms': 475, 'atomlist': [0, 1, 2, 3, 4, 5, 6, 7, 8, 9, 10, 11, 12, 13, 14, 15, 16, 17, 18, 19, 20, 21, 22, 23, 24, 25, 26, 27, 28, 29, 30, 31, 32, 33, 34, 35, 36, 37, 38, 39, 40, 41, 42, 43, 44, 45, 46, 47, 48, 49, 50, 51, 52, 53, 54, 55, 56, 57, 58, 59, 60, 61, 62, 63, 64, 65, 66, 67, 68, 69, 70, 71, 72, 73, 74, 75, 76, 77, 78, 79, 80, 81, 82, 83, 84, 85, 86, 87, 88, 89, 90, 91, 92, 93, 94, 95, 96, 97, 98, 99, 100, 101, 102, 103, 104, 105, 106, 107, 108, 109, 110, 111, 112, 113, 114, 115, 116, 117, 118, 119, 120, 121, 122, 123, 124, 125, 126, 127, 128, 129, 130, 131, 132, 133, 134, 135, 136, 137, 138, 139, 140, 141, 142, 143, 144, 145, 146, 147, 148, 149, 150, 151, 152, 153, 154, 155, 156, 157, 158, 159, 160, 161, 162, 163, 164, 165, 166, 167, 168, 169, 170, 171, 172, 173, 174, 175, 176, 177, 178, 179, 180, 181, 182, 183, 184, 185, 186, 187, 188, 189, 190, 191, 192, 193, 194, 195, 196, 197, 198, 199, 200, 201, 202, 203, 204, 205, 206, 207, 208, 209, 210, 211, 212, 213, 214, 215, 216, 217, 218, 219, 220, 221, 222, 223, 224, 225, 226, 227, 228, 229, 230, 231, 232, 233, 234, 235, 236, 237, 238, 239, 240, 241, 242, 243, 244, 245, 246, 247, 248, 249, 250, 251, 252, 253, 254, 255, 256, 257, 258, 259, 260, 261, 262, 263, 264, 265, 266, 267, 268, 269, 270, 271, 272, 273, 274, 275, 276, 277, 278, 279, 280, 281, 282, 283, 284, 285, 286, 287, 288, 289, 290, 291, 292, 293, 294, 295, 296, 297, 298, 299, 300, 301, 302, 303, 304, 305, 306, 307, 308, 309, 310, 311, 312, 313, 314, 315, 316, 317, 318, 319, 320, 321, 322, 323, 324, 325, 326, 327, 328, 329, 330, 331, 332, 333, 334, 335, 336, 337, 338, 339, 340, 341, 342, 343, 344, 345, 346, 347, 348, 349, 350, 351, 352, 353, 354, 355, 356, 357, 358, 359, 360, 361, 362, 363, 364, 365, 366, 367, 368, 369, 370, 371, 372, 373, 374, 375, 376, 377, 378, 379, 380, 381, 382, 383, 384, 385, 386, 387, 388, 389, 390, 391, 392, 393, 394, 395, 396, 397, 398, 399, 400, 401, 402, 403, 404, 405, 406, 407, 408, 409, 410, 411, 412, 413, 414, 415, 416, 417, 418, 419, 420, 421, 422, 423, 424, 425, 426, 427, 428, 429, 430, 431, 432, 433, 434, 435, 436, 437, 438, 439, 440, 441, 442, 443, 444, 445, 446, 447, 448, 449, 450, 451, 452, 453, 454, 455, 456, 457, 458, 459, 460, 461, 462, 463, 464, 465, 466, 467, 468, 469, 470, 471, 472, 473, 474], 'allatoms': [0, 1, 2, 3, 4, 5, 6, 7, 8, 9, 10, 11, 12, 13, 14, 15, 16, 17, 18, 19, 20, 21, 22, 23, 24, 25, 26, 27, 28, 29, 30, 31, 32, 33, 34, 35, 36, 37, 38, 39, 40, 41, 42, 43, 44, 45, 46, 47, 48, 49, 50, 51, 52, 53, 54, 55, 56, 57, 58, 59, 60, 61, 62, 63, 64, 65, 66, 67, 68, 69, 70, 71, 72, 73, 74, 75, 76, 77, 78, 79, 80, 81, 82, 83, 84, 85, 86, 87, 88, 89, 90, 91, 92, 93, 94, 95, 96, 97, 98, 99, 100, 101, 102, 103, 104, 105, 106, 107, 108, 109, 110, 111, 112, 113, 114, 115, 116, 117, 118, 119, 120, 121, 122, 123, 124, 125, 126, 127, 128, 129, 130, 131, 132, 133, 134, 135, 136, 137, 138, 139, 140, 141, 142, 143, 144, 145, 146, 147, 148, 149, 150, 151, 152, 153, 154, 155, 156, 157, 158, 159, 160, 161, 162, 163, 164, 165, 166, 167, 168, 169, 170, 171, 172, 173, 174, 175, 176, 177, 178, 179, 180, 181, 182, 183, 184, 185, 186, 187, 188, 189, 190, 191, 192, 193, 194, 195, 196, 197, 198, 199, 200, 201, 202, 203, 204, 205, 206, 207, 208, 209, 210, 211, 212, 213, 214, 215, 216, 217, 218, 219, 220, 221, 222, 223, 224, 225, 226, 227, 228, 229, 230, 231, 232, 233, 234, 235, 236, 237, 238, 239, 240, 241, 242, 243, 244, 245, 246, 247, 248, 249, 250, 251, 252, 253, 254, 255, 256, 257, 258, 259, 260, 261, 262, 263, 264, 265, 266, 267, 268, 269, 270, 271, 272, 273, 274, 275, 276, 277, 278, 279, 280, 281, 282, 283, 284, 285, 286, 287, 288, 289, 290, 291, 292, 293, 294, 295, 296, 297, 298, 299, 300, 301, 302, 303, 304, 305, 306, 307, 308, 309, 310, 311, 312, 313, 314, 315, 316, 317, 318, 319, 320, 321, 322, 323, 324, 325, 326, 327, 328, 329, 330, 331, 332, 333, 334, 335, 336, 337, 338, 339, 340, 341, 342, 343, 344, 345, 346, 347, 348, 349, 350, 351, 352, 353, 354, 355, 356, 357, 358, 359, 360, 361, 362, 363, 364, 365, 366, 367, 368, 369, 370, 371, 372, 373, 374, 375, 376, 377, 378, 379, 380, 381, 382, 383, 384, 385, 386, 387, 388, 389, 390, 391, 392, 393, 394, 395, 396, 397, 398, 399, 400, 401, 402, 403, 404, 405, 406, 407, 408, 409, 410, 411, 412, 413, 414, 415, 416, 417, 418, 419, 420, 421, 422, 423, 424, 425, 426, 427, 428, 429, 430, 431, 432, 433, 434, 435, 436, 437, 438, 439, 440, 441, 442, 443, 444, 445, 446, 447, 448, 449, 450, 451, 452, 453, 454, 455, 456, 457, 458, 459, 460, 461, 462, 463, 464, 465, 466, 467, 468, 469, 470, 471, 472, 473, 474], 'mass': 3218.793439999985, 'list_of_masses': [12.0107, 15.9994, 12.0107, 1.00794, 1.00794, 1.00794, 14.0067, 1.00794, 12.0107, 1.00794, 12.0107, 15.9994, 12.0107, 1.00794, 12.0107, 1.00794, 1.00794, 1.00794, 12.0107, 1.00794, 1.00794, 1.00794, 14.0067, 1.00794, 12.0107, 1.00794, 1.00794, 12.0107, 15.9994, 14.0067, 1.00794, 12.0107, 1.00794, 1.00794, 1.00794, 12.0107, 15.9994, 12.0107, 1.00794, 1.00794, 1.00794, 14.0067, 1.00794, 12.0107, 1.00794, 12.0107, 15.9994, 12.0107, 1.00794, 1.00794, 12.0107, 1.00794, 12.0107, 1.00794, 1.00794, 1.00794, 12.0107, 1.00794, 1.00794, 1.00794, 14.0067, 1.00794, 12.0107, 1.00794, 1.00794, 1.00794, 12.0107, 15.9994, 12.0107, 1.00794, 1.00794, 1.00794, 14.0067, 1.00794, 12.0107, 1.00794, 12.0107, 15.9994, 12.0107, 1.00794, 12.0107, 1.00794, 1.00794, 1.00794, 15.9994, 1.00794, 14.0067, 1.00794, 12.0107, 1.00794, 1.00794, 1.00794, 12.0107, 15.9994, 12.0107, 1.00794, 1.00794, 1.00794, 14.0067, 1.00794, 12.0107, 1.00794, 1.00794, 12.0107, 15.9994, 14.0067, 1.00794, 12.0107, 1.00794, 12.0107, 15.9994, 12.0107, 1.00794, 1.00794, 12.0107, 1.00794, 1.00794, 32.065, 12.0107, 1.00794, 1.00794, 1.00794, 14.0067, 1.00794, 12.0107, 1.00794, 1.00794, 12.0107, 15.9994, 14.0067, 1.00794, 12.0107, 1.00794, 12.0107, 15.9994, 12.0107, 1.00794, 1.00794, 12.0107, 1.00794, 1.00794, 12.0107, 1.00794, 1.00794, 14.0067, 1.00794, 12.0107, 14.0067, 1.00794, 1.00794, 14.0067, 1.00794, 1.00794, 14.0067, 1.00794, 12.0107, 1.00794, 12.0107, 15.9994, 12.0107, 1.00794, 12.0107, 1.00794, 1.00794, 12.0107, 1.00794, 1.00794, 1.00794, 12.0107, 1.00794, 1.00794, 1.00794, 14.0067, 1.00794, 12.0107, 1.00794, 1.00794, 1.00794, 12.0107, 15.9994, 12.0107, 1.00794, 1.00794, 1.00794, 14.0067, 1.00794, 12.0107, 1.00794, 12.0107, 15.9994, 12.0107, 1.00794, 1.00794, 15.9994, 1.00794, 14.0067, 1.00794, 12.0107, 1.00794, 12.0107, 15.9994, 12.0107, 1.00794, 1.00794, 12.0107, 12.0107, 1.00794, 14.0067, 1.00794, 12.0107, 1.00794, 14.0067, 14.0067, 1.00794, 12.0107, 1.00794, 1.00794, 1.00794, 12.0107, 15.9994, 12.0107, 1.00794, 1.00794, 1.00794, 14.0067, 1.00794, 12.0107, 1.00794, 12.0107, 15.9994, 12.0107, 1.00794, 12.0107, 1.00794, 1.00794, 1.00794, 15.9994, 1.00794, 14.0067, 1.00794, 12.0107, 1.00794, 12.0107, 15.9994, 12.0107, 1.00794, 1.00794, 12.0107, 1.00794, 12.0107, 1.00794, 1.00794, 1.00794, 12.0107, 1.00794, 1.00794, 1.00794, 14.0067, 12.0107, 1.00794, 12.0107, 15.9994, 12.0107, 1.00794, 1.00794, 12.0107, 1.00794, 1.00794, 12.0107, 1.00794, 1.00794, 14.0067, 1.00794, 12.0107, 1.00794, 1.00794, 1.00794, 12.0107, 15.9994, 12.0107, 1.00794, 1.00794, 1.00794, 14.0067, 1.00794, 12.0107, 1.00794, 12.0107, 15.9994, 12.0107, 1.00794, 12.0107, 1.00794, 1.00794, 1.00794, 15.9994, 1.00794, 14.0067, 1.00794, 12.0107, 1.00794, 1.00794, 1.00794, 12.0107, 15.9994, 12.0107, 1.00794, 1.00794, 1.00794, 14.0067, 1.00794, 12.0107, 1.00794, 12.0107, 15.9994, 12.0107, 1.00794, 12.0107, 1.00794, 1.00794, 12.0107, 1.00794, 1.00794, 1.00794, 12.0107, 1.00794, 1.00794, 1.00794, 14.0067, 1.00794, 12.0107, 1.00794, 12.0107, 15.9994, 12.0107, 1.00794, 1.00794, 15.9994, 1.00794, 14.0067, 1.00794, 12.0107, 1.00794, 12.0107, 15.9994, 12.0107, 1.00794, 1.00794, 12.0107, 1.00794, 1.00794, 12.0107, 1.00794, 1.00794, 14.0067, 1.00794, 12.0107, 14.0067, 1.00794, 1.00794, 14.0067, 1.00794, 1.00794, 14.0067, 1.00794, 12.0107, 1.00794, 1.00794, 1.00794, 12.0107, 15.9994, 12.0107, 1.00794, 1.00794, 1.00794, 14.0067, 1.00794, 12.0107, 1.00794, 12.0107, 15.9994, 12.0107, 1.00794, 1.00794, 12.0107, 15.9994, 15.9994, 14.0067, 1.00794, 12.0107, 1.00794, 12.0107, 15.9994, 12.0107, 1.00794, 12.0107, 1.00794, 1.00794, 1.00794, 12.0107, 1.00794, 1.00794, 1.00794, 14.0067, 1.00794, 12.0107, 1.00794, 1.00794, 1.00794, 12.0107, 15.9994, 12.0107, 1.00794, 1.00794, 1.00794, 14.0067, 1.00794, 12.0107, 1.00794, 12.0107, 15.9994, 12.0107, 1.00794, 1.00794, 12.0107, 12.0107, 1.00794, 14.0067, 1.00794, 12.0107, 1.00794, 14.0067, 14.0067, 1.00794, 12.0107, 1.00794, 12.0107, 15.9994, 12.0107, 1.00794, 12.0107, 1.00794, 1.00794, 12.0107, 1.00794, 1.00794, 1.00794, 12.0107, 1.00794, 1.00794, 1.00794, 14.0067, 1.00794, 12.0107, 1.00794, 1.00794, 12.0107, 15.9994, 14.0067, 1.00794, 12.0107, 1.00794, 12.0107, 15.9994, 12.0107, 1.00794, 1.00794, 15.9994, 1.00794, 14.0067, 1.00794, 12.0107, 1.00794, 1.00794, 1.00794], 'masses': [12.0107, 15.9994, 12.0107, 1.00794, 1.00794, 1.00794, 14.0067, 1.00794, 12.0107, 1.00794, 12.0107, 15.9994, 12.0107, 1.00794, 12.0107, 1.00794, 1.00794, 1.00794, 12.0107, 1.00794, 1.00794, 1.00794, 14.0067, 1.00794, 12.0107, 1.00794, 1.00794, 12.0107, 15.9994, 14.0067, 1.00794, 12.0107, 1.00794, 1.00794, 1.00794, 12.0107, 15.9994, 12.0107, 1.00794, 1.00794, 1.00794, 14.0067, 1.00794, 12.0107, 1.00794, 12.0107, 15.9994, 12.0107, 1.00794, 1.00794, 12.0107, 1.00794, 12.0107, 1.00794, 1.00794, 1.00794, 12.0107, 1.00794, 1.00794, 1.00794, 14.0067, 1.00794, 12.0107, 1.00794, 1.00794, 1.00794, 12.0107, 15.9994, 12.0107, 1.00794, 1.00794, 1.00794, 14.0067, 1.00794, 12.0107, 1.00794, 12.0107, 15.9994, 12.0107, 1.00794, 12.0107, 1.00794, 1.00794, 1.00794, 15.9994, 1.00794, 14.0067, 1.00794, 12.0107, 1.00794, 1.00794, 1.00794, 12.0107, 15.9994, 12.0107, 1.00794, 1.00794, 1.00794, 14.0067, 1.00794, 12.0107, 1.00794, 1.00794, 12.0107, 15.9994, 14.0067, 1.00794, 12.0107, 1.00794, 12.0107, 15.9994, 12.0107, 1.00794, 1.00794, 12.0107, 1.00794, 1.00794, 32.065, 12.0107, 1.00794, 1.00794, 1.00794, 14.0067, 1.00794, 12.0107, 1.00794, 1.00794, 12.0107, 15.9994, 14.0067, 1.00794, 12.0107, 1.00794, 12.0107, 15.9994, 12.0107, 1.00794, 1.00794, 12.0107, 1.00794, 1.00794, 12.0107, 1.00794, 1.00794, 14.0067, 1.00794, 12.0107, 14.0067, 1.00794, 1.00794, 14.0067, 1.00794, 1.00794, 14.0067, 1.00794, 12.0107, 1.00794, 12.0107, 15.9994, 12.0107, 1.00794, 12.0107, 1.00794, 1.00794, 12.0107, 1.00794, 1.00794, 1.00794, 12.0107, 1.00794, 1.00794, 1.00794, 14.0067, 1.00794, 12.0107, 1.00794, 1.00794, 1.00794, 12.0107, 15.9994, 12.0107, 1.00794, 1.00794, 1.00794, 14.0067, 1.00794, 12.0107, 1.00794, 12.0107, 15.9994, 12.0107, 1.00794, 1.00794, 15.9994, 1.00794, 14.0067, 1.00794, 12.0107, 1.00794, 12.0107, 15.9994, 12.0107, 1.00794, 1.00794, 12.0107, 12.0107, 1.00794, 14.0067, 1.00794, 12.0107, 1.00794, 14.0067, 14.0067, 1.00794, 12.0107, 1.00794, 1.00794, 1.00794, 12.0107, 15.9994, 12.0107, 1.00794, 1.00794, 1.00794, 14.0067, 1.00794, 12.0107, 1.00794, 12.0107, 15.9994, 12.0107, 1.00794, 12.0107, 1.00794, 1.00794, 1.00794, 15.9994, 1.00794, 14.0067, 1.00794, 12.0107, 1.00794, 12.0107, 15.9994, 12.0107, 1.00794, 1.00794, 12.0107, 1.00794, 12.0107, 1.00794, 1.00794, 1.00794, 12.0107, 1.00794, 1.00794, 1.00794, 14.0067, 12.0107, 1.00794, 12.0107, 15.9994, 12.0107, 1.00794, 1.00794, 12.0107, 1.00794, 1.00794, 12.0107, 1.00794, 1.00794, 14.0067, 1.00794, 12.0107, 1.00794, 1.00794, 1.00794, 12.0107, 15.9994, 12.0107, 1.00794, 1.00794, 1.00794, 14.0067, 1.00794, 12.0107, 1.00794, 12.0107, 15.9994, 12.0107, 1.00794, 12.0107, 1.00794, 1.00794, 1.00794, 15.9994, 1.00794, 14.0067, 1.00794, 12.0107, 1.00794, 1.00794, 1.00794, 12.0107, 15.9994, 12.0107, 1.00794, 1.00794, 1.00794, 14.0067, 1.00794, 12.0107, 1.00794, 12.0107, 15.9994, 12.0107, 1.00794, 12.0107, 1.00794, 1.00794, 12.0107, 1.00794, 1.00794, 1.00794, 12.0107, 1.00794, 1.00794, 1.00794, 14.0067, 1.00794, 12.0107, 1.00794, 12.0107, 15.9994, 12.0107, 1.00794, 1.00794, 15.9994, 1.00794, 14.0067, 1.00794, 12.0107, 1.00794, 12.0107, 15.9994, 12.0107, 1.00794, 1.00794, 12.0107, 1.00794, 1.00794, 12.0107, 1.00794, 1.00794, 14.0067, 1.00794, 12.0107, 14.0067, 1.00794, 1.00794, 14.0067, 1.00794, 1.00794, 14.0067, 1.00794, 12.0107, 1.00794, 1.00794, 1.00794, 12.0107, 15.9994, 12.0107, 1.00794, 1.00794, 1.00794, 14.0067, 1.00794, 12.0107, 1.00794, 12.0107, 15.9994, 12.0107, 1.00794, 1.00794, 12.0107, 15.9994, 15.9994, 14.0067, 1.00794, 12.0107, 1.00794, 12.0107, 15.9994, 12.0107, 1.00794, 12.0107, 1.00794, 1.00794, 1.00794, 12.0107, 1.00794, 1.00794, 1.00794, 14.0067, 1.00794, 12.0107, 1.00794, 1.00794, 1.00794, 12.0107, 15.9994, 12.0107, 1.00794, 1.00794, 1.00794, 14.0067, 1.00794, 12.0107, 1.00794, 12.0107, 15.9994, 12.0107, 1.00794, 1.00794, 12.0107, 12.0107, 1.00794, 14.0067, 1.00794, 12.0107, 1.00794, 14.0067, 14.0067, 1.00794, 12.0107, 1.00794, 12.0107, 15.9994, 12.0107, 1.00794, 12.0107, 1.00794, 1.00794, 12.0107, 1.00794, 1.00794, 1.00794, 12.0107, 1.00794, 1.00794, 1.00794, 14.0067, 1.00794, 12.0107, 1.00794, 1.00794, 12.0107, 15.9994, 14.0067, 1.00794, 12.0107, 1.00794, 12.0107, 15.9994, 12.0107, 1.00794, 1.00794, 15.9994, 1.00794, 14.0067, 1.00794, 12.0107, 1.00794, 1.00794, 1.00794], 'prettyformula': 'S1H251C137O42N44', 'constraints': None}\n"
     ]
    }
   ],
   "source": [
    "f.info()"
   ]
  }
 ],
 "metadata": {
  "kernelspec": {
   "display_name": "sqmvscreen2",
   "language": "python",
   "name": "python3"
  },
  "language_info": {
   "codemirror_mode": {
    "name": "ipython",
    "version": 3
   },
   "file_extension": ".py",
   "mimetype": "text/x-python",
   "name": "python",
   "nbconvert_exporter": "python",
   "pygments_lexer": "ipython3",
   "version": "3.10.14"
  }
 },
 "nbformat": 4,
 "nbformat_minor": 2
}
