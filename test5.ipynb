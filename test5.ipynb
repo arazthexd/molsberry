{
 "cells": [
  {
   "cell_type": "code",
   "execution_count": 1,
   "metadata": {},
   "outputs": [],
   "source": [
    "from moddipic.core.pipeline import Pipeline, OutputBlock\n",
    "from moddipic.core.data import Ligand, SMILESRep\n",
    "\n",
    "# try:\n",
    "from rdkit import Chem\n",
    "from moddipic.modules.rdkit.representations import RDKitMolRep\n",
    "from moddipic.modules.rdkit import (\n",
    "    RDKitTautEnumerator, RDKitLigandHAdder, RDKitLigandEmbedder\n",
    ")\n",
    "RDKIT_SUCCESSFUL_IMPORT = True\n",
    "# except: \n",
    "#     RDKIT_SUCCESSFUL_IMPORT = False"
   ]
  },
  {
   "cell_type": "code",
   "execution_count": 25,
   "metadata": {},
   "outputs": [],
   "source": [
    "class Pipeline1(Pipeline):\n",
    "    name = \"pipeline1\"\n",
    "    def build(self):\n",
    "        self.add_block(RDKitTautEnumerator(flatten=True), \"tau_enum\")\n",
    "        self.add_block(RDKitLigandHAdder(), \"h_adder\")\n",
    "        self.add_block(RDKitLigandEmbedder(), \"lig_embedder\")\n",
    "        self.add_block(OutputBlock([\"ligands\"]), \"output\")\n",
    "        self.add_connection(\"tau_enum\", \"ligands\", \"h_adder\", \"ligands\")\n",
    "        self.add_connection(\"h_adder\", \"ligands\", \"lig_embedder\", \"ligands\")\n",
    "        self.add_connection(\"lig_embedder\", \"ligands\", \"output\", \"ligands\")\n",
    "\n",
    "smi_rep = SMILESRep(\"CCC(=O)CCc1ccccc1\")\n",
    "pipeline = Pipeline1()"
   ]
  },
  {
   "cell_type": "code",
   "execution_count": 26,
   "metadata": {},
   "outputs": [
    {
     "name": "stdout",
     "output_type": "stream",
     "text": [
      "\n",
      ">>>>>>>>>>>>>>>>>>>>>>>>>>>>>>>>>>>>>>>>>>>>>>>>>>>>>>>\n",
      ">>                STARTED: pipeline1                 >>\n",
      ">>>>>>>>>>>>>>>>>>>>>>>>>>>>>>>>>>>>>>>>>>>>>>>>>>>>>>>\n",
      "\n",
      "[Running Pipe Block: (tau_enum) RDKIT Tautomer Enumerator]\n"
     ]
    },
    {
     "name": "stderr",
     "output_type": "stream",
     "text": [
      "100%|██████████| 1/1 [00:00<00:00, 191.54it/s]\n"
     ]
    },
    {
     "name": "stdout",
     "output_type": "stream",
     "text": [
      "\n",
      "[Running Pipe Block: (h_adder) RDKit Hydrogen Adder]\n",
      "<class 'moddipic.core.data.special_cls.Ligand'> <class 'moddipic.core.data.special_cls.Ligand'>\n",
      "<class 'moddipic.core.data.special_cls.Ligand'> <class 'moddipic.core.data.special_cls.Ligand'>\n",
      "<class 'moddipic.core.data.special_cls.Ligand'> <class 'moddipic.core.data.special_cls.Ligand'>\n",
      "<class 'moddipic.core.data.special_cls.Ligand'> <class 'moddipic.core.data.special_cls.Ligand'>\n"
     ]
    },
    {
     "name": "stderr",
     "output_type": "stream",
     "text": [
      "100%|██████████| 3/3 [00:00<00:00, 5785.25it/s]\n"
     ]
    },
    {
     "name": "stdout",
     "output_type": "stream",
     "text": [
      "\n",
      "[Running Pipe Block: (lig_embedder) RDKit Ligand Embedder]\n",
      "<class 'moddipic.core.data.special_cls.Ligand'> <class 'moddipic.core.data.special_cls.Ligand'>\n",
      "<class 'moddipic.core.data.special_cls.Ligand'> <class 'moddipic.core.data.special_cls.Ligand'>\n",
      "<class 'moddipic.core.data.special_cls.Ligand'> <class 'moddipic.core.data.special_cls.Ligand'>\n",
      "<class 'moddipic.core.data.special_cls.Ligand'> <class 'moddipic.core.data.special_cls.Ligand'>\n"
     ]
    },
    {
     "name": "stderr",
     "output_type": "stream",
     "text": [
      "100%|██████████| 3/3 [00:00<00:00, 51.85it/s]"
     ]
    },
    {
     "name": "stdout",
     "output_type": "stream",
     "text": [
      "\n",
      "[Running Pipe Block: (output) Output Block]\n",
      "\n",
      "<<<<<<<<<<<<<<<<<<<<<<<<<<<<<<<<<<<<<<<<<<<<<<<<<<<<<<<\n",
      "<<                 ENDED: pipeline1                  <<\n",
      "<<<<<<<<<<<<<<<<<<<<<<<<<<<<<<<<<<<<<<<<<<<<<<<<<<<<<<<\n"
     ]
    },
    {
     "name": "stderr",
     "output_type": "stream",
     "text": [
      "\n"
     ]
    }
   ],
   "source": [
    " o = pipeline.execute(ligands=Ligand(smi_rep))"
   ]
  },
  {
   "cell_type": "code",
   "execution_count": 44,
   "metadata": {},
   "outputs": [],
   "source": [
    "assert subprocess.run(\n",
    "    [\"mopac\", \"test.mop\"], capture_output=True).stderr.decode().strip() == \\\n",
    "        \"\"\"MOPAC input data-set file: \"test\" does not exist.\"\"\"\n",
    "from moddipic.modules.mopac.representations import MOPACInputMolRep\n",
    "from moddipic.modules.mopac import (\n",
    "    MOPACLigandSinglePointCalculator, MOPACLigandOptimizer,\n",
    "    MOPACConfig, MOPACMozymeConfig\n",
    ")\n",
    "\n",
    "class Pipeline2(Pipeline):\n",
    "    name = \"pipeline2\"\n",
    "    def build(self):\n",
    "        self.add_block(Pipeline1(base_dir=\".\", debug=True), \n",
    "                        \"3der\")\n",
    "        config_sp = MOPACConfig()\n",
    "        self.add_block(\n",
    "            MOPACLigandSinglePointCalculator(config_sp, debug=True), \"sp1\")\n",
    "        self.add_block(OutputBlock([\"energy\"]), \"output\")\n",
    "        self.add_connection(\"3der\", \"ligands\", \"sp1\", \"ligands\")\n",
    "        self.add_connection(\"sp1\", \"energy\", \"output\", \"energy\")\n"
   ]
  },
  {
   "cell_type": "code",
   "execution_count": 45,
   "metadata": {},
   "outputs": [
    {
     "ename": "AssertionError",
     "evalue": "",
     "output_type": "error",
     "traceback": [
      "\u001b[0;31m---------------------------------------------------------------------------\u001b[0m",
      "\u001b[0;31mAssertionError\u001b[0m                            Traceback (most recent call last)",
      "Cell \u001b[0;32mIn[45], line 1\u001b[0m\n\u001b[0;32m----> 1\u001b[0m pipeline \u001b[38;5;241m=\u001b[39m \u001b[43mPipeline2\u001b[49m\u001b[43m(\u001b[49m\u001b[43m)\u001b[49m\n\u001b[1;32m      2\u001b[0m pipeline\u001b[38;5;241m.\u001b[39mexecute(ligands\u001b[38;5;241m=\u001b[39mLigand(smi_rep))\n",
      "File \u001b[0;32m~/projects/002_sqm/moddipic/core/pipeline.py:313\u001b[0m, in \u001b[0;36mPipeline.__init__\u001b[0;34m(self, base_dir, initiate, debug, save)\u001b[0m\n\u001b[1;32m    310\u001b[0m \u001b[38;5;28mself\u001b[39m\u001b[38;5;241m.\u001b[39m_optional_input_keys \u001b[38;5;241m=\u001b[39m \u001b[38;5;28mlist\u001b[39m()\n\u001b[1;32m    311\u001b[0m \u001b[38;5;28mself\u001b[39m\u001b[38;5;241m.\u001b[39m_force_run_blocks: List[PipelineBlock] \u001b[38;5;241m=\u001b[39m \u001b[38;5;28mlist\u001b[39m()\n\u001b[0;32m--> 313\u001b[0m \u001b[38;5;28;43mself\u001b[39;49m\u001b[38;5;241;43m.\u001b[39;49m\u001b[43mbuild\u001b[49m\u001b[43m(\u001b[49m\u001b[43m)\u001b[49m\n\u001b[1;32m    314\u001b[0m \u001b[38;5;28;01massert\u001b[39;00m \u001b[38;5;124m\"\u001b[39m\u001b[38;5;124moutput\u001b[39m\u001b[38;5;124m\"\u001b[39m \u001b[38;5;129;01min\u001b[39;00m \u001b[38;5;28mself\u001b[39m\u001b[38;5;241m.\u001b[39m_blocks\u001b[38;5;241m.\u001b[39mkeys()\n\u001b[1;32m    315\u001b[0m \u001b[38;5;28;01mif\u001b[39;00m save:\n",
      "Cell \u001b[0;32mIn[44], line 20\u001b[0m, in \u001b[0;36mPipeline2.build\u001b[0;34m(self)\u001b[0m\n\u001b[1;32m     18\u001b[0m \u001b[38;5;28mself\u001b[39m\u001b[38;5;241m.\u001b[39madd_block(OutputBlock([\u001b[38;5;124m\"\u001b[39m\u001b[38;5;124menergy\u001b[39m\u001b[38;5;124m\"\u001b[39m]))\n\u001b[1;32m     19\u001b[0m \u001b[38;5;28mself\u001b[39m\u001b[38;5;241m.\u001b[39madd_connection(\u001b[38;5;124m\"\u001b[39m\u001b[38;5;124m3der\u001b[39m\u001b[38;5;124m\"\u001b[39m, \u001b[38;5;124m\"\u001b[39m\u001b[38;5;124mligands\u001b[39m\u001b[38;5;124m\"\u001b[39m, \u001b[38;5;124m\"\u001b[39m\u001b[38;5;124msp1\u001b[39m\u001b[38;5;124m\"\u001b[39m, \u001b[38;5;124m\"\u001b[39m\u001b[38;5;124mligands\u001b[39m\u001b[38;5;124m\"\u001b[39m)\n\u001b[0;32m---> 20\u001b[0m \u001b[38;5;28;43mself\u001b[39;49m\u001b[38;5;241;43m.\u001b[39;49m\u001b[43madd_connection\u001b[49m\u001b[43m(\u001b[49m\u001b[38;5;124;43m\"\u001b[39;49m\u001b[38;5;124;43msp1\u001b[39;49m\u001b[38;5;124;43m\"\u001b[39;49m\u001b[43m,\u001b[49m\u001b[43m \u001b[49m\u001b[38;5;124;43m\"\u001b[39;49m\u001b[38;5;124;43menergy\u001b[39;49m\u001b[38;5;124;43m\"\u001b[39;49m\u001b[43m,\u001b[49m\u001b[43m \u001b[49m\u001b[38;5;124;43m\"\u001b[39;49m\u001b[38;5;124;43moutput\u001b[39;49m\u001b[38;5;124;43m\"\u001b[39;49m\u001b[43m,\u001b[49m\u001b[43m \u001b[49m\u001b[38;5;124;43m\"\u001b[39;49m\u001b[38;5;124;43menergy\u001b[39;49m\u001b[38;5;124;43m\"\u001b[39;49m\u001b[43m)\u001b[49m\n",
      "File \u001b[0;32m~/projects/002_sqm/moddipic/core/pipeline.py:418\u001b[0m, in \u001b[0;36mPipeline.add_connection\u001b[0;34m(self, source_name, source_key, target_name, target_key, connection_name)\u001b[0m\n\u001b[1;32m    416\u001b[0m \u001b[38;5;28;01massert\u001b[39;00m connection_name \u001b[38;5;129;01mnot\u001b[39;00m \u001b[38;5;129;01min\u001b[39;00m \u001b[38;5;28mself\u001b[39m\u001b[38;5;241m.\u001b[39m_connections\u001b[38;5;241m.\u001b[39mkeys()\n\u001b[1;32m    417\u001b[0m \u001b[38;5;28;01massert\u001b[39;00m source_name \u001b[38;5;129;01min\u001b[39;00m \u001b[38;5;28mself\u001b[39m\u001b[38;5;241m.\u001b[39m_blocks\u001b[38;5;241m.\u001b[39mkeys()\n\u001b[0;32m--> 418\u001b[0m \u001b[38;5;28;01massert\u001b[39;00m target_name \u001b[38;5;129;01min\u001b[39;00m \u001b[38;5;28mself\u001b[39m\u001b[38;5;241m.\u001b[39m_blocks\u001b[38;5;241m.\u001b[39mkeys()\n\u001b[1;32m    420\u001b[0m connection \u001b[38;5;241m=\u001b[39m _Connection(\u001b[38;5;28mself\u001b[39m, \u001b[38;5;28mself\u001b[39m\u001b[38;5;241m.\u001b[39m_blocks[source_name], source_key, \n\u001b[1;32m    421\u001b[0m                          \u001b[38;5;28mself\u001b[39m\u001b[38;5;241m.\u001b[39m_blocks[target_name], target_key)\n\u001b[1;32m    422\u001b[0m \u001b[38;5;28mself\u001b[39m\u001b[38;5;241m.\u001b[39m_connections[connection_name] \u001b[38;5;241m=\u001b[39m connection\n",
      "\u001b[0;31mAssertionError\u001b[0m: "
     ]
    }
   ],
   "source": [
    "pipeline = Pipeline2()\n",
    "pipeline.execute(ligands=Ligand(smi_rep))"
   ]
  },
  {
   "cell_type": "code",
   "execution_count": 43,
   "metadata": {},
   "outputs": [
    {
     "data": {
      "text/plain": [
       "['energy', 'out_path']"
      ]
     },
     "execution_count": 43,
     "metadata": {},
     "output_type": "execute_result"
    }
   ],
   "source": [
    "MOPACLigandSinglePointCalculator.output_keys"
   ]
  },
  {
   "cell_type": "code",
   "execution_count": 29,
   "metadata": {},
   "outputs": [
    {
     "data": {
      "image/png": "[encoded data removed]",
      "text/plain": [
       "<rdkit.Chem.rdchem.Mol at 0x7f55689c4a40>"
      ]
     },
     "execution_count": 29,
     "metadata": {},
     "output_type": "execute_result"
    }
   ],
   "source": [
    "o[\"ligands\"][0].get_data(RDKitMolRep)"
   ]
  },
  {
   "cell_type": "code",
   "execution_count": 41,
   "metadata": {},
   "outputs": [
    {
     "data": {
      "text/plain": [
       "'MOPAC input data-set file: \"test\" does not exist.'"
      ]
     },
     "execution_count": 41,
     "metadata": {},
     "output_type": "execute_result"
    }
   ],
   "source": [
    "import subprocess\n",
    "subprocess.run([\"mopac\", \"test.mop\"], capture_output=True).stderr.decode().strip()"
   ]
  }
 ],
 "metadata": {
  "kernelspec": {
   "display_name": "sqmvscreen2",
   "language": "python",
   "name": "python3"
  },
  "language_info": {
   "codemirror_mode": {
    "name": "ipython",
    "version": 3
   },
   "file_extension": ".py",
   "mimetype": "text/x-python",
   "name": "python",
   "nbconvert_exporter": "python",
   "pygments_lexer": "ipython3",
   "version": "3.10.14"
  }
 },
 "nbformat": 4,
 "nbformat_minor": 2
}
