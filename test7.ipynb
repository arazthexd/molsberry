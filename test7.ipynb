{
 "cells": [
  {
   "cell_type": "code",
   "execution_count": 1,
   "metadata": {},
   "outputs": [],
   "source": [
    "from typing import Any\n",
    "from abc import ABC, abstractmethod\n",
    "\n",
    "from numpy import ndarray\n",
    "from moddipic.core.data.abstract import Representation\n",
    "\n",
    "import pathlib\n",
    "\n",
    "class MoleculeRep(Representation, ABC):\n",
    "    pass\n",
    "\n",
    "class Molecule3DRep(MoleculeRep, ABC):\n",
    "    @abstractmethod\n",
    "    def update_coordinates(self, coords: ndarray):\n",
    "        pass\n",
    "\n",
    "class Molecule1DRep(MoleculeRep, ABC):\n",
    "    pass\n",
    "\n",
    "class SmallMolRep(MoleculeRep, ABC):\n",
    "    pass\n",
    "\n",
    "class MacroMolRep(MoleculeRep, ABC):\n",
    "    pass\n",
    "\n",
    "class SMILESRep(SmallMolRep, Molecule1DRep):\n",
    "    rep_name = \"smiles\"\n",
    "    def __init__(self, smiles: str):\n",
    "        assert isinstance(smiles, str)\n",
    "        super().__init__(data=smiles)\n",
    "\n",
    "class PDBPathRep(SmallMolRep, MacroMolRep, Molecule3DRep):\n",
    "    rep_name = \"pdb_path\"\n",
    "    def __init__(self, path: str):\n",
    "        path = str(pathlib.Path(path).absolute())\n",
    "        assert isinstance(path, str)\n",
    "        super().__init__(data=path)"
   ]
  },
  {
   "cell_type": "code",
   "execution_count": 2,
   "metadata": {},
   "outputs": [
    {
     "data": {
      "text/plain": [
       "True"
      ]
     },
     "execution_count": 2,
     "metadata": {},
     "output_type": "execute_result"
    }
   ],
   "source": [
    "issubclass(PDBPathRep, MoleculeRep)"
   ]
  },
  {
   "cell_type": "code",
   "execution_count": 11,
   "metadata": {},
   "outputs": [],
   "source": [
    "from typing import List, Type\n",
    "\n",
    "from moddipic.core.data.abstract import Data\n",
    "from moddipic.core.data import LigandData\n",
    "\n",
    "class Batched(Data):\n",
    "    def __init__(self, data_list: List[Data]):\n",
    "        self._data_list = data_list \n",
    "        self.obtain_batch_type()\n",
    "        # TODO: Assert if with every branch of the batched tree, type is same.\n",
    "\n",
    "    def obtain_batch_type(self):\n",
    "        selected_data = self._data_list[0]\n",
    "        if isinstance(selected_data, Batched):\n",
    "            btype_child = selected_data.batch_type\n",
    "        elif isinstance(selected_data, Data):\n",
    "            btype_child = [type(selected_data)]\n",
    "        else:\n",
    "            raise ValueError(\"Batch should only consist of Data class.\")\n",
    "\n",
    "        self._batch_type: List[Type] = [Batched] + btype_child\n",
    "    \n",
    "    @property\n",
    "    def batch_type(self):\n",
    "        return self._batch_type # TODO: return in a format easier to understand\n",
    "    \n",
    "    @property\n",
    "    def shallow_dtype(self):\n",
    "        return self._batch_type[1]\n",
    "    \n",
    "    @property\n",
    "    def basic_dtype(self):\n",
    "        return self._batch_type[-1]\n",
    "    \n",
    "    @property\n",
    "    def depth(self):\n",
    "        return len(self._batch_type) - 1\n",
    "    \n",
    "    def __len__(self):\n",
    "        return len(self._data_list)\n",
    "    \n",
    "    def __iter__(self):\n",
    "        return iter(self._data_list)\n",
    "    \n",
    "    def __getitem__(self, index):\n",
    "        return self._data_list[index]"
   ]
  },
  {
   "cell_type": "code",
   "execution_count": 14,
   "metadata": {},
   "outputs": [
    {
     "data": {
      "text/plain": [
       "2"
      ]
     },
     "execution_count": 14,
     "metadata": {},
     "output_type": "execute_result"
    }
   ],
   "source": [
    "Batched((LigandData(SMILESRep(\"C\")), LigandData(SMILESRep(\"CC\"))))._"
   ]
  },
  {
   "cell_type": "code",
   "execution_count": 16,
   "metadata": {},
   "outputs": [
    {
     "data": {
      "text/plain": [
       "True"
      ]
     },
     "execution_count": 16,
     "metadata": {},
     "output_type": "execute_result"
    }
   ],
   "source": [
    "isinstance(LigandData(), Data)"
   ]
  },
  {
   "cell_type": "code",
   "execution_count": 36,
   "metadata": {},
   "outputs": [
    {
     "data": {
      "text/plain": [
       "((1, 1, 1), (2, 2, 2), (3, 3, 3), (4, 4, 4))"
      ]
     },
     "execution_count": 36,
     "metadata": {},
     "output_type": "execute_result"
    }
   ],
   "source": [
    "tuple(zip(*((1, 2, 3, 4), (1, 2, 3, 4), (1, 2, 3, 4))))"
   ]
  },
  {
   "cell_type": "code",
   "execution_count": 11,
   "metadata": {},
   "outputs": [
    {
     "data": {
      "text/plain": [
       "'CCC'"
      ]
     },
     "execution_count": 11,
     "metadata": {},
     "output_type": "execute_result"
    }
   ],
   "source": [
    "from molsberry.core.data import BatchedData, MoleculeData, SMILESRep\n",
    "\n",
    "mol_datas = [MoleculeData(SMILESRep(\"CCC\")), MoleculeData(SMILESRep(\"CC\"))]\n",
    "mol_datas2 = [MoleculeData(SMILESRep(\"CCO\")), MoleculeData(SMILESRep(\"CO\"))]\n",
    "BatchedData.merge([BatchedData(mol_datas), BatchedData(mol_datas2)])[0][0].get_representation(SMILESRep).content"
   ]
  },
  {
   "cell_type": "code",
   "execution_count": 30,
   "metadata": {},
   "outputs": [
    {
     "data": {
      "text/plain": [
       "[({'a': 1, 'b': 4}, {'c': 11}, {'d': repeat('DDD'), 'e': repeat('EEE')}),\n",
       " ({'a': 1, 'b': 4}, {'c': 12}, {'d': repeat('DDD'), 'e': repeat('EEE')}),\n",
       " ({'a': 1, 'b': 4}, {'c': 13}, {'d': repeat('DDD'), 'e': repeat('EEE')}),\n",
       " ({'a': 1, 'b': 4}, {'c': 14}, {'d': repeat('DDD'), 'e': repeat('EEE')}),\n",
       " ({'a': 1, 'b': 4}, {'c': 15}, {'d': repeat('DDD'), 'e': repeat('EEE')}),\n",
       " ({'a': 11, 'b': 4}, {'c': 11}, {'d': repeat('DDD'), 'e': repeat('EEE')}),\n",
       " ({'a': 11, 'b': 4}, {'c': 12}, {'d': repeat('DDD'), 'e': repeat('EEE')}),\n",
       " ({'a': 11, 'b': 4}, {'c': 13}, {'d': repeat('DDD'), 'e': repeat('EEE')}),\n",
       " ({'a': 11, 'b': 4}, {'c': 14}, {'d': repeat('DDD'), 'e': repeat('EEE')}),\n",
       " ({'a': 11, 'b': 4}, {'c': 15}, {'d': repeat('DDD'), 'e': repeat('EEE')}),\n",
       " ({'a': 111, 'b': 4}, {'c': 11}, {'d': repeat('DDD'), 'e': repeat('EEE')}),\n",
       " ({'a': 111, 'b': 4}, {'c': 12}, {'d': repeat('DDD'), 'e': repeat('EEE')}),\n",
       " ({'a': 111, 'b': 4}, {'c': 13}, {'d': repeat('DDD'), 'e': repeat('EEE')}),\n",
       " ({'a': 111, 'b': 4}, {'c': 14}, {'d': repeat('DDD'), 'e': repeat('EEE')}),\n",
       " ({'a': 111, 'b': 4}, {'c': 15}, {'d': repeat('DDD'), 'e': repeat('EEE')})]"
      ]
     },
     "execution_count": 30,
     "metadata": {},
     "output_type": "execute_result"
    }
   ],
   "source": [
    "from molsberry.core.data import Batched, MoleculeData, SMILESRep\n",
    "from itertools import product, repeat\n",
    "\n",
    "d = {\n",
    "    \"a\": [[1, 11, 111], [2, 2, 2], [3, 3, 3]],\n",
    "    \"b\": [4, 5, 6],\n",
    "    \"c\": [11, 12, 13, 14, 15],\n",
    "    \"d\": 'DDD',\n",
    "    \"e\": 'EEE'\n",
    "}\n",
    "paired_keyss = ((\"a\", \"b\"), (\"c\", ))\n",
    "\n",
    "d = {k: v if isinstance(v, list) else repeat(v) for k, v in d.items()}\n",
    "\n",
    "g1_keys = paired_keyss[0]\n",
    "g1_pair = [\n",
    "    dict(zip(g1_keys, vs)) for vs in zip(*[d[k] for k in g1_keys])\n",
    "]\n",
    "g2_keys = paired_keyss[1]\n",
    "g2_pair = [\n",
    "    dict(zip(g2_keys, vs)) for vs in zip(*[d[k] for k in g2_keys])\n",
    "]\n",
    "g3_keys = [\"d\", \"e\"]\n",
    "g3_pair = [{k: v for k, v in d.items() if k in g3_keys}]\n",
    "\n",
    "\n",
    "it = product(g1_pair, g2_pair, g3_pair)\n",
    "ms = next(it)\n",
    "dd = ms[0]\n",
    "[dd.update(m) for m in ms]\n",
    "dd = {k: v if isinstance(v, list) else repeat(v) for k, v in dd.items()}\n",
    "\n",
    "g1_pair = [\n",
    "    dict(zip(g1_keys, vs)) for vs in zip(*[dd[k] for k in g1_keys])\n",
    "]\n",
    "g2_pair = [\n",
    "    dict(zip(g2_keys, vs)) for vs in zip(*[d[k] for k in g2_keys])\n",
    "]\n",
    "g3_pair = [{k: v for k, v in d.items() if k in g3_keys}]\n",
    "\n",
    "list(product(g1_pair, g2_pair, g3_pair))"
   ]
  },
  {
   "cell_type": "code",
   "execution_count": 29,
   "metadata": {},
   "outputs": [
    {
     "data": {
      "text/plain": [
       "[{'d': repeat('DDD'), 'e': repeat('EEE')}]"
      ]
     },
     "execution_count": 29,
     "metadata": {},
     "output_type": "execute_result"
    }
   ],
   "source": [
    "g3_pair"
   ]
  },
  {
   "cell_type": "code",
   "execution_count": 24,
   "metadata": {},
   "outputs": [
    {
     "data": {
      "text/plain": [
       "[{'a': [1, 11, 111], 'b': 4, 'c': 11, 'd': 'DDD', 'e': 'EEE'},\n",
       " {'a': [2, 2, 2], 'b': 5},\n",
       " {'a': [3, 3, 3], 'b': 6}]"
      ]
     },
     "execution_count": 24,
     "metadata": {},
     "output_type": "execute_result"
    }
   ],
   "source": [
    "g1_pair"
   ]
  },
  {
   "cell_type": "code",
   "execution_count": 26,
   "metadata": {},
   "outputs": [
    {
     "data": {
      "text/plain": [
       "{'a': [1, 11, 111],\n",
       " 'b': repeat(4),\n",
       " 'c': repeat(11),\n",
       " 'd': repeat(repeat('DDD')),\n",
       " 'e': repeat(repeat('EEE'))}"
      ]
     },
     "execution_count": 26,
     "metadata": {},
     "output_type": "execute_result"
    }
   ],
   "source": [
    "dd"
   ]
  },
  {
   "cell_type": "code",
   "execution_count": 11,
   "metadata": {},
   "outputs": [
    {
     "data": {
      "text/plain": [
       "<zip at 0x7fa64b4fbf40>"
      ]
     },
     "execution_count": 11,
     "metadata": {},
     "output_type": "execute_result"
    }
   ],
   "source": [
    "g3_pair"
   ]
  },
  {
   "cell_type": "code",
   "execution_count": 10,
   "metadata": {},
   "outputs": [
    {
     "data": {
      "text/plain": [
       "[({'a': 1, 'b': 4}, {'c': 11}),\n",
       " ({'a': 1, 'b': 4}, {'c': 12}),\n",
       " ({'a': 1, 'b': 4}, {'c': 13}),\n",
       " ({'a': 1, 'b': 4}, {'c': 14}),\n",
       " ({'a': 1, 'b': 4}, {'c': 15}),\n",
       " ({'a': 2, 'b': 5}, {'c': 11}),\n",
       " ({'a': 2, 'b': 5}, {'c': 12}),\n",
       " ({'a': 2, 'b': 5}, {'c': 13}),\n",
       " ({'a': 2, 'b': 5}, {'c': 14}),\n",
       " ({'a': 2, 'b': 5}, {'c': 15}),\n",
       " ({'a': 3, 'b': 6}, {'c': 11}),\n",
       " ({'a': 3, 'b': 6}, {'c': 12}),\n",
       " ({'a': 3, 'b': 6}, {'c': 13}),\n",
       " ({'a': 3, 'b': 6}, {'c': 14}),\n",
       " ({'a': 3, 'b': 6}, {'c': 15})]"
      ]
     },
     "execution_count": 10,
     "metadata": {},
     "output_type": "execute_result"
    }
   ],
   "source": [
    "list(product(*[\n",
    "    [\n",
    "        dict(zip(paired_keys, vs)) for vs in zip(*[d[k] for k in paired_keys])\n",
    "    ] for paired_keys in paired_keyss\n",
    "]))"
   ]
  },
  {
   "cell_type": "code",
   "execution_count": 12,
   "metadata": {},
   "outputs": [
    {
     "name": "stdout",
     "output_type": "stream",
     "text": [
      "[{'a': 1, 'b': 4, 'c': 11}, {'a': 1, 'b': 4, 'c': 12}, {'a': 1, 'b': 4, 'c': 13}, {'a': 1, 'b': 4, 'c': 14}, {'a': 1, 'b': 4, 'c': 15}, {'a': 2, 'b': 5, 'c': 11}, {'a': 2, 'b': 5, 'c': 12}, {'a': 2, 'b': 5, 'c': 13}, {'a': 2, 'b': 5, 'c': 14}, {'a': 2, 'b': 5, 'c': 15}, {'a': 3, 'b': 6, 'c': 11}, {'a': 3, 'b': 6, 'c': 12}, {'a': 3, 'b': 6, 'c': 13}, {'a': 3, 'b': 6, 'c': 14}, {'a': 3, 'b': 6, 'c': 15}]\n"
     ]
    }
   ],
   "source": [
    "data = [({'a': 1, 'b': 4}, {'c': 11}),\n",
    "         ({'a': 1, 'b': 4}, {'c': 12}),\n",
    "         ({'a': 1, 'b': 4}, {'c': 13}),\n",
    "         ({'a': 1, 'b': 4}, {'c': 14}),\n",
    "         ({'a': 1, 'b': 4}, {'c': 15}),\n",
    "         ({'a': 2, 'b': 5}, {'c': 11}),\n",
    "         ({'a': 2, 'b': 5}, {'c': 12}),\n",
    "         ({'a': 2, 'b': 5}, {'c': 13}),\n",
    "         ({'a': 2, 'b': 5}, {'c': 14}),\n",
    "         ({'a': 2, 'b': 5}, {'c': 15}),\n",
    "         ({'a': 3, 'b': 6}, {'c': 11}),\n",
    "         ({'a': 3, 'b': 6}, {'c': 12}),\n",
    "         ({'a': 3, 'b': 6}, {'c': 13}),\n",
    "         ({'a': 3, 'b': 6}, {'c': 14}),\n",
    "         ({'a': 3, 'b': 6}, {'c': 15})]\n",
    "\n",
    "merged_data = [{**dict1, **dict2} for dict1, dict2 in data]\n",
    "print(merged_data)\n"
   ]
  },
  {
   "cell_type": "code",
   "execution_count": 33,
   "metadata": {},
   "outputs": [
    {
     "data": {
      "text/plain": [
       "[{'a': 1, 'b': 4}, {'a': 2, 'b': 5}, {'a': 3, 'b': 6}]"
      ]
     },
     "execution_count": 33,
     "metadata": {},
     "output_type": "execute_result"
    }
   ],
   "source": [
    "list_of_dicts"
   ]
  },
  {
   "cell_type": "code",
   "execution_count": 1,
   "metadata": {},
   "outputs": [
    {
     "data": {
      "text/plain": [
       "0"
      ]
     },
     "execution_count": 1,
     "metadata": {},
     "output_type": "execute_result"
    }
   ],
   "source": [
    "('ligands',).index('ligands')"
   ]
  },
  {
   "cell_type": "code",
   "execution_count": 4,
   "metadata": {},
   "outputs": [
    {
     "data": {
      "text/plain": [
       "1"
      ]
     },
     "execution_count": 4,
     "metadata": {},
     "output_type": "execute_result"
    }
   ],
   "source": [
    "class A:\n",
    "    def __init__(self, a):\n",
    "        self.a = a\n",
    "    \n",
    "    def give(self):\n",
    "        return self.a\n",
    "\n",
    "c = A(1)\n",
    "x = c.give\n",
    "x()"
   ]
  }
 ],
 "metadata": {
  "kernelspec": {
   "display_name": "sqmvscreen2",
   "language": "python",
   "name": "python3"
  },
  "language_info": {
   "codemirror_mode": {
    "name": "ipython",
    "version": 3
   },
   "file_extension": ".py",
   "mimetype": "text/x-python",
   "name": "python",
   "nbconvert_exporter": "python",
   "pygments_lexer": "ipython3",
   "version": "3.10.14"
  }
 },
 "nbformat": 4,
 "nbformat_minor": 2
}
