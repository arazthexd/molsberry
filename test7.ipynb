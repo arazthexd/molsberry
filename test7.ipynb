{
 "cells": [
  {
   "cell_type": "code",
   "execution_count": 1,
   "metadata": {},
   "outputs": [],
   "source": [
    "from typing import Any\n",
    "from abc import ABC, abstractmethod\n",
    "\n",
    "from numpy import ndarray\n",
    "from moddipic.core.data.abstract import Representation\n",
    "\n",
    "import pathlib\n",
    "\n",
    "class MoleculeRep(Representation, ABC):\n",
    "    pass\n",
    "\n",
    "class Molecule3DRep(MoleculeRep, ABC):\n",
    "    @abstractmethod\n",
    "    def update_coordinates(self, coords: ndarray):\n",
    "        pass\n",
    "\n",
    "class Molecule1DRep(MoleculeRep, ABC):\n",
    "    pass\n",
    "\n",
    "class SmallMolRep(MoleculeRep, ABC):\n",
    "    pass\n",
    "\n",
    "class MacroMolRep(MoleculeRep, ABC):\n",
    "    pass\n",
    "\n",
    "class SMILESRep(SmallMolRep, Molecule1DRep):\n",
    "    rep_name = \"smiles\"\n",
    "    def __init__(self, smiles: str):\n",
    "        assert isinstance(smiles, str)\n",
    "        super().__init__(data=smiles)\n",
    "\n",
    "class PDBPathRep(SmallMolRep, MacroMolRep, Molecule3DRep):\n",
    "    rep_name = \"pdb_path\"\n",
    "    def __init__(self, path: str):\n",
    "        path = str(pathlib.Path(path).absolute())\n",
    "        assert isinstance(path, str)\n",
    "        super().__init__(data=path)"
   ]
  },
  {
   "cell_type": "code",
   "execution_count": 3,
   "metadata": {},
   "outputs": [
    {
     "data": {
      "text/plain": [
       "True"
      ]
     },
     "execution_count": 3,
     "metadata": {},
     "output_type": "execute_result"
    }
   ],
   "source": [
    "issubclass(PDBPathRep, MoleculeRep)"
   ]
  }
 ],
 "metadata": {
  "kernelspec": {
   "display_name": "sqmvscreen2",
   "language": "python",
   "name": "python3"
  },
  "language_info": {
   "codemirror_mode": {
    "name": "ipython",
    "version": 3
   },
   "file_extension": ".py",
   "mimetype": "text/x-python",
   "name": "python",
   "nbconvert_exporter": "python",
   "pygments_lexer": "ipython3",
   "version": "3.10.14"
  }
 },
 "nbformat": 4,
 "nbformat_minor": 2
}
